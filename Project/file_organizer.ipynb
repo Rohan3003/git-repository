{
 "cells": [
  {
   "cell_type": "code",
   "execution_count": 2,
   "metadata": {},
   "outputs": [],
   "source": [
    "# code that organizes files in a directory into videos, documents, images, and others\n",
    "import os\n",
    "import shutil\n",
    "from pathlib import Path\n",
    "\n",
    "\n",
    "# Path to the directory to be organized\n",
    "path = Path(r'E:\\others\\DELL vosto')\n",
    "\n",
    "# Path to the directory where the files will be organized\n",
    "organized_path = Path(r'E:\\Dell vostro organized')\n",
    "\n",
    "# List of file extensions to be organized\n",
    "videos = ['.mp4', '.mkv', '.webm', '.flv', '.avi', '.mov', '.wmv', '.amv', '.mpg', '.mpeg', '.3gp']\n",
    "documents = ['.pdf', '.docx', '.doc', '.txt', '.ppt', '.pptx', '.xls', '.xlsx', '.csv', '.odt', '.ods', '.odp', '.odg', '.odf', '.rtf', '.tex', '.wpd']\n",
    "images = ['.jpg', '.jpeg', '.png', '.gif', '.tiff', '.psd', '.bmp', '.ico', '.svg', '.ai', '.webp', '.eps', '.raw', '.cr2', '.nef', '.orf', '.sr2', '.tif']\n",
    "#others = ['*.*', '.parts']\n",
    "\n",
    "# Function to organize files\n",
    "def organize(path, organized_path):\n",
    "    for file in os.listdir(path):\n",
    "        file_path = path / file\n",
    "        if file_path.is_file():\n",
    "            if file_path.suffix in videos:\n",
    "                videos_dir = organized_path / 'videos'\n",
    "                if not os.path.exists(videos_dir):\n",
    "                    os.makedirs(videos_dir)\n",
    "                shutil.move(str(file_path), str(videos_dir))\n",
    "            elif file_path.suffix in documents:\n",
    "                documents_dir = organized_path / 'documents'\n",
    "                if not os.path.exists(documents_dir):\n",
    "                    os.makedirs(documents_dir)\n",
    "                shutil.move(str(file_path), str(documents_dir))\n",
    "            elif file_path.suffix in images:\n",
    "                images_dir = organized_path / 'images'\n",
    "                if not os.path.exists(images_dir):\n",
    "                    os.makedirs(images_dir)\n",
    "                shutil.move(str(file_path), str(images_dir))\n",
    "            else:\n",
    "                others_dir = organized_path / 'others'\n",
    "                if not os.path.exists(others_dir):\n",
    "                    os.makedirs(others_dir)\n",
    "                shutil.move(str(file_path), str(others_dir))\n",
    "\n",
    "# code to organize the files sorted by the date from latest to oldest\n",
    "#def organize_by_date(path, organized_path):\n",
    "    \n",
    "\n",
    "# Call the function to organize files\n",
    "organize(path, organized_path)"
   ]
  },
  {
   "cell_type": "code",
   "execution_count": 3,
   "metadata": {},
   "outputs": [
    {
     "name": "stdout",
     "output_type": "stream",
     "text": [
      "This part of text contains the error description.\n",
      "\n"
     ]
    }
   ],
   "source": []
  },
  {
   "cell_type": "code",
   "execution_count": null,
   "metadata": {},
   "outputs": [],
   "source": [
    "\n",
    "\n"
   ]
  }
 ],
 "metadata": {
  "kernelspec": {
   "display_name": "base",
   "language": "python",
   "name": "python3"
  },
  "language_info": {
   "codemirror_mode": {
    "name": "ipython",
    "version": 3
   },
   "file_extension": ".py",
   "mimetype": "text/x-python",
   "name": "python",
   "nbconvert_exporter": "python",
   "pygments_lexer": "ipython3",
   "version": "3.11.7"
  },
  "orig_nbformat": 4
 },
 "nbformat": 4,
 "nbformat_minor": 2
}
