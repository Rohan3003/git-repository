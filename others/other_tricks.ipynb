{
 "cells": [
  {
   "cell_type": "code",
   "execution_count": null,
   "metadata": {},
   "outputs": [],
   "source": [
    "# infinite function\n",
    "def func(param : str):\n",
    "    print(param)\n",
    "    return func\n",
    "\n",
    "func('A')"
   ]
  },
  {
   "cell_type": "code",
   "execution_count": null,
   "metadata": {},
   "outputs": [],
   "source": [
    "# infinite function to loop over a function\n",
    "def func(param : str):\n",
    "    print(param)\n",
    "    return func\n",
    "    \n",
    "func('A')('B')('C')"
   ]
  },
  {
   "cell_type": "code",
   "execution_count": null,
   "metadata": {},
   "outputs": [],
   "source": [
    "# Remove elements from a list while looping\n",
    "a = [1,2,2,3]\n",
    "def even(x):\n",
    "    '''This function takes x as argument and \n",
    "    evaluates if a number is even & returns True else False'''\n",
    "    return x % 2 == 0 \n",
    "\n",
    "for item in a :\n",
    "    if even(item):\n",
    "        print(a.index(item))\n",
    "        a.remove(item)\n",
    "a\n",
    "# But here is an error since 2 is even but get removed \n",
    "# this error happened because for each i"
   ]
  },
  {
   "attachments": {},
   "cell_type": "markdown",
   "metadata": {},
   "source": [
    "#### How to check if file exits or not"
   ]
  },
  {
   "cell_type": "code",
   "execution_count": null,
   "metadata": {},
   "outputs": [],
   "source": [
    "# EAFP - Easier to ask for forgiveness than permisssion\n",
    "# try-except-else block\n"
   ]
  },
  {
   "attachments": {},
   "cell_type": "markdown",
   "metadata": {},
   "source": [
    "#### To run a system command using python\n",
    "\n",
    "We can use either subprocess module or os module. subprocess module is more powerfull."
   ]
  },
  {
   "cell_type": "code",
   "execution_count": null,
   "metadata": {},
   "outputs": [],
   "source": [
    "import subprocess\n",
    "subprocess.run([\"ls\", \"-l\"])"
   ]
  },
  {
   "cell_type": "code",
   "execution_count": null,
   "metadata": {},
   "outputs": [],
   "source": [
    "import os\n",
    "os.system(\"ls -l\")"
   ]
  },
  {
   "cell_type": "code",
   "execution_count": null,
   "metadata": {},
   "outputs": [],
   "source": [
    "# to check index differece at specfic position\n",
    "\n",
    "a = 'abcdf'\n",
    "b = 'abcde'\n",
    "\n",
    "zip_value = zip(a,b)\n",
    "zip_list = list(zip_value)\n",
    "#print(zip_list)\n",
    "\n",
    "zip_list_index = list(enumerate(zip_list))\n",
    "#print(zip_list_index)\n",
    "\n",
    "for index, (a,b) in zip_list_index:\n",
    "    if a!=b:\n",
    "        print(f\"index error at {index}\")"
   ]
  },
  {
   "cell_type": "code",
   "execution_count": null,
   "metadata": {},
   "outputs": [],
   "source": [
    "# uuid module \n",
    "dict_user = {'Maria':1,\n",
    "            'James':2}\n",
    "            \n",
    "for key, values in dict_user.items():\n",
    "    print(key, values, sep = \" : \")\n",
    "\n",
    "print()\n",
    "print('---------using uuids------------')\n",
    "print()\n",
    "# uuid module \n",
    "from uuid import uuid4\n",
    "dict_user = {'Maria': uuid4(),\n",
    "            'James': uuid4() }\n",
    "            \n",
    "for key, values in dict_user.items():\n",
    "    print(key, values, sep = \" : \")"
   ]
  },
  {
   "cell_type": "code",
   "execution_count": 6,
   "metadata": {},
   "outputs": [
    {
     "name": "stdout",
     "output_type": "stream",
     "text": [
      "Running 1000 lines of code\n",
      "2\n",
      "Running 1000 lines of code\n",
      "3\n",
      "Running 1000 lines of code\n",
      "4\n",
      "Running 1000 lines of code\n",
      "2\n"
     ]
    }
   ],
   "source": [
    "# increment function is an expensive computaion code and runs 1000 lines of code \n",
    "# increment(1) input is happening mutiple times at line 8 and line 11\n",
    "\n",
    "def increment(num):\n",
    "    print('Running 1000 lines of code')\n",
    "    return num + 1\n",
    "\n",
    "print(increment(1))\n",
    "print(increment(2))\n",
    "print(increment(3))\n",
    "print(increment(1))"
   ]
  },
  {
   "cell_type": "code",
   "execution_count": null,
   "metadata": {},
   "outputs": [],
   "source": [
    "\n",
    "# using lru_cache from functools module to store the output for same input into memory\n",
    "from functools import lru_cache\n",
    "\n",
    "@lru_cache(maxsize=None) #lru_cache is added as a decorator to the functions\n",
    "def increament(num):\n",
    "    print('Running 1000 lines of code')\n",
    "    return num + 1\n",
    "\n",
    "print(increament(1))\n",
    "print(increament(2))\n",
    "print(increament(3))\n",
    "print(increament(1))"
   ]
  },
  {
   "cell_type": "code",
   "execution_count": null,
   "metadata": {},
   "outputs": [],
   "source": [
    "import os\n",
    "try:\n",
    "    file_path = os.getcwd() + \"\\\\test.txt\"   # using escape sequence \\\\\n",
    "    print(file_path)\n",
    "    file = open(file=file_path)\n",
    "    file.close\n",
    "except FileNotFoundError:\n",
    "    print('The file does not exist or cannot be found')"
   ]
  },
  {
   "cell_type": "code",
   "execution_count": null,
   "metadata": {},
   "outputs": [],
   "source": [
    "# Context Manager using \"with\" Statement - tHis is considered as a best practice\n",
    "# Benefit of using \"with\" as a context manager is that we no need close manually like what we \n",
    "# did at line no 6. \n",
    "file = open(file='sample_file.txt')\n",
    "file.read()\n",
    "file.close()\n",
    "\n",
    "with open('sample_file.txt') as f:\n",
    "    file_read = f.read()\n",
    "\n",
    "file_read"
   ]
  },
  {
   "cell_type": "code",
   "execution_count": null,
   "metadata": {},
   "outputs": [],
   "source": [
    "# Walrus operator \n",
    "\n",
    "a = 1112\n",
    "print(a)\n",
    "\n",
    "print(b := 10)"
   ]
  },
  {
   "cell_type": "code",
   "execution_count": 15,
   "metadata": {},
   "outputs": [],
   "source": [
    "# cycle \n",
    "# to generate traffic light based on time given\n",
    "import time\n",
    "lights = [\n",
    "        ('Green',0.5),\n",
    "        ('Yellow',1),\n",
    "        ('Red',2),\n",
    "        ]\n",
    "\n",
    "i = 0\n",
    "while True:\n",
    "    color, time_duration = lights[i]\n",
    "    print(color)\n",
    "    time.sleep(time_duration)\n",
    "    i+=1\n",
    "    if i == len(lights):\n",
    "        i = 0 "
   ]
  },
  {
   "cell_type": "code",
   "execution_count": 19,
   "metadata": {},
   "outputs": [
    {
     "name": "stdout",
     "output_type": "stream",
     "text": [
      "Green\n",
      "Yellow\n",
      "Red\n",
      "Green\n",
      "Yellow\n",
      "Red\n",
      "Green\n",
      "Yellow\n"
     ]
    },
    {
     "ename": "KeyboardInterrupt",
     "evalue": "",
     "output_type": "error",
     "traceback": [
      "\u001b[1;31m---------------------------------------------------------------------------\u001b[0m",
      "\u001b[1;31mKeyboardInterrupt\u001b[0m                         Traceback (most recent call last)",
      "\u001b[1;32m<ipython-input-19-0c21aff0bb3a>\u001b[0m in \u001b[0;36m<module>\u001b[1;34m()\u001b[0m\n\u001b[0;32m     11\u001b[0m     \u001b[0mc\u001b[0m\u001b[1;33m,\u001b[0m \u001b[0ms\u001b[0m \u001b[1;33m=\u001b[0m \u001b[0mnext\u001b[0m\u001b[1;33m(\u001b[0m\u001b[0mcolors\u001b[0m\u001b[1;33m)\u001b[0m\u001b[1;33m\u001b[0m\u001b[0m\n\u001b[0;32m     12\u001b[0m     \u001b[0mprint\u001b[0m\u001b[1;33m(\u001b[0m\u001b[0mc\u001b[0m\u001b[1;33m)\u001b[0m\u001b[1;33m\u001b[0m\u001b[0m\n\u001b[1;32m---> 13\u001b[1;33m     \u001b[0mtime\u001b[0m\u001b[1;33m.\u001b[0m\u001b[0msleep\u001b[0m\u001b[1;33m(\u001b[0m\u001b[0ms\u001b[0m\u001b[1;33m)\u001b[0m\u001b[1;33m\u001b[0m\u001b[0m\n\u001b[0m",
      "\u001b[1;31mKeyboardInterrupt\u001b[0m: "
     ]
    }
   ],
   "source": [
    "# use cycle method to do this.\n",
    "import time \n",
    "from itertools import cycle\n",
    "lights = [\n",
    "        ('Green',0.5),\n",
    "        ('Yellow',1),\n",
    "        ('Red',2),\n",
    "        ]\n",
    "colors = cycle(lights)\n",
    "while True:\n",
    "    c, s = next(colors)\n",
    "    print(c)\n",
    "    time.sleep(s)"
   ]
  },
  {
   "cell_type": "code",
   "execution_count": 27,
   "metadata": {},
   "outputs": [
    {
     "name": "stdout",
     "output_type": "stream",
     "text": [
      "2023-06-19 11:05:32.985534\n",
      "19.06.2023\n",
      "19.06.2023 11:05:32\n"
     ]
    }
   ],
   "source": [
    "# formatting datetime in f-string \n",
    "from datetime import datetime\n",
    "now = datetime.now()\n",
    "print(now)\n",
    "\n",
    "print(f'{now:%d.%m.%Y}')\n",
    "print(f'{now:%d.%m.%Y %H:%M:%S}')"
   ]
  },
  {
   "attachments": {},
   "cell_type": "markdown",
   "metadata": {},
   "source": [
    "assert statement"
   ]
  },
  {
   "cell_type": "code",
   "execution_count": 34,
   "metadata": {},
   "outputs": [],
   "source": [
    "x = 1\n",
    "assert x > 0, \"x should be greater than 0\""
   ]
  },
  {
   "cell_type": "code",
   "execution_count": 35,
   "metadata": {},
   "outputs": [
    {
     "ename": "AssertionError",
     "evalue": "x should be greater than 0",
     "output_type": "error",
     "traceback": [
      "\u001b[1;31m---------------------------------------------------------------------------\u001b[0m",
      "\u001b[1;31mAssertionError\u001b[0m                            Traceback (most recent call last)",
      "\u001b[1;32m<ipython-input-35-00c7856b96ca>\u001b[0m in \u001b[0;36m<module>\u001b[1;34m()\u001b[0m\n\u001b[0;32m      1\u001b[0m \u001b[0mx\u001b[0m \u001b[1;33m=\u001b[0m \u001b[1;33m-\u001b[0m\u001b[1;36m1\u001b[0m\u001b[1;33m\u001b[0m\u001b[0m\n\u001b[1;32m----> 2\u001b[1;33m \u001b[1;32massert\u001b[0m \u001b[0mx\u001b[0m \u001b[1;33m>\u001b[0m \u001b[1;36m0\u001b[0m\u001b[1;33m,\u001b[0m \u001b[1;34m\"x should be greater than 0\"\u001b[0m\u001b[1;33m\u001b[0m\u001b[0m\n\u001b[0m",
      "\u001b[1;31mAssertionError\u001b[0m: x should be greater than 0"
     ]
    }
   ],
   "source": [
    "x = -1\n",
    "assert x > 0, \"x should be greater than 0\""
   ]
  },
  {
   "cell_type": "code",
   "execution_count": 37,
   "metadata": {},
   "outputs": [],
   "source": [
    "list_assert = [1,2,3]\n",
    "assert len(list_assert) == 3, \"list should have 3 elements\""
   ]
  },
  {
   "cell_type": "code",
   "execution_count": 38,
   "metadata": {},
   "outputs": [
    {
     "ename": "AssertionError",
     "evalue": "list should have 3 elements",
     "output_type": "error",
     "traceback": [
      "\u001b[1;31m---------------------------------------------------------------------------\u001b[0m",
      "\u001b[1;31mAssertionError\u001b[0m                            Traceback (most recent call last)",
      "\u001b[1;32m<ipython-input-38-502dbbaac32b>\u001b[0m in \u001b[0;36m<module>\u001b[1;34m()\u001b[0m\n\u001b[0;32m      1\u001b[0m \u001b[0mlist_assert\u001b[0m \u001b[1;33m=\u001b[0m \u001b[1;33m[\u001b[0m\u001b[1;36m1\u001b[0m\u001b[1;33m,\u001b[0m\u001b[1;36m2\u001b[0m\u001b[1;33m,\u001b[0m\u001b[1;36m3\u001b[0m\u001b[1;33m,\u001b[0m \u001b[1;36m4\u001b[0m\u001b[1;33m]\u001b[0m\u001b[1;33m\u001b[0m\u001b[0m\n\u001b[1;32m----> 2\u001b[1;33m \u001b[1;32massert\u001b[0m \u001b[0mlen\u001b[0m\u001b[1;33m(\u001b[0m\u001b[0mlist_assert\u001b[0m\u001b[1;33m)\u001b[0m \u001b[1;33m==\u001b[0m \u001b[1;36m3\u001b[0m\u001b[1;33m,\u001b[0m \u001b[1;34m\"list should have 3 elements\"\u001b[0m\u001b[1;33m\u001b[0m\u001b[0m\n\u001b[0m",
      "\u001b[1;31mAssertionError\u001b[0m: list should have 3 elements"
     ]
    }
   ],
   "source": [
    "list_assert = [1,2,3,4]\n",
    "assert len(list_assert) == 3, \"list should have 3 elements\""
   ]
  },
  {
   "cell_type": "code",
   "execution_count": null,
   "metadata": {},
   "outputs": [],
   "source": []
  },
  {
   "cell_type": "code",
   "execution_count": 2,
   "metadata": {},
   "outputs": [
    {
     "name": "stdout",
     "output_type": "stream",
     "text": [
      "Package                            Version\n",
      "---------------------------------- ---------\n",
      "alabaster                          0.7.11\n",
      "anaconda-client                    1.7.2\n",
      "anaconda-navigator                 1.9.2\n",
      "anaconda-project                   0.8.2\n",
      "appdirs                            1.4.3\n",
      "asn1crypto                         0.24.0\n",
      "astroid                            2.0.4\n",
      "astropy                            3.0.4\n",
      "atomicwrites                       1.2.1\n",
      "attrs                              18.2.0\n",
      "Automat                            0.7.0\n",
      "Babel                              2.6.0\n",
      "backcall                           0.1.0\n",
      "backports.shutil-get-terminal-size 1.0.0\n",
      "beautifulsoup4                     4.6.3\n",
      "bitarray                           0.8.3\n",
      "bkcharts                           0.2\n",
      "blaze                              0.11.3\n",
      "bleach                             2.1.4\n",
      "bokeh                              0.13.0\n",
      "boto                               2.49.0\n",
      "Bottleneck                         1.2.1\n",
      "certifi                            2018.8.24\n",
      "cffi                               1.11.5\n",
      "chardet                            3.0.4\n",
      "click                              6.7\n",
      "cloudpickle                        0.5.5\n",
      "clyent                             1.2.2\n",
      "colorama                           0.3.9\n",
      "comtypes                           1.1.7\n",
      "conda                              4.5.11\n",
      "conda-build                        3.15.1\n",
      "constantly                         15.1.0\n",
      "contextlib2                        0.5.5\n",
      "cryptography                       2.3.1\n",
      "cycler                             0.10.0\n",
      "Cython                             0.28.5\n",
      "cytoolz                            0.9.0.1\n",
      "dask                               0.19.1\n",
      "datashape                          0.5.4\n",
      "decorator                          4.3.0\n",
      "defusedxml                         0.5.0\n",
      "distributed                        1.23.1\n",
      "docutils                           0.14\n",
      "entrypoints                        0.2.3\n",
      "et-xmlfile                         1.0.1\n",
      "fastcache                          1.0.2\n",
      "filelock                           3.0.8\n",
      "Flask                              1.0.2\n",
      "Flask-Cors                         3.0.6\n",
      "gevent                             1.3.6\n",
      "glob2                              0.6\n",
      "greenlet                           0.4.15\n",
      "h5py                               2.8.0\n",
      "heapdict                           1.0.0\n",
      "html5lib                           1.0.1\n",
      "hyperlink                          18.0.0\n",
      "idna                               2.7\n",
      "imageio                            2.4.1\n",
      "imagesize                          1.1.0\n",
      "incremental                        17.5.0\n",
      "ipykernel                          4.10.0\n",
      "ipython                            6.5.0\n",
      "ipython_genutils                   0.2.0\n",
      "ipywidgets                         7.4.1\n",
      "isort                              4.3.4\n",
      "itsdangerous                       0.24\n",
      "jdcal                              1.4\n",
      "jedi                               0.12.1\n",
      "Jinja2                             2.10\n",
      "jsonschema                         2.6.0\n",
      "jupyter                            1.0.0\n",
      "jupyter-client                     5.2.3\n",
      "jupyter-console                    5.2.0\n",
      "jupyter-core                       4.4.0\n",
      "jupyterlab                         0.34.9\n",
      "jupyterlab-launcher                0.13.1\n",
      "keyring                            13.2.1\n",
      "kiwisolver                         1.0.1\n",
      "lazy-object-proxy                  1.3.1\n",
      "llvmlite                           0.24.0\n",
      "locket                             0.2.0\n",
      "lxml                               4.2.5\n",
      "MarkupSafe                         1.0\n",
      "matplotlib                         2.2.3\n",
      "mccabe                             0.6.1\n",
      "menuinst                           1.4.14\n",
      "mistune                            0.8.3\n",
      "mkl-fft                            1.0.4\n",
      "mkl-random                         1.0.1\n",
      "more-itertools                     4.3.0\n",
      "mpmath                             1.0.0\n",
      "msgpack                            0.5.6\n",
      "multipledispatch                   0.6.0\n",
      "navigator-updater                  0.2.1\n",
      "nbconvert                          5.4.0\n",
      "nbformat                           4.4.0\n",
      "networkx                           2.1\n",
      "nltk                               3.3\n",
      "nose                               1.3.7\n",
      "notebook                           5.6.0\n",
      "numba                              0.39.0\n",
      "numexpr                            2.6.8\n",
      "numpy                              1.15.1\n",
      "numpydoc                           0.8.0\n",
      "odo                                0.5.1\n",
      "olefile                            0.46\n",
      "openpyxl                           2.5.6\n",
      "packaging                          17.1\n",
      "pandas                             0.23.4\n",
      "pandocfilters                      1.4.2\n",
      "parso                              0.3.1\n",
      "partd                              0.3.8\n",
      "path.py                            11.1.0\n",
      "pathlib2                           2.3.2\n",
      "patsy                              0.5.0\n",
      "pep8                               1.7.1\n",
      "pickleshare                        0.7.4\n",
      "Pillow                             5.2.0\n",
      "pip                                23.1.2\n",
      "pkginfo                            1.4.2\n",
      "pluggy                             0.7.1\n",
      "ply                                3.11\n",
      "prometheus-client                  0.3.1\n",
      "prompt-toolkit                     1.0.15\n",
      "psutil                             5.4.7\n",
      "py                                 1.6.0\n",
      "pyasn1                             0.4.4\n",
      "pyasn1-modules                     0.2.2\n",
      "pycodestyle                        2.4.0\n",
      "pycosat                            0.6.3\n",
      "pycparser                          2.18\n",
      "pycrypto                           2.6.1\n",
      "pycurl                             7.43.0.2\n",
      "pyflakes                           2.0.0\n",
      "Pygments                           2.2.0\n",
      "pyler                              0.2.0\n",
      "pylint                             2.1.1\n",
      "pyodbc                             4.0.24\n",
      "pyOpenSSL                          18.0.0\n",
      "pyparsing                          2.2.0\n",
      "PySocks                            1.6.8\n",
      "pytest                             3.8.0\n",
      "pytest-arraydiff                   0.2\n",
      "pytest-astropy                     0.4.0\n",
      "pytest-doctestplus                 0.1.3\n",
      "pytest-openfiles                   0.3.0\n",
      "pytest-remotedata                  0.3.0\n",
      "python-dateutil                    2.7.3\n",
      "pytz                               2018.5\n",
      "PyWavelets                         1.0.0\n",
      "pywin32                            223\n",
      "pywinpty                           0.5.4\n",
      "PyYAML                             3.13\n",
      "pyzmq                              17.1.2\n",
      "QtAwesome                          0.4.4\n",
      "qtconsole                          4.4.1\n",
      "QtPy                               1.5.0\n",
      "requests                           2.19.1\n",
      "rope                               0.11.0\n",
      "ruamel_yaml                        0.15.46\n",
      "scikit-image                       0.14.0\n",
      "scikit-learn                       0.19.2\n",
      "scipy                              1.1.0\n",
      "seaborn                            0.9.0\n",
      "Send2Trash                         1.5.0\n",
      "service-identity                   17.0.0\n",
      "setuptools                         40.2.0\n",
      "simplegeneric                      0.8.1\n",
      "singledispatch                     3.4.0.3\n",
      "six                                1.11.0\n",
      "snowballstemmer                    1.2.1\n",
      "sortedcollections                  1.0.1\n",
      "sortedcontainers                   2.0.5\n",
      "Sphinx                             1.7.9\n",
      "sphinxcontrib-websupport           1.1.0\n",
      "spyder                             3.3.1\n",
      "spyder-kernels                     0.2.6\n",
      "SQLAlchemy                         1.2.11\n",
      "statsmodels                        0.9.0\n",
      "sympy                              1.1.1\n",
      "tables                             3.4.4\n",
      "tblib                              1.3.2\n",
      "terminado                          0.8.1\n",
      "testpath                           0.3.1\n",
      "toolz                              0.9.0\n",
      "tornado                            5.1\n",
      "tqdm                               4.26.0\n",
      "traitlets                          4.3.2\n",
      "Twisted                            18.7.0\n",
      "unicodecsv                         0.14.1\n",
      "urllib3                            1.23\n",
      "wcwidth                            0.1.7\n",
      "webencodings                       0.5.1\n",
      "Werkzeug                           0.14.1\n",
      "wheel                              0.31.1\n",
      "widgetsnbextension                 3.4.1\n",
      "win_inet_pton                      1.0.1\n",
      "win-unicode-console                0.5\n",
      "wincertstore                       0.2\n",
      "wrapt                              1.10.11\n",
      "xlrd                               1.1.0\n",
      "XlsxWriter                         1.1.0\n",
      "xlwings                            0.11.8\n",
      "xlwt                               1.3.0\n",
      "zict                               0.1.3\n",
      "zope.interface                     4.5.0\n"
     ]
    }
   ],
   "source": [
    "!pip list"
   ]
  },
  {
   "cell_type": "code",
   "execution_count": 48,
   "metadata": {},
   "outputs": [
    {
     "name": "stdout",
     "output_type": "stream",
     "text": [
      "Name: pip\n",
      "Version: 23.1.2\n",
      "Summary: The PyPA recommended tool for installing Python packages.\n",
      "Home-page: https://pip.pypa.io/\n",
      "Author: The pip developers\n",
      "Author-email: distutils-sig@python.org\n",
      "License: MIT\n",
      "Location: c:\\users\\rohan\\anaconda3\\lib\\site-packages\n",
      "Requires: \n",
      "Required-by: \n"
     ]
    }
   ],
   "source": [
    "!pip show pip"
   ]
  },
  {
   "cell_type": "code",
   "execution_count": 52,
   "metadata": {},
   "outputs": [
    {
     "name": "stdout",
     "output_type": "stream",
     "text": [
      "Package                            Version\n",
      "---------------------------------- ---------\n",
      "alabaster                          0.7.11\n",
      "anaconda-client                    1.7.2\n",
      "anaconda-navigator                 1.9.2\n",
      "anaconda-project                   0.8.2\n",
      "appdirs                            1.4.3\n",
      "asn1crypto                         0.24.0\n",
      "astroid                            2.0.4\n",
      "astropy                            3.0.4\n",
      "atomicwrites                       1.2.1\n",
      "attrs                              18.2.0\n",
      "Automat                            0.7.0\n",
      "Babel                              2.6.0\n",
      "backcall                           0.1.0\n",
      "backports.shutil-get-terminal-size 1.0.0\n",
      "beautifulsoup4                     4.6.3\n",
      "bitarray                           0.8.3\n",
      "bkcharts                           0.2\n",
      "blaze                              0.11.3\n",
      "bleach                             2.1.4\n",
      "bokeh                              0.13.0\n",
      "boto                               2.49.0\n",
      "Bottleneck                         1.2.1\n",
      "certifi                            2018.8.24\n",
      "cffi                               1.11.5\n",
      "chardet                            3.0.4\n",
      "click                              6.7\n",
      "cloudpickle                        0.5.5\n",
      "clyent                             1.2.2\n",
      "colorama                           0.3.9\n",
      "comtypes                           1.1.7\n",
      "conda                              4.5.11\n",
      "conda-build                        3.15.1\n",
      "constantly                         15.1.0\n",
      "contextlib2                        0.5.5\n",
      "cryptography                       2.3.1\n",
      "cycler                             0.10.0\n",
      "Cython                             0.28.5\n",
      "cytoolz                            0.9.0.1\n",
      "dask                               0.19.1\n",
      "datashape                          0.5.4\n",
      "decorator                          4.3.0\n",
      "defusedxml                         0.5.0\n",
      "distributed                        1.23.1\n",
      "docutils                           0.14\n",
      "entrypoints                        0.2.3\n",
      "et-xmlfile                         1.0.1\n",
      "fastcache                          1.0.2\n",
      "filelock                           3.0.8\n",
      "Flask                              1.0.2\n",
      "Flask-Cors                         3.0.6\n",
      "gevent                             1.3.6\n",
      "glob2                              0.6\n",
      "greenlet                           0.4.15\n",
      "h5py                               2.8.0\n",
      "heapdict                           1.0.0\n",
      "html5lib                           1.0.1\n",
      "hyperlink                          18.0.0\n",
      "idna                               2.7\n",
      "imageio                            2.4.1\n",
      "imagesize                          1.1.0\n",
      "incremental                        17.5.0\n",
      "ipykernel                          4.10.0\n",
      "ipython                            6.5.0\n",
      "ipython_genutils                   0.2.0\n",
      "ipywidgets                         7.4.1\n",
      "isort                              4.3.4\n",
      "itsdangerous                       0.24\n",
      "jdcal                              1.4\n",
      "jedi                               0.12.1\n",
      "Jinja2                             2.10\n",
      "jsonschema                         2.6.0\n",
      "jupyter                            1.0.0\n",
      "jupyter-client                     5.2.3\n",
      "jupyter-console                    5.2.0\n",
      "jupyter-core                       4.4.0\n",
      "jupyterlab                         0.34.9\n",
      "jupyterlab-launcher                0.13.1\n",
      "keyring                            13.2.1\n",
      "kiwisolver                         1.0.1\n",
      "lazy-object-proxy                  1.3.1\n",
      "llvmlite                           0.24.0\n",
      "locket                             0.2.0\n",
      "lxml                               4.2.5\n",
      "MarkupSafe                         1.0\n",
      "matplotlib                         2.2.3\n",
      "mccabe                             0.6.1\n",
      "menuinst                           1.4.14\n",
      "mistune                            0.8.3\n",
      "mkl-fft                            1.0.4\n",
      "mkl-random                         1.0.1\n",
      "more-itertools                     4.3.0\n",
      "mpmath                             1.0.0\n",
      "msgpack                            0.5.6\n",
      "multipledispatch                   0.6.0\n",
      "navigator-updater                  0.2.1\n",
      "nbconvert                          5.4.0\n",
      "nbformat                           4.4.0\n",
      "networkx                           2.1\n",
      "nltk                               3.3\n",
      "nose                               1.3.7\n",
      "notebook                           5.6.0\n",
      "numba                              0.39.0\n",
      "numexpr                            2.6.8\n",
      "numpy                              1.15.1\n",
      "numpydoc                           0.8.0\n",
      "odo                                0.5.1\n",
      "olefile                            0.46\n",
      "openpyxl                           2.5.6\n",
      "packaging                          17.1\n",
      "pandas                             0.23.4\n",
      "pandocfilters                      1.4.2\n",
      "parso                              0.3.1\n",
      "partd                              0.3.8\n",
      "path.py                            11.1.0\n",
      "pathlib2                           2.3.2\n",
      "patsy                              0.5.0\n",
      "pep8                               1.7.1\n",
      "pickleshare                        0.7.4\n",
      "Pillow                             5.2.0\n",
      "pip                                23.1.2\n",
      "pkginfo                            1.4.2\n",
      "pluggy                             0.7.1\n",
      "ply                                3.11\n",
      "prometheus-client                  0.3.1\n",
      "prompt-toolkit                     1.0.15\n",
      "psutil                             5.4.7\n",
      "py                                 1.6.0\n",
      "pyasn1                             0.4.4\n",
      "pyasn1-modules                     0.2.2\n",
      "pycodestyle                        2.4.0\n",
      "pycosat                            0.6.3\n",
      "pycparser                          2.18\n",
      "pycrypto                           2.6.1\n",
      "pycurl                             7.43.0.2\n",
      "pyflakes                           2.0.0\n",
      "Pygments                           2.2.0\n",
      "pyler                              0.2.0\n",
      "pylint                             2.1.1\n",
      "pyodbc                             4.0.24\n",
      "pyOpenSSL                          18.0.0\n",
      "pyparsing                          2.2.0\n",
      "PySocks                            1.6.8\n",
      "pytest                             3.8.0\n",
      "pytest-arraydiff                   0.2\n",
      "pytest-astropy                     0.4.0\n",
      "pytest-doctestplus                 0.1.3\n",
      "pytest-openfiles                   0.3.0\n",
      "pytest-remotedata                  0.3.0\n",
      "python-dateutil                    2.7.3\n",
      "pytz                               2018.5\n",
      "PyWavelets                         1.0.0\n",
      "pywin32                            223\n",
      "pywinpty                           0.5.4\n",
      "PyYAML                             3.13\n",
      "pyzmq                              17.1.2\n",
      "QtAwesome                          0.4.4\n",
      "qtconsole                          4.4.1\n",
      "QtPy                               1.5.0\n",
      "requests                           2.19.1\n",
      "rope                               0.11.0\n",
      "ruamel_yaml                        0.15.46\n",
      "scikit-image                       0.14.0\n",
      "scikit-learn                       0.19.2\n",
      "scipy                              1.1.0\n",
      "seaborn                            0.9.0\n",
      "Send2Trash                         1.5.0\n",
      "service-identity                   17.0.0\n",
      "setuptools                         40.2.0\n",
      "simplegeneric                      0.8.1\n",
      "singledispatch                     3.4.0.3\n",
      "six                                1.11.0\n",
      "snowballstemmer                    1.2.1\n",
      "sortedcollections                  1.0.1\n",
      "sortedcontainers                   2.0.5\n",
      "Sphinx                             1.7.9\n",
      "sphinxcontrib-websupport           1.1.0\n",
      "spyder                             3.3.1\n",
      "spyder-kernels                     0.2.6\n",
      "SQLAlchemy                         1.2.11\n",
      "statsmodels                        0.9.0\n",
      "sympy                              1.1.1\n",
      "tables                             3.4.4\n",
      "tblib                              1.3.2\n",
      "terminado                          0.8.1\n",
      "testpath                           0.3.1\n",
      "toolz                              0.9.0\n",
      "tornado                            5.1\n",
      "tqdm                               4.26.0\n",
      "traitlets                          4.3.2\n",
      "Twisted                            18.7.0\n",
      "unicodecsv                         0.14.1\n",
      "urllib3                            1.23\n",
      "wcwidth                            0.1.7\n",
      "webencodings                       0.5.1\n",
      "Werkzeug                           0.14.1\n",
      "wheel                              0.31.1\n",
      "widgetsnbextension                 3.4.1\n",
      "win_inet_pton                      1.0.1\n",
      "win-unicode-console                0.5\n",
      "wincertstore                       0.2\n",
      "wrapt                              1.10.11\n",
      "xlrd                               1.1.0\n",
      "XlsxWriter                         1.1.0\n",
      "xlwings                            0.11.8\n",
      "xlwt                               1.3.0\n",
      "zict                               0.1.3\n",
      "zope.interface                     4.5.0\n"
     ]
    }
   ],
   "source": [
    "!pip list"
   ]
  },
  {
   "cell_type": "code",
   "execution_count": 53,
   "metadata": {},
   "outputs": [
    {
     "ename": "ModuleNotFoundError",
     "evalue": "No module named 'pyler'",
     "output_type": "error",
     "traceback": [
      "\u001b[1;31m---------------------------------------------------------------------------\u001b[0m",
      "\u001b[1;31mModuleNotFoundError\u001b[0m                       Traceback (most recent call last)",
      "\u001b[1;32m<ipython-input-53-e2c57af8e47e>\u001b[0m in \u001b[0;36m<module>\u001b[1;34m()\u001b[0m\n\u001b[1;32m----> 1\u001b[1;33m \u001b[1;32mimport\u001b[0m \u001b[0mpyler\u001b[0m\u001b[1;33m\u001b[0m\u001b[0m\n\u001b[0m",
      "\u001b[1;31mModuleNotFoundError\u001b[0m: No module named 'pyler'"
     ]
    }
   ],
   "source": [
    "import pyler"
   ]
  },
  {
   "cell_type": "code",
   "execution_count": 25,
   "metadata": {},
   "outputs": [
    {
     "ename": "UnboundLocalError",
     "evalue": "local variable 'ip_obj' referenced before assignment",
     "output_type": "error",
     "traceback": [
      "\u001b[1;31m---------------------------------------------------------------------------\u001b[0m",
      "\u001b[1;31mValueError\u001b[0m                                Traceback (most recent call last)",
      "\u001b[1;32m<ipython-input-25-b6f50a2f481e>\u001b[0m in \u001b[0;36mip_address_validator\u001b[1;34m(ip)\u001b[0m\n\u001b[0;32m      4\u001b[0m     \u001b[1;32mtry\u001b[0m\u001b[1;33m:\u001b[0m\u001b[1;33m\u001b[0m\u001b[0m\n\u001b[1;32m----> 5\u001b[1;33m         \u001b[0mip_obj\u001b[0m \u001b[1;33m=\u001b[0m \u001b[0mipaddress\u001b[0m\u001b[1;33m.\u001b[0m\u001b[0mip_address\u001b[0m\u001b[1;33m(\u001b[0m\u001b[0maddress\u001b[0m\u001b[1;33m=\u001b[0m\u001b[0mip\u001b[0m\u001b[1;33m)\u001b[0m\u001b[1;33m\u001b[0m\u001b[0m\n\u001b[0m\u001b[0;32m      6\u001b[0m         \u001b[0mprint\u001b[0m\u001b[1;33m(\u001b[0m\u001b[1;34mf\"{ip_obj} isa valid IP address\"\u001b[0m\u001b[1;33m)\u001b[0m\u001b[1;33m\u001b[0m\u001b[0m\n",
      "\u001b[1;32mc:\\Users\\rohan\\Anaconda3\\lib\\ipaddress.py\u001b[0m in \u001b[0;36mip_address\u001b[1;34m(address)\u001b[0m\n\u001b[0;32m     53\u001b[0m     raise ValueError('%r does not appear to be an IPv4 or IPv6 address' %\n\u001b[1;32m---> 54\u001b[1;33m                      address)\n\u001b[0m\u001b[0;32m     55\u001b[0m \u001b[1;33m\u001b[0m\u001b[0m\n",
      "\u001b[1;31mValueError\u001b[0m: '192.168.37.-1' does not appear to be an IPv4 or IPv6 address",
      "\nDuring handling of the above exception, another exception occurred:\n",
      "\u001b[1;31mUnboundLocalError\u001b[0m                         Traceback (most recent call last)",
      "\u001b[1;32m<ipython-input-25-b6f50a2f481e>\u001b[0m in \u001b[0;36m<module>\u001b[1;34m()\u001b[0m\n\u001b[0;32m      8\u001b[0m         \u001b[0mprint\u001b[0m\u001b[1;33m(\u001b[0m\u001b[1;34mf\"Error: {ip_obj} is not a valid IP address!\"\u001b[0m\u001b[1;33m)\u001b[0m\u001b[1;33m\u001b[0m\u001b[0m\n\u001b[0;32m      9\u001b[0m \u001b[1;33m\u001b[0m\u001b[0m\n\u001b[1;32m---> 10\u001b[1;33m \u001b[0mip_address_validator\u001b[0m\u001b[1;33m(\u001b[0m\u001b[1;34m\"192.168.37.-1\"\u001b[0m\u001b[1;33m)\u001b[0m\u001b[1;33m\u001b[0m\u001b[0m\n\u001b[0m",
      "\u001b[1;32m<ipython-input-25-b6f50a2f481e>\u001b[0m in \u001b[0;36mip_address_validator\u001b[1;34m(ip)\u001b[0m\n\u001b[0;32m      6\u001b[0m         \u001b[0mprint\u001b[0m\u001b[1;33m(\u001b[0m\u001b[1;34mf\"{ip_obj} isa valid IP address\"\u001b[0m\u001b[1;33m)\u001b[0m\u001b[1;33m\u001b[0m\u001b[0m\n\u001b[0;32m      7\u001b[0m     \u001b[1;32mexcept\u001b[0m \u001b[0mValueError\u001b[0m\u001b[1;33m:\u001b[0m\u001b[1;33m\u001b[0m\u001b[0m\n\u001b[1;32m----> 8\u001b[1;33m         \u001b[0mprint\u001b[0m\u001b[1;33m(\u001b[0m\u001b[1;34mf\"Error: {ip_obj} is not a valid IP address!\"\u001b[0m\u001b[1;33m)\u001b[0m\u001b[1;33m\u001b[0m\u001b[0m\n\u001b[0m\u001b[0;32m      9\u001b[0m \u001b[1;33m\u001b[0m\u001b[0m\n\u001b[0;32m     10\u001b[0m \u001b[0mip_address_validator\u001b[0m\u001b[1;33m(\u001b[0m\u001b[1;34m\"192.168.37.-1\"\u001b[0m\u001b[1;33m)\u001b[0m\u001b[1;33m\u001b[0m\u001b[0m\n",
      "\u001b[1;31mUnboundLocalError\u001b[0m: local variable 'ip_obj' referenced before assignment"
     ]
    }
   ],
   "source": [
    "# code to validate ip address\n",
    "import ipaddress\n",
    "def ip_address_validator(ip:str):\n",
    "    try:\n",
    "        ip_obj = ipaddress.ip_address(address=ip)\n",
    "        print(f\"{ip_obj} isa valid IP address\")\n",
    "    except ValueError:\n",
    "        print(f\"Error: {ip_obj} is not a valid IP address!\")\n",
    "\n",
    "ip_address_validator(\"192.168.37.-1\")"
   ]
  },
  {
   "cell_type": "code",
   "execution_count": 26,
   "metadata": {},
   "outputs": [],
   "source": [
    "# enum in python\n",
    "one, two, three = range(3)"
   ]
  },
  {
   "cell_type": "code",
   "execution_count": 30,
   "metadata": {},
   "outputs": [
    {
     "name": "stdout",
     "output_type": "stream",
     "text": [
      "0\n",
      "1\n",
      "2\n"
     ]
    }
   ],
   "source": [
    "print(one)\n",
    "print(two)\n",
    "print(three)"
   ]
  },
  {
   "cell_type": "code",
   "execution_count": 4,
   "metadata": {},
   "outputs": [
    {
     "name": "stdout",
     "output_type": "stream",
     "text": [
      "Key : ABC123DEF456\n"
     ]
    }
   ],
   "source": [
    "# avoid hard coding in python \n",
    "SECRET_KEY = 'ABC123DEF456'\n",
    "print(f'Key : {SECRET_KEY}')"
   ]
  },
  {
   "cell_type": "code",
   "execution_count": 6,
   "metadata": {},
   "outputs": [
    {
     "name": "stdout",
     "output_type": "stream",
     "text": [
      "ABC123DEF456\n"
     ]
    }
   ],
   "source": [
    "# using os.getenv\n",
    "import os\n",
    "from dotenv import load_dotenv\n",
    "\n",
    "load_dotenv()\n",
    "SECRET_KEY_ENV = os.getenv('SECRET_KEY')\n",
    "print(SECRET_KEY_ENV)\n"
   ]
  },
  {
   "cell_type": "code",
   "execution_count": null,
   "metadata": {},
   "outputs": [],
   "source": []
  }
 ],
 "metadata": {
  "kernelspec": {
   "display_name": "Python 3",
   "language": "python",
   "name": "python3"
  },
  "language_info": {
   "codemirror_mode": {
    "name": "ipython",
    "version": 3
   },
   "file_extension": ".py",
   "mimetype": "text/x-python",
   "name": "python",
   "nbconvert_exporter": "python",
   "pygments_lexer": "ipython3",
   "version": "3.11.7"
  },
  "orig_nbformat": 4
 },
 "nbformat": 4,
 "nbformat_minor": 2
}
