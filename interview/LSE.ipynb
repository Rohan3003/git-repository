{
 "cells": [
  {
   "cell_type": "code",
   "execution_count": 2,
   "metadata": {},
   "outputs": [
    {
     "name": "stdout",
     "output_type": "stream",
     "text": [
      "Input list:['aaa', 'aaabc', 'aacde', 'ddabc', 'ddarc', 'dderc', 'dd', 'ss', 'sspoc', 'ssouj']\n"
     ]
    },
    {
     "data": {
      "text/plain": [
       "['aaabc', 'aacde', 'ddabc', 'ddarc', 'dderc', 'sspoc', 'ssouj']"
      ]
     },
     "execution_count": 2,
     "metadata": {},
     "output_type": "execute_result"
    }
   ],
   "source": [
    "'''\n",
    "From the above Input array \n",
    "input = [ 'aaa','aaabc','aacde','ddabc','ddarc','dderc','dd','ss', 'sspoc','ssouj']\n",
    "If we see index of 0 which is aaa is the substring of the index 1 which is aaabc (here aaa is the substring of the aaabc)\n",
    "Likewise if you see the index of 7 which is 'ss' is the substring of index of 8 which is 'sspoc'\n",
    "\n",
    "If you see the below expected output : aaa , dd , ss are eliminated because those are substrings of other items of a array\n",
    "\n",
    "Requirement:  If any of the item of a array is the substring of any other item of a array then it should be eliminated\n",
    "\n",
    "Function Expected output = [ 'aaabc','aacde','ddabc','ddarc','dderc' , 'sspoc', 'ssouj']\n",
    "'''\n",
    "\n",
    "input = [ 'aaa','aaabc','aacde','ddabc','ddarc','dderc','dd','ss', 'sspoc','ssouj']\n",
    "print(f'Input list : input}')\n",
    "\n",
    "def filter_substring(input_list):\n",
    "    result = []\n",
    "    \n",
    "    for val1 in input_list:\n",
    "        is_substring = False\n",
    "        for val2 in input_list:\n",
    "            if val1 != val2 and val1 in val2:\n",
    "                is_substring = True\n",
    "                break\n",
    "        if not is_substring:\n",
    "            result.append(val1)\n",
    "            \n",
    "    return result\n",
    "\n",
    "filter_substring(input)\n",
    "            "
   ]
  },
  {
   "cell_type": "code",
   "execution_count": 8,
   "metadata": {},
   "outputs": [],
   "source": [
    "# Print the Drinks whose cost -- > Normal is greater than 2:\n",
    "drinks = {\n",
    "  \"HotChocolate\": {\n",
    "      \"ingredients\": {\n",
    "          \"water\": 50,\n",
    "          \"coffee\": 18,\n",
    "      },\n",
    "      \"cost\": {\n",
    "          \"normal\": 1.5,\n",
    "          \"vip\": 4.5,\n",
    "      }\n",
    "  },\n",
    "  \"EspressoMartini\": {\n",
    "      \"ingredients\": {\n",
    "          \"water\": 200,\n",
    "          \"milk\": 150,\n",
    "          \"coffee\": 24,\n",
    "      },\n",
    "      \"cost\": {\n",
    "          \"normal\": 2.5,\n",
    "          \"vip\": 6.5,\n",
    "      }\n",
    "  },\n",
    "  \"ProteinShake\": {\n",
    "      \"ingredients\": {\n",
    "          \"water\": 250,\n",
    "          \"milk\": 100,\n",
    "          \"coffee\": 24,\n",
    "      },\n",
    "      \"cost\": {\n",
    "          \"normal\": 3,\n",
    "          \"vip\": 4.1,\n",
    "      },\n",
    "      \"nutritionInfo\": {\n",
    "          \"carbs\": 3,\n",
    "          \"protein\": 4.1,\n",
    "          \"fat\": {\n",
    "            \"good\" : 4.1,\n",
    "            \"bad\" : 4.1,\n",
    "      }\n",
    "   }\n",
    "}}"
   ]
  },
  {
   "cell_type": "code",
   "execution_count": 9,
   "metadata": {},
   "outputs": [
    {
     "name": "stdout",
     "output_type": "stream",
     "text": [
      "EspressoMartini : 2.5\n",
      "ProteinShake : 3\n"
     ]
    }
   ],
   "source": [
    "\n",
    "for keys, values in drinks.items():\n",
    "    normal_cost = values['cost']['normal']\n",
    "    if normal_cost > 2:\n",
    "        print(f'{keys} : {normal_cost}')"
   ]
  },
  {
   "cell_type": "code",
   "execution_count": null,
   "metadata": {},
   "outputs": [],
   "source": [
    "''' \n",
    "Question 3: \n",
    "Replace all the Special character’s in a array\n",
    "Columns = ['abc_d@-+!/' , ')(*&dwed£$%', '#Ert^&*']\n",
    "'''"
   ]
  }
 ],
 "metadata": {
  "kernelspec": {
   "display_name": "Python 3",
   "language": "python",
   "name": "python3"
  },
  "language_info": {
   "codemirror_mode": {
    "name": "ipython",
    "version": 3
   },
   "file_extension": ".py",
   "mimetype": "text/x-python",
   "name": "python",
   "nbconvert_exporter": "python",
   "pygments_lexer": "ipython3",
   "version": "3.11.9"
  }
 },
 "nbformat": 4,
 "nbformat_minor": 2
}
