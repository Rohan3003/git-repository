{
 "cells": [
  {
   "cell_type": "code",
   "execution_count": 1,
   "metadata": {},
   "outputs": [
    {
     "data": {
      "text/plain": [
       "[]"
      ]
     },
     "execution_count": 1,
     "metadata": {},
     "output_type": "execute_result"
    }
   ],
   "source": [
    "# 1) what is the Output of following code \n",
    "\n",
    "languages = [\"Java\", \"C++\", \"Python\", \"JavaScript\", \"Julia\", \"Rust\"]\n",
    "for lang in languages[:]:\n",
    "    languages.remove(lang)\n",
    "\n",
    "languages"
   ]
  },
  {
   "cell_type": "code",
   "execution_count": 1,
   "metadata": {},
   "outputs": [
    {
     "ename": "UnboundLocalError",
     "evalue": "local variable 'x' referenced before assignment",
     "output_type": "error",
     "traceback": [
      "\u001b[1;31m---------------------------------------------------------------------------\u001b[0m",
      "\u001b[1;31mUnboundLocalError\u001b[0m                         Traceback (most recent call last)",
      "Cell \u001b[1;32mIn[1], line 5\u001b[0m\n\u001b[0;32m      3\u001b[0m     \u001b[39mprint\u001b[39m(x)\n\u001b[0;32m      4\u001b[0m     x \u001b[39m=\u001b[39m \u001b[39m2\u001b[39m\n\u001b[1;32m----> 5\u001b[0m func()\n",
      "Cell \u001b[1;32mIn[1], line 3\u001b[0m, in \u001b[0;36mfunc\u001b[1;34m()\u001b[0m\n\u001b[0;32m      2\u001b[0m \u001b[39mdef\u001b[39;00m \u001b[39mfunc\u001b[39m():\n\u001b[1;32m----> 3\u001b[0m     \u001b[39mprint\u001b[39m(x)\n\u001b[0;32m      4\u001b[0m     x \u001b[39m=\u001b[39m \u001b[39m2\u001b[39m\n",
      "\u001b[1;31mUnboundLocalError\u001b[0m: local variable 'x' referenced before assignment"
     ]
    }
   ],
   "source": [
    "# In this problem, error thrown is UnboundLocalError\n",
    "x = 1\n",
    "def func():\n",
    "    print(x)\n",
    "    x = 2\n",
    "func()"
   ]
  },
  {
   "cell_type": "code",
   "execution_count": 4,
   "metadata": {},
   "outputs": [],
   "source": [
    "import smtplib\n",
    "from email.message import EmailMessage\n",
    "\n",
    "\n",
    "def email_alert(subject, body, to ):\n",
    "    msg = EmailMessage()\n",
    "    "
   ]
  },
  {
   "cell_type": "code",
   "execution_count": 4,
   "metadata": {},
   "outputs": [
    {
     "name": "stdout",
     "output_type": "stream",
     "text": [
      "\n",
      "The following command must be run outside of the IPython shell:\n",
      "\n",
      "    $ pip install pyHook\n",
      "\n",
      "The Python package manager (pip) can only be used from outside of IPython.\n",
      "Please reissue the `pip` command in a separate terminal or command prompt.\n",
      "\n",
      "See the Python documentation for more information on how to install packages:\n",
      "\n",
      "    https://docs.python.org/3/installing/\n"
     ]
    }
   ],
   "source": [
    "pip install pyHook"
   ]
  },
  {
   "cell_type": "code",
   "execution_count": 1,
   "metadata": {},
   "outputs": [
    {
     "ename": "ModuleNotFoundError",
     "evalue": "No module named 'pyHook'",
     "output_type": "error",
     "traceback": [
      "\u001b[1;31m---------------------------------------------------------------------------\u001b[0m",
      "\u001b[1;31mModuleNotFoundError\u001b[0m                       Traceback (most recent call last)",
      "\u001b[1;32m<ipython-input-1-d345d9cc6ba0>\u001b[0m in \u001b[0;36m<module>\u001b[1;34m()\u001b[0m\n\u001b[0;32m      1\u001b[0m \u001b[1;32mfrom\u001b[0m \u001b[0mctypes\u001b[0m \u001b[1;32mimport\u001b[0m \u001b[1;33m*\u001b[0m\u001b[1;33m\u001b[0m\u001b[0m\n\u001b[0;32m      2\u001b[0m \u001b[1;32mimport\u001b[0m \u001b[0mpythoncom\u001b[0m\u001b[1;33m\u001b[0m\u001b[0m\n\u001b[1;32m----> 3\u001b[1;33m \u001b[1;32mimport\u001b[0m \u001b[0mpyHook\u001b[0m\u001b[1;33m\u001b[0m\u001b[0m\n\u001b[0m\u001b[0;32m      4\u001b[0m \u001b[1;32mimport\u001b[0m \u001b[0mwin32clipboard\u001b[0m\u001b[1;33m\u001b[0m\u001b[0m\n\u001b[0;32m      5\u001b[0m \u001b[1;33m\u001b[0m\u001b[0m\n",
      "\u001b[1;31mModuleNotFoundError\u001b[0m: No module named 'pyHook'"
     ]
    }
   ],
   "source": [
    "from ctypes import * \n",
    "import pythoncom\n",
    "import pyHook\n",
    "import win32clipboard\n",
    "\n",
    "user32 = windll.user32\n",
    "kernel32 = windll.kernel32\n",
    "psapi = windll.psapi\n",
    "current_window = None\n",
    "\n",
    "print(user32, kernel32, psapi)"
   ]
  },
  {
   "cell_type": "code",
   "execution_count": 36,
   "metadata": {},
   "outputs": [
    {
     "data": {
      "text/plain": [
       "'c:/Users/rohan/Downloads/'"
      ]
     },
     "execution_count": 36,
     "metadata": {},
     "output_type": "execute_result"
    }
   ],
   "source": [
    "import os\n",
    "import shutil\n",
    "\n",
    "os.fspath(filepath)"
   ]
  },
  {
   "cell_type": "code",
   "execution_count": 35,
   "metadata": {},
   "outputs": [
    {
     "name": "stdout",
     "output_type": "stream",
     "text": [
      "Help on built-in function fspath in module nt:\n",
      "\n",
      "fspath(path)\n",
      "    Return the file system path representation of the object.\n",
      "    \n",
      "    If the object is str or bytes, then allow it to pass through as-is. If the\n",
      "    object defines __fspath__(), then return the result of that method. All other\n",
      "    types raise a TypeError.\n",
      "\n"
     ]
    }
   ],
   "source": [
    "help(os.fspath)"
   ]
  },
  {
   "cell_type": "code",
   "execution_count": 10,
   "metadata": {},
   "outputs": [
    {
     "name": "stdout",
     "output_type": "stream",
     "text": [
      "1\n"
     ]
    }
   ],
   "source": [
    "# 2) Find the output of following code\n",
    "def outer():\n",
    "    x = 1\n",
    "    def inner():\n",
    "        x = 2\n",
    "        return x\n",
    "    inner()\n",
    "    return x\n",
    "\n",
    "print(outer())"
   ]
  },
  {
   "cell_type": "code",
   "execution_count": 2,
   "metadata": {},
   "outputs": [
    {
     "name": "stdout",
     "output_type": "stream",
     "text": [
      "[2, 8]\n",
      "[3, 7]\n",
      "[8, 2]\n",
      "[9, 1]\n",
      "[1, 9]\n",
      "[7, 3]\n"
     ]
    }
   ],
   "source": [
    "# Problem1) to print sum of elements of a list\n",
    "\n",
    "t = 10\n",
    "num = [2,3,6,8,9,1,7]\n",
    "\n",
    "for i in range(len(num)):\n",
    "    for j in range(len(num)):\n",
    "        if num[i] != num[j]:\n",
    "            if num[i] + num[j] == t:\n",
    "                print([num[i], num[j]])"
   ]
  },
  {
   "cell_type": "code",
   "execution_count": 16,
   "metadata": {},
   "outputs": [
    {
     "name": "stdout",
     "output_type": "stream",
     "text": [
      "Hello\n",
      "we can assign print to x for printing using x\n"
     ]
    }
   ],
   "source": [
    "# print as variable\n",
    "x = print\n",
    "x(\"Hello\")\n",
    "x(\"we can assign print to x for printing using x\")"
   ]
  },
  {
   "cell_type": "code",
   "execution_count": 24,
   "metadata": {},
   "outputs": [
    {
     "name": "stdout",
     "output_type": "stream",
     "text": [
      "3\n",
      "1003\n",
      "ab\n"
     ]
    }
   ],
   "source": [
    "# lambda function in python\n",
    "\n",
    "def add(a,b):\n",
    "    return a + b\n",
    "\n",
    "print(add(1,2))\n",
    "add_lambda = (lambda x,y : x + y)\n",
    "print(add_lambda(2,1001))\n",
    "print(add_lambda('a','b'))"
   ]
  },
  {
   "cell_type": "code",
   "execution_count": 2,
   "metadata": {},
   "outputs": [],
   "source": [
    "students = [['Harry', 37.21], ['Berry', 37.21], ['Tina', 37.2], ['Akriti', 41], ['Harsh', 39]]"
   ]
  },
  {
   "cell_type": "code",
   "execution_count": 47,
   "metadata": {},
   "outputs": [],
   "source": [
    "for i in students:\n",
    "    a = []\n",
    "    b = []\n",
    "    # print(a)\n",
    "    a.append(i[0])\n",
    "    b.append(i[1])"
   ]
  },
  {
   "cell_type": "code",
   "execution_count": 48,
   "metadata": {},
   "outputs": [],
   "source": [
    "for val in range(10):\n",
    "    val"
   ]
  },
  {
   "cell_type": "code",
   "execution_count": 1,
   "metadata": {},
   "outputs": [
    {
     "name": "stdout",
     "output_type": "stream",
     "text": [
      "A-b-c\n"
     ]
    }
   ],
   "source": [
    "x = 'aBC'\n",
    "print('-'.join(x.title()))"
   ]
  },
  {
   "cell_type": "code",
   "execution_count": 8,
   "metadata": {},
   "outputs": [
    {
     "ename": "KeyboardInterrupt",
     "evalue": "",
     "output_type": "error",
     "traceback": [
      "\u001b[1;31m---------------------------------------------------------------------------\u001b[0m",
      "\u001b[1;31mKeyboardInterrupt\u001b[0m                         Traceback (most recent call last)",
      "Cell \u001b[1;32mIn[8], line 9\u001b[0m\n\u001b[0;32m      7\u001b[0m \u001b[39mif\u001b[39;00m frame \u001b[39mis\u001b[39;00m \u001b[39mnot\u001b[39;00m \u001b[39mNone\u001b[39;00m:\n\u001b[0;32m      8\u001b[0m     cv2\u001b[39m.\u001b[39mimshow(\u001b[39m\"\u001b[39m\u001b[39mframe\u001b[39m\u001b[39m\"\u001b[39m, frame)\n\u001b[1;32m----> 9\u001b[0m q \u001b[39m=\u001b[39m cv2\u001b[39m.\u001b[39;49mwaitKey(\u001b[39m1\u001b[39;49m)\n\u001b[0;32m     10\u001b[0m \u001b[39mif\u001b[39;00m q \u001b[39m==\u001b[39m \u001b[39mord\u001b[39m(\u001b[39m'\u001b[39m\u001b[39mq\u001b[39m\u001b[39m'\u001b[39m):\n\u001b[0;32m     11\u001b[0m     \u001b[39mbreak\u001b[39;00m \n",
      "\u001b[1;31mKeyboardInterrupt\u001b[0m: "
     ]
    }
   ],
   "source": [
    "import cv2\n",
    "import numpy as np \n",
    "url = 'http://192.168.29.2:8080'\n",
    "cp = cv2.VideoCapture(url)\n",
    "while(True):\n",
    "    camera, frame = cp.read()\n",
    "    if frame is not None:\n",
    "        cv2.imshow(\"frame\", frame)\n",
    "    q = cv2.waitKey(1)\n",
    "    if q == ord('q'):\n",
    "        break \n",
    "cv2.destroyAllWindows()"
   ]
  },
  {
   "cell_type": "code",
   "execution_count": 5,
   "metadata": {},
   "outputs": [
    {
     "name": "stdout",
     "output_type": "stream",
     "text": [
      "1\n",
      "2\n"
     ]
    }
   ],
   "source": [
    "a = 1\n",
    "while(True):\n",
    "    print(a)\n",
    "    a = a + 1\n",
    "    if a == 3:\n",
    "        break"
   ]
  },
  {
   "attachments": {},
   "cell_type": "markdown",
   "metadata": {},
   "source": [
    "### enumerate in python"
   ]
  },
  {
   "cell_type": "code",
   "execution_count": 11,
   "metadata": {},
   "outputs": [
    {
     "name": "stdout",
     "output_type": "stream",
     "text": [
      "1 :  Elon Musk\n",
      "2 :  Jeff Bezoz\n",
      "3 :  Sam Smith\n"
     ]
    }
   ],
   "source": [
    "if __name__ == '__main__':\n",
    "    names : list[str] = ['Elon Musk',\n",
    "                         'Jeff Bezoz',\n",
    "                         'Sam Smith',]\n",
    "    for i, name in enumerate(names):\n",
    "        print(f\"{i+1} : \", f\"{name}\")\n"
   ]
  },
  {
   "cell_type": "code",
   "execution_count": 12,
   "metadata": {},
   "outputs": [
    {
     "name": "stdout",
     "output_type": "stream",
     "text": [
      "1 :  Elon Musk\n",
      "2 :  Jeff Bezoz\n",
      "3 :  Sam Smith\n"
     ]
    }
   ],
   "source": [
    "# using start = 1 parameter in enumerate function \n",
    "if __name__ == '__main__':\n",
    "    names : list[str] = ['Elon Musk',\n",
    "                         'Jeff Bezoz',\n",
    "                         'Sam Smith',]\n",
    "    for i, name in enumerate(names, start = 1):\n",
    "        print(f\"{i} : \", f\"{name}\")\n"
   ]
  },
  {
   "cell_type": "code",
   "execution_count": 18,
   "metadata": {},
   "outputs": [
    {
     "name": "stdout",
     "output_type": "stream",
     "text": [
      "0/10\n",
      "1/10\n",
      "2/10\n",
      "3/10\n",
      "4/10\n",
      "5/10\n",
      "6/10\n",
      "7/10\n",
      "8/10\n",
      "9/10\n"
     ]
    }
   ],
   "source": [
    "# progress bar in python \n",
    "import time\n",
    "for i in range(10):\n",
    "    print(f'{i}/10')\n",
    "    time.sleep(1)"
   ]
  },
  {
   "cell_type": "code",
   "execution_count": 21,
   "metadata": {},
   "outputs": [
    {
     "name": "stderr",
     "output_type": "stream",
     "text": [
      "100%|██████████| 10/10 [00:10<00:00,  1.01s/it]\n"
     ]
    }
   ],
   "source": [
    "import time\n",
    "from tqdm import tqdm\n",
    "for i in tqdm(range(10)):\n",
    "    time.sleep(1)"
   ]
  },
  {
   "cell_type": "code",
   "execution_count": 1,
   "metadata": {},
   "outputs": [
    {
     "name": "stdout",
     "output_type": "stream",
     "text": [
      "Luigi:38\n",
      "Luigi : 38\n",
      "Luigi : 38\n",
      "Luigi : 38\n",
      "Luigi : 38\n"
     ]
    }
   ],
   "source": [
    "# 5 diffrent ways of using print \n",
    "name = 'Luigi'\n",
    "age = 38\n",
    "\n",
    "print(name + ':' + str(38))\n",
    "print(name, ':', age)\n",
    "print(f'{name} : {age}') # using f-string is the most cleanest way\n",
    "print('%s : %s' %(name,age))\n",
    "print('{} : {}'.format(name, age))"
   ]
  },
  {
   "cell_type": "code",
   "execution_count": 6,
   "metadata": {},
   "outputs": [
    {
     "name": "stdout",
     "output_type": "stream",
     "text": [
      "3\n",
      "{'a': 1, 'b': 2}\n"
     ]
    }
   ],
   "source": [
    "# get method in dictionary\n",
    "x = {'a':1,'b':2}\n",
    "y = x.get('c',3)\n",
    "print(y)\n",
    "print(x)"
   ]
  },
  {
   "cell_type": "code",
   "execution_count": 4,
   "metadata": {},
   "outputs": [
    {
     "name": "stdout",
     "output_type": "stream",
     "text": [
      "None\n"
     ]
    }
   ],
   "source": [
    "x = {'a':1,'b':2}\n",
    "y = x.get('c')\n",
    "print(y)"
   ]
  },
  {
   "cell_type": "code",
   "execution_count": 10,
   "metadata": {},
   "outputs": [
    {
     "name": "stdout",
     "output_type": "stream",
     "text": [
      "24\n",
      "6\n",
      "2\n"
     ]
    }
   ],
   "source": [
    "# function to find the factorial\n",
    "def fn(x):\n",
    "    if x == 1 or x == 0:\n",
    "        return 1\n",
    "    else:\n",
    "        return (x*fn(x-1))\n",
    "print(fn(4))\n",
    "print(fn(3))\n",
    "print(fn(2))"
   ]
  },
  {
   "cell_type": "code",
   "execution_count": 19,
   "metadata": {},
   "outputs": [
    {
     "name": "stdout",
     "output_type": "stream",
     "text": [
      "30\n",
      "10.0\n",
      "3.0\n"
     ]
    }
   ],
   "source": [
    "# 3) what is the output of following code\n",
    "x = [14,15,30][-1]\n",
    "y = round(14.9, -1)\n",
    "print(x)\n",
    "print(y)\n",
    "\n",
    "z = x/y\n",
    "print(z)"
   ]
  },
  {
   "attachments": {},
   "cell_type": "markdown",
   "metadata": {},
   "source": [
    "1. Python code to find the reverse of a number"
   ]
  },
  {
   "cell_type": "code",
   "execution_count": 3,
   "metadata": {},
   "outputs": [
    {
     "data": {
      "text/plain": [
       "4321"
      ]
     },
     "execution_count": 3,
     "metadata": {},
     "output_type": "execute_result"
    }
   ],
   "source": [
    "# Method 1\n",
    "num = 1234\n",
    "num_rev = int(str(num)[::-1])\n",
    "num_rev \n"
   ]
  },
  {
   "cell_type": "code",
   "execution_count": null,
   "metadata": {},
   "outputs": [],
   "source": [
    "# Method 2\n",
    "num = 1234\n",
    "while num!=0:\n",
    "    "
   ]
  },
  {
   "cell_type": "code",
   "execution_count": 27,
   "metadata": {},
   "outputs": [
    {
     "name": "stdout",
     "output_type": "stream",
     "text": [
      "11 is a prime number\n",
      "11 is a prime number\n",
      "11 is a prime number\n",
      "11 is a prime number\n",
      "11 is a prime number\n",
      "11 is a prime number\n",
      "11 is a prime number\n",
      "11 is a prime number\n",
      "11 is a prime number\n"
     ]
    }
   ],
   "source": [
    "# to find if a given number is prime or not\n",
    "# logic -> a number is prime if it has only factors as 1 and number itself. This implies that for any number to be a prime number\n",
    "# it has to be only divisible by either 1 or the number itself only.\n",
    "# factors -> factors of a number will be between 1 and the number.\n",
    "\n",
    "try:\n",
    "    num = 11\n",
    "    if num == 1:\n",
    "        print(f'{num} is not a prime number.')\n",
    "    else:\n",
    "        for i in range(2,num):\n",
    "            if (num % i == 0 ):\n",
    "                print(i)\n",
    "                print(f'{num} is not a prime number.')\n",
    "                break\n",
    "            else:\n",
    "                print(f'{num} is a prime number')\n",
    "\n",
    "except Exception as e:\n",
    "    raise e"
   ]
  },
  {
   "cell_type": "code",
   "execution_count": 3,
   "metadata": {},
   "outputs": [
    {
     "name": "stdout",
     "output_type": "stream",
     "text": [
      "[0, 1]\n"
     ]
    }
   ],
   "source": [
    "# return vs yield\n",
    "def my_func(value):\n",
    "    if value == 5 :\n",
    "        return [\"Python\"]\n",
    "    else:\n",
    "        yield from range(value)\n",
    "\n",
    "print(list(my_func(2)))"
   ]
  },
  {
   "cell_type": "code",
   "execution_count": 4,
   "metadata": {},
   "outputs": [
    {
     "data": {
      "text/plain": [
       "2"
      ]
     },
     "execution_count": 4,
     "metadata": {},
     "output_type": "execute_result"
    }
   ],
   "source": [
    "add_1 = lambda x : x +1\n",
    "add_1(1)"
   ]
  },
  {
   "cell_type": "code",
   "execution_count": 8,
   "metadata": {},
   "outputs": [
    {
     "data": {
      "text/plain": [
       "[0, 1, 2, 3, 4, 5, 6]"
      ]
     },
     "execution_count": 8,
     "metadata": {},
     "output_type": "execute_result"
    }
   ],
   "source": [
    "# yield from range \n",
    "def func_from_range(value):\n",
    "    yield from range(value)\n",
    "\n",
    "[i for i in func_from_range(7)]"
   ]
  },
  {
   "cell_type": "code",
   "execution_count": 2,
   "metadata": {},
   "outputs": [
    {
     "name": "stdout",
     "output_type": "stream",
     "text": [
      "<class 'tuple'>\n"
     ]
    }
   ],
   "source": [
    "tuple_a = [1,2],(1,2)\n",
    "print(type(tuple_a))"
   ]
  },
  {
   "cell_type": "code",
   "execution_count": 7,
   "metadata": {},
   "outputs": [
    {
     "name": "stdout",
     "output_type": "stream",
     "text": [
      "[2, 3]\n",
      "4\n"
     ]
    }
   ],
   "source": [
    "a = [2,3,4]\n",
    "b = a.copy() #a.copy() makes a copy of a and assign it to be so b = [2,3,4]\n",
    "b.append(6) #6 is appended at the end so b is now b = [2,3,4,6]\n",
    "b = a.pop() #removes 4 from a and assigns it to b because pop() removes element from last\n",
    "print(a)\n",
    "print(b) # so b is 4 now    "
   ]
  },
  {
   "cell_type": "code",
   "execution_count": 5,
   "metadata": {},
   "outputs": [
    {
     "name": "stdout",
     "output_type": "stream",
     "text": [
      "['My', 'name', 'is', 'Rohan']\n",
      "['name', 'My', 'Rohan']\n"
     ]
    }
   ],
   "source": [
    "string_name1 = 'My name is Rohan'\n",
    "string_name2 = 'name My Rohan'\n",
    "\n",
    "l1 = string_name1.split(' ')\n",
    "l2 = string_name2.split(' ')\n",
    "print(l1)\n",
    "print (l2)"
   ]
  },
  {
   "cell_type": "code",
   "execution_count": 10,
   "metadata": {},
   "outputs": [
    {
     "name": "stdout",
     "output_type": "stream",
     "text": [
      "[4, 3]\n"
     ]
    }
   ],
   "source": [
    "elemets = len(l1)\n",
    "count = 0\n",
    "for i in l1:\n",
    "    for j in l2:\n",
    "        if i == j:\n",
    "            count = count + 1\n",
    "\n",
    "list_result = [elemets, count]\n",
    "print(list_result)"
   ]
  },
  {
   "cell_type": "code",
   "execution_count": 11,
   "metadata": {},
   "outputs": [
    {
     "name": "stdout",
     "output_type": "stream",
     "text": [
      "[4, 3]\n"
     ]
    }
   ],
   "source": [
    "string_name1 = 'My name is Rohan'\n",
    "string_name2 = 'name My Rohan'\n",
    "\n",
    "l1 = string_name1.split(' ')\n",
    "l2 = string_name2.split(' ')\n",
    "\n",
    "elemets = len(l1)\n",
    "count = 0\n",
    "for i in l1:\n",
    "    for j in l2:\n",
    "        if i == j:\n",
    "            count = count + 1\n",
    "\n",
    "list_result = [elemets, count]\n",
    "print(list_result)"
   ]
  },
  {
   "cell_type": "code",
   "execution_count": 17,
   "metadata": {},
   "outputs": [
    {
     "ename": "TypeError",
     "evalue": "'int' object is not iterable",
     "output_type": "error",
     "traceback": [
      "\u001b[1;31m---------------------------------------------------------------------------\u001b[0m",
      "\u001b[1;31mTypeError\u001b[0m                                 Traceback (most recent call last)",
      "\u001b[1;32m<ipython-input-17-4f9fd120f619>\u001b[0m in \u001b[0;36m<module>\u001b[1;34m()\u001b[0m\n\u001b[0;32m      2\u001b[0m \u001b[1;31m#o = [10, 8, 2, 9, 8]\u001b[0m\u001b[1;33m\u001b[0m\u001b[1;33m\u001b[0m\u001b[0m\n\u001b[0;32m      3\u001b[0m \u001b[1;32mfor\u001b[0m \u001b[0mi\u001b[0m \u001b[1;32min\u001b[0m \u001b[0ml1\u001b[0m\u001b[1;33m:\u001b[0m\u001b[1;33m\u001b[0m\u001b[0m\n\u001b[1;32m----> 4\u001b[1;33m     \u001b[1;32mfor\u001b[0m \u001b[0mj\u001b[0m \u001b[1;32min\u001b[0m \u001b[0mi\u001b[0m\u001b[1;33m:\u001b[0m\u001b[1;33m\u001b[0m\u001b[0m\n\u001b[0m\u001b[0;32m      5\u001b[0m         \u001b[0mprint\u001b[0m\u001b[1;33m(\u001b[0m\u001b[0mi\u001b[0m\u001b[1;33m,\u001b[0m\u001b[0mj\u001b[0m\u001b[1;33m)\u001b[0m\u001b[1;33m\u001b[0m\u001b[0m\n",
      "\u001b[1;31mTypeError\u001b[0m: 'int' object is not iterable"
     ]
    }
   ],
   "source": [
    "l1 = [28, 53, 11, 9, 8]\n",
    "#o = [10, 8, 2, 9, 8]\n",
    "for i in l1:\n",
    "    for j in i:\n",
    "        print(i,j)"
   ]
  },
  {
   "cell_type": "code",
   "execution_count": 1,
   "metadata": {},
   "outputs": [
    {
     "ename": "SyntaxError",
     "evalue": "invalid syntax (<fstring>, line 1)",
     "output_type": "error",
     "traceback": [
      "\u001b[1;36m  File \u001b[1;32m\"<fstring>\"\u001b[1;36m, line \u001b[1;32m1\u001b[0m\n\u001b[1;33m    (width = )\u001b[0m\n\u001b[1;37m           ^\u001b[0m\n\u001b[1;31mSyntaxError\u001b[0m\u001b[1;31m:\u001b[0m invalid syntax\n"
     ]
    }
   ],
   "source": [
    "# 4) what is the output ?\n",
    "def area(width, height):\n",
    "    print(f\"{width = } {height = }\")\n",
    "    return width * height\n",
    "\n",
    "if __name__ == \"__main__\":\n",
    "    width : int = 10\n",
    "    height = 15\n",
    "    area(width, height)"
   ]
  },
  {
   "cell_type": "code",
   "execution_count": 13,
   "metadata": {},
   "outputs": [
    {
     "name": "stdout",
     "output_type": "stream",
     "text": [
      "True\n",
      "None\n",
      "None\n"
     ]
    }
   ],
   "source": [
    "# 5) what is the output of the following code?\n",
    "list_of_nums = [4,3,2,1]\n",
    "sorted_list = list_of_nums.sort()\n",
    "no_value = None if all(list_of_nums) else list_of_nums\n",
    "print(sorted_list == no_value)\n",
    "print(sorted_list)\n",
    "print(no_value)\n",
    "# -----------------------------------------------Explaination---------------------------------------------------------\n",
    "# list.sort() does not create a new list but sorts the same list \n",
    "# sorted_list will be None\n",
    "# all(if value are nnon-empty) -> True \n",
    "# comparing None == None : True"
   ]
  },
  {
   "cell_type": "code",
   "execution_count": 16,
   "metadata": {},
   "outputs": [
    {
     "data": {
      "text/plain": [
       "False"
      ]
     },
     "execution_count": 16,
     "metadata": {},
     "output_type": "execute_result"
    }
   ],
   "source": [
    "list1= [0,1]\n",
    "all(list1)"
   ]
  },
  {
   "cell_type": "code",
   "execution_count": 7,
   "metadata": {},
   "outputs": [
    {
     "data": {
      "text/plain": [
       "140730635896848"
      ]
     },
     "execution_count": 7,
     "metadata": {},
     "output_type": "execute_result"
    }
   ],
   "source": [
    "id(sorted_list)"
   ]
  },
  {
   "cell_type": "code",
   "execution_count": 8,
   "metadata": {},
   "outputs": [
    {
     "data": {
      "text/plain": [
       "1546939764616"
      ]
     },
     "execution_count": 8,
     "metadata": {},
     "output_type": "execute_result"
    }
   ],
   "source": [
    "id(list_of_nums)"
   ]
  },
  {
   "cell_type": "code",
   "execution_count": 11,
   "metadata": {},
   "outputs": [
    {
     "name": "stdout",
     "output_type": "stream",
     "text": [
      "12\n",
      "314.0\n",
      "25.0\n"
     ]
    }
   ],
   "source": [
    "# polymorphism \n",
    "PI = 3.14 \n",
    "VAL = 0.5\n",
    "class Shape:\n",
    "    def __init__(self,diagonal1,diagonal2):\n",
    "        self.diagonal1 = diagonal1\n",
    "        self.diagonal2 = diagonal2\n",
    "    def area(self):\n",
    "        return VAL*self.diagonal1*self.diagonal2\n",
    "\n",
    "class Rectangle(Shape):\n",
    "    def __init__(self, length, width):\n",
    "        self.length =  length\n",
    "        self.width = width\n",
    "    \n",
    "    def area(self):\n",
    "        return self.length*self.width\n",
    "\n",
    "class Circle(Shape):\n",
    "    def __init__(self,radius):\n",
    "        self.radius = radius\n",
    "\n",
    "    def area(self):\n",
    "        return PI*self.radius*self.radius\n",
    "\n",
    "shapes = [Rectangle(4,3), Circle(10)]\n",
    "for shape in shapes:\n",
    "    print(shape.area())\n",
    "\n",
    "rhombus = Shape(5,10)\n",
    "print(rhombus.area())"
   ]
  },
  {
   "cell_type": "code",
   "execution_count": 21,
   "metadata": {},
   "outputs": [
    {
     "data": {
      "text/plain": [
       "[3, 5, 8]"
      ]
     },
     "execution_count": 21,
     "metadata": {},
     "output_type": "execute_result"
    }
   ],
   "source": [
    "l1 = [1,2,3,5]\n",
    "# Output = [1,3,5,8]\n",
    "l2 = []\n",
    "for i in range(len(l1)-1):\n",
    "    l2.append(l1[i]+l1[i+1])\n",
    "l2"
   ]
  },
  {
   "cell_type": "code",
   "execution_count": 27,
   "metadata": {},
   "outputs": [],
   "source": [
    "l3 = [['a',1],['b',2],['c',4],['b',2],['a',11],['b',7],['c',16]]"
   ]
  },
  {
   "cell_type": "code",
   "execution_count": 22,
   "metadata": {},
   "outputs": [],
   "source": [
    "def func_3(*args):\n",
    "    for i in args:\n",
    "        sum = 0\n",
    "        sum = i + sum\n",
    "        return sum"
   ]
  },
  {
   "cell_type": "code",
   "execution_count": 23,
   "metadata": {},
   "outputs": [
    {
     "data": {
      "text/plain": [
       "1"
      ]
     },
     "execution_count": 23,
     "metadata": {},
     "output_type": "execute_result"
    }
   ],
   "source": [
    "func_3(1,2,3)"
   ]
  },
  {
   "cell_type": "code",
   "execution_count": 29,
   "metadata": {},
   "outputs": [
    {
     "data": {
      "text/plain": [
       "7"
      ]
     },
     "execution_count": 29,
     "metadata": {},
     "output_type": "execute_result"
    }
   ],
   "source": [
    "# write a function which takes variable no of arguments and sum them\n",
    "def func_4(*args):\n",
    "    return sum(args)\n",
    "func_4(1,2,4)"
   ]
  },
  {
   "cell_type": "code",
   "execution_count": 28,
   "metadata": {},
   "outputs": [
    {
     "data": {
      "text/plain": [
       "7"
      ]
     },
     "execution_count": 28,
     "metadata": {},
     "output_type": "execute_result"
    }
   ],
   "source": []
  },
  {
   "cell_type": "code",
   "execution_count": 30,
   "metadata": {},
   "outputs": [
    {
     "name": "stdout",
     "output_type": "stream",
     "text": [
      "\n",
      "The following command must be run outside of the IPython shell:\n",
      "\n",
      "    $ pip install pip\n",
      "\n",
      "The Python package manager (pip) can only be used from outside of IPython.\n",
      "Please reissue the `pip` command in a separate terminal or command prompt.\n",
      "\n",
      "See the Python documentation for more information on how to install packages:\n",
      "\n",
      "    https://docs.python.org/3/installing/\n"
     ]
    }
   ],
   "source": [
    "%pip install pip"
   ]
  },
  {
   "cell_type": "code",
   "execution_count": 2,
   "metadata": {},
   "outputs": [
    {
     "name": "stdout",
     "output_type": "stream",
     "text": [
      "10\n"
     ]
    }
   ],
   "source": [
    "# what is the output of the following code\n",
    "def outer_func():\n",
    "    x = 5\n",
    "    def inner_func():\n",
    "        nonlocal x\n",
    "        x = 10\n",
    "    inner_func()\n",
    "    return x\n",
    "print(outer_func())\n",
    "# Solution  : "
   ]
  },
  {
   "cell_type": "code",
   "execution_count": 8,
   "metadata": {},
   "outputs": [
    {
     "name": "stdout",
     "output_type": "stream",
     "text": [
      "5\n"
     ]
    }
   ],
   "source": [
    "def outer_func():\n",
    "    x = 5\n",
    "    def inner_func():\n",
    "        x = 10\n",
    "    inner_func()\n",
    "    return x\n",
    "print(outer_func())\n",
    "# Solution  :  \n",
    "        "
   ]
  },
  {
   "cell_type": "code",
   "execution_count": 18,
   "metadata": {},
   "outputs": [
    {
     "name": "stdout",
     "output_type": "stream",
     "text": [
      "10\n",
      "1111\n"
     ]
    }
   ],
   "source": [
    "# code to explain nonlocal keyword in python \n",
    "x = 1111\n",
    "def outer_func():\n",
    "    x = 5\n",
    "    def inner_func():\n",
    "        nonlocal x\n",
    "        x = 10\n",
    "    inner_func()\n",
    "    return x\n",
    "print(outer_func())\n",
    "print(x)"
   ]
  },
  {
   "cell_type": "code",
   "execution_count": null,
   "metadata": {},
   "outputs": [],
   "source": []
  },
  {
   "cell_type": "code",
   "execution_count": 17,
   "metadata": {},
   "outputs": [
    {
     "name": "stdout",
     "output_type": "stream",
     "text": [
      "9900\n"
     ]
    }
   ],
   "source": [
    "# what is the output of following code\n",
    "def function():\n",
    "    i = 0\n",
    "    sum = 0\n",
    "    while (i<100):\n",
    "        sum = sum + i\n",
    "        sum = i + sum\n",
    "        i += 1\n",
    "    print(sum)\n",
    "\n",
    "function()\n",
    " # n = 0 - sum = 0; i = 1\n",
    " # n = 1 - sum = 2; i = 3\n",
    " # n = 2 - sum = 8;  "
   ]
  },
  {
   "cell_type": "code",
   "execution_count": 18,
   "metadata": {},
   "outputs": [
    {
     "name": "stdout",
     "output_type": "stream",
     "text": [
      "0 0 1 1 2 "
     ]
    }
   ],
   "source": [
    "# what is the output of following code if n = 6\n",
    "# 1. Recursion\n",
    "# 2. Dynamic Programming\n",
    "# 3 function calling a function\n",
    "def printTribRec(n):\n",
    "    if ( n == 0 or n == 1 or n == 2 ):\n",
    "        return 0\n",
    "    elif ( n == 3 ):\n",
    "        return 1\n",
    "    else:\n",
    "        return (printTribRec(n-1) + printTribRec(n-2) + printTribRec(n-3)) \n",
    "    \n",
    "\n",
    "# n = 5 -> 2\n",
    "# n = 4 -> 1\n",
    "# n = 3 -> 1\n",
    "# n = 2 -> 0\n",
    "\n",
    "def printTrib(n):\n",
    "    for x in range(1,n):\n",
    "        print(printTribRec(x), end=' ')\n",
    "printTrib(6)"
   ]
  },
  {
   "cell_type": "code",
   "execution_count": 2,
   "metadata": {},
   "outputs": [
    {
     "name": "stdout",
     "output_type": "stream",
     "text": [
      "1 "
     ]
    }
   ],
   "source": [
    "for i in range(1,10): #range(start:inclusive, stop:exclusive, step:optional)\n",
    "    print(i, end=' ')\n",
    "    break"
   ]
  },
  {
   "cell_type": "code",
   "execution_count": 6,
   "metadata": {},
   "outputs": [
    {
     "data": {
      "text/plain": [
       "8"
      ]
     },
     "execution_count": 6,
     "metadata": {},
     "output_type": "execute_result"
    }
   ],
   "source": [
    "# what is the output of following code if n = 6\n",
    "\n",
    "def fib(n):\n",
    "    if (n <= 1):\n",
    "        return n\n",
    "    else:\n",
    "        return (fib(n-1) + fib(n-2))\n",
    "\n",
    "fib(6)   "
   ]
  },
  {
   "cell_type": "code",
   "execution_count": null,
   "metadata": {},
   "outputs": [],
   "source": []
  },
  {
   "cell_type": "code",
   "execution_count": 7,
   "metadata": {},
   "outputs": [
    {
     "name": "stdout",
     "output_type": "stream",
     "text": [
      "100\n"
     ]
    }
   ],
   "source": [
    "# what is the output of following code ?\n",
    "def fun(A, B):\n",
    "    if (B == 0):\n",
    "        return A\n",
    "    else:\n",
    "        return fun(B,A % B)\n",
    "\n",
    "ans = fun(100,2000)\n",
    "print(ans)"
   ]
  },
  {
   "cell_type": "code",
   "execution_count": 1,
   "metadata": {},
   "outputs": [
    {
     "name": "stdout",
     "output_type": "stream",
     "text": [
      "You tied\n"
     ]
    }
   ],
   "source": [
    "# what is the output of following code ?\n",
    "x = 2\n",
    "y = 5\n",
    "if x == 3 or x < 5 and y > 10:\n",
    "    print(\"You won\")\n",
    "elif not x == 3 or x < 5 and y > 10:\n",
    "    print(\"You tied\")\n",
    "else:\n",
    "    print(\"You lost\")\n"
   ]
  },
  {
   "cell_type": "code",
   "execution_count": 2,
   "metadata": {},
   "outputs": [
    {
     "name": "stdout",
     "output_type": "stream",
     "text": [
      "I am True part, so I should get executed\n"
     ]
    }
   ],
   "source": [
    "if False:\n",
    "    print(\"I am False part, so I should not get executed\")\n",
    "elif True:\n",
    "    print(\"I am True part, so I should get executed\")"
   ]
  },
  {
   "cell_type": "code",
   "execution_count": 4,
   "metadata": {},
   "outputs": [
    {
     "name": "stdout",
     "output_type": "stream",
     "text": [
      "I am False part with a negation, so I should get executed\n"
     ]
    }
   ],
   "source": [
    "if False:\n",
    "    print(\"I am False part, so I should not get executed\")\n",
    "elif not False:\n",
    "    print(\"I am False part with a negation, so I should get executed\")"
   ]
  },
  {
   "cell_type": "code",
   "execution_count": 1,
   "metadata": {},
   "outputs": [
    {
     "name": "stdout",
     "output_type": "stream",
     "text": [
      "True\n"
     ]
    }
   ],
   "source": [
    "# what is the output of following code ?\n",
    "\n",
    "class Dog:\n",
    "    def __init__(self, name, breed):\n",
    "        self.name = name\n",
    "        self.breed = breed\n",
    "\n",
    "dog1 = Dog(\"Dino\", \"Poodle\")\n",
    "\n",
    "print(isinstance(dog1, Dog))"
   ]
  },
  {
   "cell_type": "code",
   "execution_count": null,
   "metadata": {},
   "outputs": [],
   "source": []
  }
 ],
 "metadata": {
  "kernelspec": {
   "display_name": "Python 3",
   "language": "python",
   "name": "python3"
  },
  "language_info": {
   "codemirror_mode": {
    "name": "ipython",
    "version": 3
   },
   "file_extension": ".py",
   "mimetype": "text/x-python",
   "name": "python",
   "nbconvert_exporter": "python",
   "pygments_lexer": "ipython3",
   "version": "3.7.0"
  },
  "orig_nbformat": 4
 },
 "nbformat": 4,
 "nbformat_minor": 2
}
