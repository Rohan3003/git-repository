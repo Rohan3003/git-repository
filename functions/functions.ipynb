{
 "cells": [
  {
   "attachments": {},
   "cell_type": "markdown",
   "metadata": {},
   "source": [
    "### Functions\n",
    "Functions facilitate code reusability\n",
    "1. arguments and return statements are optional. This means you can have a function without arguments and return value.\n",
    "\n"
   ]
  },
  {
   "cell_type": "code",
   "execution_count": 1,
   "metadata": {},
   "outputs": [],
   "source": [
    "# Function definition\n",
    "\n",
    "def function_simple(parameters : str): # At function definition, the arguments that are consumed are called parameters\n",
    "    # This part is what function performs\n",
    "    result = parameters\n",
    "    return result"
   ]
  },
  {
   "cell_type": "code",
   "execution_count": 28,
   "metadata": {},
   "outputs": [
    {
     "data": {
      "text/plain": [
       "'str'"
      ]
     },
     "execution_count": 28,
     "metadata": {},
     "output_type": "execute_result"
    }
   ],
   "source": [
    "# Function call\n",
    "# values passed at the function call parameter is called arguments\n",
    "function_simple('str')"
   ]
  },
  {
   "cell_type": "code",
   "execution_count": 32,
   "metadata": {},
   "outputs": [
    {
     "name": "stdout",
     "output_type": "stream",
     "text": [
      "This function has no return value and no arguments.\n"
     ]
    }
   ],
   "source": [
    "# Function without return statement and arguments\n",
    "def func_1():\n",
    "    print(\"This function has no return value and no arguments.\")\n",
    "\n",
    "func_1()"
   ]
  },
  {
   "cell_type": "code",
   "execution_count": 2,
   "metadata": {},
   "outputs": [
    {
     "data": {
      "text/plain": [
       "2000"
      ]
     },
     "execution_count": 2,
     "metadata": {},
     "output_type": "execute_result"
    }
   ],
   "source": [
    "# Function with Default Arguments \n",
    "def func_2(principal, year, rate = 10.0):\n",
    "    interest = principal * rate * year\n",
    "    amount = principal + interest\n",
    "    return amount\n",
    "\n",
    "func_2(1000,1,1)"
   ]
  },
  {
   "attachments": {},
   "cell_type": "markdown",
   "metadata": {},
   "source": [
    "non-default arguments vs default arguments <br>\n",
    "https://stackoverflow.com/questions/24719368/syntaxerror-non-default-argument-follows-default-argument"
   ]
  },
  {
   "cell_type": "code",
   "execution_count": 31,
   "metadata": {},
   "outputs": [
    {
     "ename": "SyntaxError",
     "evalue": "non-default argument follows default argument (4247135065.py, line 2)",
     "output_type": "error",
     "traceback": [
      "\u001b[1;36m  Cell \u001b[1;32mIn[31], line 2\u001b[1;36m\u001b[0m\n\u001b[1;33m    def test(a=1, b):\u001b[0m\n\u001b[1;37m                   ^\u001b[0m\n\u001b[1;31mSyntaxError\u001b[0m\u001b[1;31m:\u001b[0m non-default argument follows default argument\n"
     ]
    }
   ],
   "source": [
    "# Default argument should always go at the end of function definition inside parameters\n",
    "\n",
    "def test(a=1, b):\n",
    "    return a+b\n",
    "\n",
    "test(1,b)"
   ]
  },
  {
   "cell_type": "code",
   "execution_count": 34,
   "metadata": {},
   "outputs": [
    {
     "ename": "TypeError",
     "evalue": "func_avg() takes 3 positional arguments but 4 were given",
     "output_type": "error",
     "traceback": [
      "\u001b[1;31m---------------------------------------------------------------------------\u001b[0m",
      "\u001b[1;31mTypeError\u001b[0m                                 Traceback (most recent call last)",
      "Cell \u001b[1;32mIn[34], line 9\u001b[0m\n\u001b[0;32m      5\u001b[0m     \u001b[39mreturn\u001b[39;00m avg\n\u001b[0;32m      8\u001b[0m func_avg(\u001b[39m1\u001b[39m,\u001b[39m2\u001b[39m,\u001b[39m3\u001b[39m)\n\u001b[1;32m----> 9\u001b[0m func_avg(\u001b[39m1\u001b[39;49m,\u001b[39m2\u001b[39;49m,\u001b[39m3\u001b[39;49m,\u001b[39m4\u001b[39;49m)\n",
      "\u001b[1;31mTypeError\u001b[0m: func_avg() takes 3 positional arguments but 4 were given"
     ]
    }
   ],
   "source": [
    "# args in functions\n",
    "\n",
    "def func_avg(a, b, c):\n",
    "    avg = (a+b+c)/3\n",
    "    return avg\n",
    "\n",
    "\n",
    "func_avg(1,2,3)\n",
    "func_avg(1,2,3,4)"
   ]
  },
  {
   "cell_type": "code",
   "execution_count": 42,
   "metadata": {},
   "outputs": [
    {
     "name": "stdout",
     "output_type": "stream",
     "text": [
      "3.0\n",
      "7.5\n"
     ]
    }
   ],
   "source": [
    "# passing variable number of arguments\n",
    "def func_arg_avg(*args):\n",
    "    avg = sum(args)/len(args)\n",
    "    return avg\n",
    "\n",
    "print(func_arg_avg(1,2,3,4,5))\n",
    "print(func_arg_avg(12,3))"
   ]
  },
  {
   "cell_type": "markdown",
   "metadata": {},
   "source": [
    "Function returns can have side effects apart from converting input to output. Example"
   ]
  },
  {
   "cell_type": "code",
   "execution_count": 4,
   "metadata": {},
   "outputs": [
    {
     "name": "stdout",
     "output_type": "stream",
     "text": [
      "Hello, Geir Arne Hjelle I am a python expert!\n",
      "Function returned: None\n"
     ]
    }
   ],
   "source": [
    "def greet(name):\n",
    "    message = \"Hello, \" + name + \" I am a python expert!\"\n",
    "    print(message)\n",
    "\n",
    "result = greet(\"Geir Arne Hjelle\")\n",
    "print(\"Function returned:\", result)"
   ]
  },
  {
   "cell_type": "code",
   "execution_count": null,
   "metadata": {},
   "outputs": [],
   "source": []
  },
  {
   "cell_type": "code",
   "execution_count": null,
   "metadata": {},
   "outputs": [],
   "source": []
  },
  {
   "cell_type": "code",
   "execution_count": null,
   "metadata": {},
   "outputs": [],
   "source": []
  },
  {
   "cell_type": "code",
   "execution_count": null,
   "metadata": {},
   "outputs": [],
   "source": []
  },
  {
   "cell_type": "code",
   "execution_count": null,
   "metadata": {},
   "outputs": [],
   "source": []
  },
  {
   "cell_type": "code",
   "execution_count": null,
   "metadata": {},
   "outputs": [],
   "source": []
  },
  {
   "cell_type": "code",
   "execution_count": null,
   "metadata": {},
   "outputs": [],
   "source": []
  },
  {
   "cell_type": "code",
   "execution_count": null,
   "metadata": {},
   "outputs": [],
   "source": []
  },
  {
   "cell_type": "markdown",
   "metadata": {},
   "source": [
    "### Lambda functions in Python"
   ]
  },
  {
   "cell_type": "code",
   "execution_count": 3,
   "metadata": {},
   "outputs": [
    {
     "name": "stdout",
     "output_type": "stream",
     "text": [
      "10\n"
     ]
    }
   ],
   "source": [
    "# lambda function to add two numbers\n",
    "sample_func = lambda x,y : x + y\n",
    "sample_func(1,2)"
   ]
  },
  {
   "cell_type": "markdown",
   "metadata": {},
   "source": [
    "### Subroutines"
   ]
  },
  {
   "cell_type": "markdown",
   "metadata": {},
   "source": []
  },
  {
   "cell_type": "code",
   "execution_count": null,
   "metadata": {},
   "outputs": [],
   "source": []
  },
  {
   "cell_type": "code",
   "execution_count": null,
   "metadata": {},
   "outputs": [],
   "source": []
  },
  {
   "cell_type": "code",
   "execution_count": null,
   "metadata": {},
   "outputs": [],
   "source": []
  },
  {
   "cell_type": "code",
   "execution_count": null,
   "metadata": {},
   "outputs": [],
   "source": []
  },
  {
   "cell_type": "markdown",
   "metadata": {},
   "source": [
    "### Generators"
   ]
  },
  {
   "cell_type": "markdown",
   "metadata": {},
   "source": [
    "Yield \n",
    "- to create a generator function and return a iterator object"
   ]
  },
  {
   "cell_type": "code",
   "execution_count": null,
   "metadata": {},
   "outputs": [],
   "source": [
    "def func_yield(val):\n",
    "    yield val\n",
    "\n",
    "func_yield(10)\n",
    "\n",
    "# to iterate over an iterable like object\n",
    "for i in func_yield(10):\n",
    "    print(i)\n"
   ]
  },
  {
   "cell_type": "code",
   "execution_count": null,
   "metadata": {},
   "outputs": [],
   "source": [
    "# Generator comprehension\n",
    "gen_1 = (i for i in range(3))\n",
    "print(type(gen_1))\n",
    "print(next(gen_1))\n",
    "print(next(gen_1))\n",
    "print(next(gen_1))\n",
    "print(next(gen_1))"
   ]
  },
  {
   "attachments": {},
   "cell_type": "markdown",
   "metadata": {},
   "source": [
    "### Decorators "
   ]
  },
  {
   "cell_type": "code",
   "execution_count": 1,
   "metadata": {},
   "outputs": [
    {
     "name": "stdout",
     "output_type": "stream",
     "text": [
      "Doing this\n",
      "Doing that\n"
     ]
    }
   ],
   "source": [
    "# decorator \n",
    "def func_do_this():\n",
    "    print('Doing this')\n",
    "\n",
    "def func_do_that():\n",
    "    print('Doing that')\n",
    "\n",
    "func_do_this()\n",
    "func_do_that()"
   ]
  },
  {
   "cell_type": "code",
   "execution_count": 32,
   "metadata": {},
   "outputs": [
    {
     "name": "stdout",
     "output_type": "stream",
     "text": [
      "Running : func_do_this\n",
      "Doing this\n",
      "Complete\n",
      "--------------------------------------------------\n",
      "Running : func_do_that\n",
      "Doing that\n",
      "Complete\n",
      "--------------------------------------------------\n"
     ]
    }
   ],
   "source": [
    "# decorator \n",
    "def func_my_decorator(func):\n",
    "    def wrapper():\n",
    "        print(f'Running : {func.__name__}')\n",
    "        func()\n",
    "        print('Complete')\n",
    "        print('-'*50)\n",
    "\n",
    "    return wrapper\n",
    "\n",
    "\n",
    "@func_my_decorator\n",
    "def func_do_this():\n",
    "    print('Doing this')\n",
    "\n",
    "@func_my_decorator\n",
    "def func_do_that():\n",
    "    print('Doing that')\n",
    "\n",
    "func_do_this()\n",
    "func_do_that()\n"
   ]
  },
  {
   "cell_type": "code",
   "execution_count": 10,
   "metadata": {},
   "outputs": [],
   "source": [
    "def func_1():\n",
    "    print('Running func_1')\n",
    "\n",
    "def func_2():\n",
    "    print('Running func_2')\n",
    "\n",
    "func_1()\n",
    "func_2()"
   ]
  },
  {
   "cell_type": "code",
   "execution_count": 30,
   "metadata": {},
   "outputs": [],
   "source": [
    "# to time function using decorator\n",
    "\n",
    "def func_decorator_1(func):\n",
    "    def wrapper_1():\n",
    "        print('Logging purposes :', func.__name__)\n",
    "        import time\n",
    "        start_time = time.time()\n",
    "        time.sleep(5)\n",
    "        func()\n",
    "        end_time = time.time()\n",
    "        print(f'Function took : {end_time-start_time} to run')     \n",
    "    return wrapper_1\n",
    "\n",
    "@func_decorator_1\n",
    "def func_1():\n",
    "    print('Running func_1')\n",
    "\n",
    "@func_decorator_1\n",
    "def func_2():\n",
    "    print('Running func_2')"
   ]
  },
  {
   "cell_type": "code",
   "execution_count": 31,
   "metadata": {},
   "outputs": [
    {
     "name": "stdout",
     "output_type": "stream",
     "text": [
      "Logging purposes : func_1\n",
      "Running func_1\n",
      "Function took : 5.006263017654419 to run\n",
      "Logging purposes : func_2\n",
      "Running func_2\n",
      "Function took : 5.003558397293091 to run\n"
     ]
    }
   ],
   "source": [
    "func_1()\n",
    "func_2()"
   ]
  },
  {
   "cell_type": "code",
   "execution_count": 24,
   "metadata": {},
   "outputs": [
    {
     "name": "stdout",
     "output_type": "stream",
     "text": [
      "Logging purposes : func_2\n",
      "Running func_2\n"
     ]
    }
   ],
   "source": []
  },
  {
   "cell_type": "code",
   "execution_count": null,
   "metadata": {},
   "outputs": [],
   "source": []
  },
  {
   "cell_type": "code",
   "execution_count": null,
   "metadata": {},
   "outputs": [],
   "source": []
  },
  {
   "cell_type": "code",
   "execution_count": null,
   "metadata": {},
   "outputs": [],
   "source": []
  },
  {
   "cell_type": "code",
   "execution_count": null,
   "metadata": {},
   "outputs": [],
   "source": []
  },
  {
   "attachments": {},
   "cell_type": "markdown",
   "metadata": {},
   "source": [
    "Recursion"
   ]
  },
  {
   "cell_type": "code",
   "execution_count": null,
   "metadata": {},
   "outputs": [],
   "source": [
    "# recursion in python\n",
    "def func_recursion():\n",
    "    print('Calling function 1')\n",
    "    func_1()\n",
    "    "
   ]
  }
 ],
 "metadata": {
  "kernelspec": {
   "display_name": "Python 3",
   "language": "python",
   "name": "python3"
  },
  "language_info": {
   "codemirror_mode": {
    "name": "ipython",
    "version": 3
   },
   "file_extension": ".py",
   "mimetype": "text/x-python",
   "name": "python",
   "nbconvert_exporter": "python",
   "pygments_lexer": "ipython3",
   "version": "3.11.7"
  },
  "orig_nbformat": 4
 },
 "nbformat": 4,
 "nbformat_minor": 2
}
