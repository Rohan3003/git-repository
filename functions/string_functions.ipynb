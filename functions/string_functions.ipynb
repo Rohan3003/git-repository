{
 "cells": [
  {
   "cell_type": "markdown",
   "metadata": {},
   "source": [
    "String methods <br>\n",
    "    1. Slicing <br>\n",
    "    2. strip() method <br>\n",
    "    3. lstrip() and rstrip() method <br>\n",
    "    4. replace() method <br>\n",
    "    5. f-string <br>\n",
    "    6. count() method <br>\n",
    "    7. Raw string and escape character <br>\n",
    "    8. capitalize() method <br>\n",
    "    9. upper() method <br>\n",
    "    10. \n",
    "    "
   ]
  },
  {
   "cell_type": "code",
   "execution_count": 1,
   "metadata": {},
   "outputs": [],
   "source": [
    "                                                                                                                                                                                                                                                                                                            # slicing of string"
   ]
  },
  {
   "attachments": {},
   "cell_type": "markdown",
   "metadata": {},
   "source": [
    "2. strip() method <br>\n",
    "\n",
    "* This will remove all leading and lagging whitespaces charater"
   ]
  },
  {
   "cell_type": "code",
   "execution_count": 4,
   "metadata": {},
   "outputs": [
    {
     "name": "stdout",
     "output_type": "stream",
     "text": [
      "Rohan Srivastwa\n"
     ]
    }
   ],
   "source": [
    "s = '    Rohan Srivastwa   '.strip()\n",
    "print(s) "
   ]
  },
  {
   "cell_type": "code",
   "execution_count": 5,
   "metadata": {},
   "outputs": [
    {
     "name": "stdout",
     "output_type": "stream",
     "text": [
      "hello\n"
     ]
    }
   ],
   "source": [
    "s = '###hello####'.strip('#')\n",
    "print(s)"
   ]
  },
  {
   "cell_type": "code",
   "execution_count": 7,
   "metadata": {},
   "outputs": [
    {
     "name": "stdout",
     "output_type": "stream",
     "text": [
      " \n",
      "\t hello\n"
     ]
    }
   ],
   "source": [
    "s = ' \\n\\t hello\\n'.strip('\\n')\n",
    "print(s)"
   ]
  },
  {
   "cell_type": "code",
   "execution_count": 8,
   "metadata": {},
   "outputs": [
    {
     "name": "stdout",
     "output_type": "stream",
     "text": [
      "\t hello\n"
     ]
    }
   ],
   "source": [
    "s = '\\n\\t hello\\n'.strip('\\n')\n",
    "print(s)"
   ]
  },
  {
   "attachments": {},
   "cell_type": "markdown",
   "metadata": {},
   "source": [
    "3. lstrip() and rstrip()\n",
    "\n",
    "    lstrip -> it is used to remove all leading characters from the string, if no arguments given and whitespaces are removed.<br>\n",
    "    rstrip -> it is used to remove all lagging characters from the string, if no arguments given and whitespaces are removed."
   ]
  },
  {
   "cell_type": "code",
   "execution_count": 14,
   "metadata": {},
   "outputs": [
    {
     "name": "stdout",
     "output_type": "stream",
     "text": [
      "hello..   \n"
     ]
    }
   ],
   "source": [
    "s = '    hello..   '.lstrip()\n",
    "print(s)"
   ]
  },
  {
   "cell_type": "code",
   "execution_count": 9,
   "metadata": {},
   "outputs": [
    {
     "data": {
      "text/plain": [
       "'leading charater and lagging character@@@@'"
      ]
     },
     "execution_count": 9,
     "metadata": {},
     "output_type": "execute_result"
    }
   ],
   "source": [
    "string_s = '---leading charater and lagging character@@@@'\n",
    "string_s.lstrip('-')"
   ]
  },
  {
   "cell_type": "code",
   "execution_count": 1,
   "metadata": {},
   "outputs": [
    {
     "name": "stdout",
     "output_type": "stream",
     "text": [
      "   ...hello\n"
     ]
    }
   ],
   "source": [
    "s = '   ...hello   '.rstrip()\n",
    "print(s)"
   ]
  },
  {
   "cell_type": "code",
   "execution_count": 10,
   "metadata": {},
   "outputs": [
    {
     "data": {
      "text/plain": [
       "'---leading charater and lagging character'"
      ]
     },
     "execution_count": 10,
     "metadata": {},
     "output_type": "execute_result"
    }
   ],
   "source": [
    "string_s.rstrip('@')"
   ]
  },
  {
   "cell_type": "markdown",
   "metadata": {},
   "source": [
    "4. replace() \n"
   ]
  },
  {
   "cell_type": "code",
   "execution_count": 16,
   "metadata": {},
   "outputs": [
    {
     "name": "stdout",
     "output_type": "stream",
     "text": [
      "['google', 'ikipedia.org', 'b001', 'grammarly']\n",
      "['google', 'ikipedia.org', 'b001.i', 'grammarly']\n",
      "['google', 'wikipedia.org', 'b001', 'grammarly']\n"
     ]
    }
   ],
   "source": [
    "# write python code to remove \"www.\" and \".com\" from the list of strings of urls\n",
    "\n",
    "urls = ['www.google.com', 'www.wikipedia.org', 'www.b001.io','www.grammarly.com',]\n",
    "\n",
    "# Solution1 \n",
    "dns1 = []\n",
    "dns2 = []\n",
    "\n",
    "for url in urls:\n",
    "    dns1.append(url.lstrip('www.').rstrip('.comi'))\n",
    "print(dns1)\n",
    "\n",
    "# But 'w' of wikipedia is also removed so this is not a good practice\n",
    "# The code below is same as code above since lstrip is trying to remove 'w' and '.' at the same time\n",
    "\n",
    "# Solution 2\n",
    "for url in urls:\n",
    "    dns2.append(url.lstrip('w.').rstrip('.com'))\n",
    "\n",
    "print(dns2)\n",
    "\n",
    "# Solution 1 and Solution 2 are not the correct solution.\n",
    "\n",
    "# Solution 3\n",
    "# use replace function with list comprehension\n",
    "cleared_urls = [url.replace('www.','').replace('.com','').replace('.io','') for url in urls]\n",
    "print(cleared_urls)"
   ]
  },
  {
   "attachments": {},
   "cell_type": "markdown",
   "metadata": {},
   "source": [
    "5. f-string in Python"
   ]
  },
  {
   "cell_type": "code",
   "execution_count": 1,
   "metadata": {},
   "outputs": [
    {
     "name": "stdout",
     "output_type": "stream",
     "text": [
      "Bob is 27 years old\n"
     ]
    }
   ],
   "source": [
    "# f-strings\n",
    "name = 'Bob'\n",
    "age = 27\n",
    "\n",
    "print(f'{name} is {age} years old')"
   ]
  },
  {
   "attachments": {},
   "cell_type": "markdown",
   "metadata": {},
   "source": [
    "5. count() method"
   ]
  },
  {
   "cell_type": "code",
   "execution_count": 8,
   "metadata": {},
   "outputs": [
    {
     "name": "stdout",
     "output_type": "stream",
     "text": [
      "2\n"
     ]
    }
   ],
   "source": [
    "string1 = \"My Python language programming is exceptionally good and My skills are awesome\"\n",
    "substring1 = \"My\"\n",
    "print(string1.count(substring1))"
   ]
  },
  {
   "attachments": {},
   "cell_type": "markdown",
   "metadata": {},
   "source": [
    "6. Raw String and escape charater"
   ]
  },
  {
   "cell_type": "code",
   "execution_count": 27,
   "metadata": {},
   "outputs": [
    {
     "ename": "SyntaxError",
     "evalue": "(unicode error) 'unicodeescape' codec can't decode bytes in position 0-1: truncated \\uXXXX escape (<ipython-input-27-7b46446f6570>, line 1)",
     "output_type": "error",
     "traceback": [
      "\u001b[1;36m  File \u001b[1;32m\"<ipython-input-27-7b46446f6570>\"\u001b[1;36m, line \u001b[1;32m1\u001b[0m\n\u001b[1;33m    string_0 = '\\user\\topics\\new'\u001b[0m\n\u001b[1;37m              ^\u001b[0m\n\u001b[1;31mSyntaxError\u001b[0m\u001b[1;31m:\u001b[0m (unicode error) 'unicodeescape' codec can't decode bytes in position 0-1: truncated \\uXXXX escape\n"
     ]
    }
   ],
   "source": [
    "string_0 = '\\user\\topics\\new'\n",
    "print(string_0)"
   ]
  },
  {
   "cell_type": "code",
   "execution_count": 26,
   "metadata": {},
   "outputs": [
    {
     "name": "stdout",
     "output_type": "stream",
     "text": [
      "\\user\\topics\\new\n"
     ]
    }
   ],
   "source": [
    "string_1 = r'\\user\\topics\\new'\n",
    "print(string_1)"
   ]
  },
  {
   "cell_type": "code",
   "execution_count": 12,
   "metadata": {},
   "outputs": [
    {
     "name": "stdout",
     "output_type": "stream",
     "text": [
      "\topics\n",
      "ew\n",
      "\\topics\\new\n"
     ]
    }
   ],
   "source": [
    "string_2 = '\\topics\\new'\n",
    "print(string_2)\n",
    "\n",
    "string_3  = '\\\\topics\\\\new'\n",
    "print(string_3)"
   ]
  },
  {
   "cell_type": "code",
   "execution_count": 29,
   "metadata": {},
   "outputs": [
    {
     "name": "stdout",
     "output_type": "stream",
     "text": [
      "Hello World\n"
     ]
    }
   ],
   "source": [
    "string_4 = \"Hello\\u0020World\"\n",
    "print(string_4)\n",
    "# \\u0020 - space character"
   ]
  },
  {
   "cell_type": "code",
   "execution_count": null,
   "metadata": {},
   "outputs": [],
   "source": [
    "# replace() method\n",
    "string_5 = "
   ]
  },
  {
   "cell_type": "code",
   "execution_count": 9,
   "metadata": {},
   "outputs": [
    {
     "name": "stdout",
     "output_type": "stream",
     "text": [
      "Python is Python \n"
     ]
    }
   ],
   "source": [
    "# what is the output of following code\n",
    "def my_str():\n",
    "    message = \"Python \"\n",
    "    new_msg = message + \"is \" + message\n",
    "    new_msg.replace(message, \"Great \")\n",
    "    return new_msg\n",
    "\n",
    "print(my_str())"
   ]
  },
  {
   "cell_type": "code",
   "execution_count": 8,
   "metadata": {},
   "outputs": [
    {
     "name": "stdout",
     "output_type": "stream",
     "text": [
      "Great is Great \n"
     ]
    }
   ],
   "source": [
    "# what is the output of following code\n",
    "def my_str():\n",
    "    message = \"Python \"\n",
    "    new_msg = message + \"is \" + message\n",
    "    new_msg = new_msg.replace(message, \"Great \")\n",
    "    return new_msg\n",
    "\n",
    "print(my_str())"
   ]
  },
  {
   "cell_type": "code",
   "execution_count": 7,
   "metadata": {},
   "outputs": [
    {
     "data": {
      "text/plain": [
       "'bbcbb'"
      ]
     },
     "execution_count": 7,
     "metadata": {},
     "output_type": "execute_result"
    }
   ],
   "source": [
    "s = \"aacaa\"\n",
    "s.replace(\"a\",\"b\")"
   ]
  },
  {
   "cell_type": "code",
   "execution_count": null,
   "metadata": {},
   "outputs": [],
   "source": []
  },
  {
   "cell_type": "code",
   "execution_count": 1,
   "metadata": {},
   "outputs": [
    {
     "data": {
      "text/plain": [
       "'hELLO, wORLD. tHIS IS ROHAN3003'"
      ]
     },
     "execution_count": 1,
     "metadata": {},
     "output_type": "execute_result"
    }
   ],
   "source": [
    "# swapcase\n",
    "string_4 = 'Hello, World. This is rohan3003'\n",
    "string_4.swapcase()"
   ]
  },
  {
   "cell_type": "code",
   "execution_count": null,
   "metadata": {},
   "outputs": [],
   "source": []
  },
  {
   "cell_type": "code",
   "execution_count": null,
   "metadata": {},
   "outputs": [],
   "source": []
  },
  {
   "cell_type": "code",
   "execution_count": null,
   "metadata": {},
   "outputs": [],
   "source": []
  },
  {
   "cell_type": "code",
   "execution_count": null,
   "metadata": {},
   "outputs": [],
   "source": []
  },
  {
   "cell_type": "code",
   "execution_count": null,
   "metadata": {},
   "outputs": [],
   "source": [
    "pip install"
   ]
  },
  {
   "cell_type": "code",
   "execution_count": 2,
   "metadata": {},
   "outputs": [
    {
     "data": {
      "text/plain": [
       "'3.7.0 (default, Jun 28 2018, 08:04:48) [MSC v.1912 64 bit (AMD64)]'"
      ]
     },
     "execution_count": 2,
     "metadata": {},
     "output_type": "execute_result"
    }
   ],
   "source": []
  },
  {
   "attachments": {},
   "cell_type": "markdown",
   "metadata": {},
   "source": [
    "### Problems"
   ]
  },
  {
   "cell_type": "code",
   "execution_count": 7,
   "metadata": {},
   "outputs": [
    {
     "name": "stdout",
     "output_type": "stream",
     "text": [
      " \n"
     ]
    },
    {
     "ename": "NameError",
     "evalue": "name 'count' is not defined",
     "output_type": "error",
     "traceback": [
      "\u001b[1;31m---------------------------------------------------------------------------\u001b[0m",
      "\u001b[1;31mNameError\u001b[0m                                 Traceback (most recent call last)",
      "Cell \u001b[1;32mIn[7], line 13\u001b[0m\n\u001b[0;32m     10\u001b[0m     \u001b[39mprint\u001b[39m(string, substring)\n\u001b[0;32m     11\u001b[0m     \u001b[39mreturn\u001b[39;00m count\n\u001b[1;32m---> 13\u001b[0m count_string(string, substring)\n",
      "Cell \u001b[1;32mIn[7], line 11\u001b[0m, in \u001b[0;36mcount_string\u001b[1;34m(string, substring)\u001b[0m\n\u001b[0;32m      8\u001b[0m \u001b[39mdef\u001b[39;00m \u001b[39mcount_string\u001b[39m(string, substring):\n\u001b[0;32m      9\u001b[0m     \u001b[39m#count = \u001b[39;00m\n\u001b[0;32m     10\u001b[0m     \u001b[39mprint\u001b[39m(string, substring)\n\u001b[1;32m---> 11\u001b[0m     \u001b[39mreturn\u001b[39;00m count\n",
      "\u001b[1;31mNameError\u001b[0m: name 'count' is not defined"
     ]
    }
   ],
   "source": [
    "# Problem 1 \n",
    "# input - string and substring \n",
    "# to find no of times substring happened in the string from left to right\n",
    "\n",
    "string = input().strip()\n",
    "substring = input().strip()\n",
    "\n",
    "def count_string(string, substring):\n",
    "    #count = \n",
    "    print(string, substring)\n",
    "    return count\n",
    "\n",
    "count_string(string, substring)\n"
   ]
  },
  {
   "cell_type": "code",
   "execution_count": null,
   "metadata": {},
   "outputs": [],
   "source": []
  }
 ],
 "metadata": {
  "kernelspec": {
   "display_name": "Python 3",
   "language": "python",
   "name": "python3"
  },
  "language_info": {
   "codemirror_mode": {
    "name": "ipython",
    "version": 3
   },
   "file_extension": ".py",
   "mimetype": "text/x-python",
   "name": "python",
   "nbconvert_exporter": "python",
   "pygments_lexer": "ipython3",
   "version": "3.7.0"
  },
  "orig_nbformat": 4
 },
 "nbformat": 4,
 "nbformat_minor": 2
}
