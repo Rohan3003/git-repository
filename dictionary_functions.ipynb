{
 "cells": [
  {
   "cell_type": "code",
   "execution_count": null,
   "metadata": {},
   "outputs": [],
   "source": [
    "# dict.get() method\n",
    "\n",
    "#https://www.programiz.com/python-programming/methods/dictionary/get\n",
    "\n",
    "# dict = {\"key1\":\"value1\",\\\n",
    "#         \"key2\":\"value2\"}"
   ]
  },
  {
   "cell_type": "code",
   "execution_count": 2,
   "metadata": {},
   "outputs": [],
   "source": [
    "dict1 = {\"name\" : \"Rohan\",\\\n",
    "        \"age\" : 28, \\\n",
    "        \"school\" : \"Loyola High School\",\\\n",
    "        \"dob\" : \"2023-04-31\"}"
   ]
  },
  {
   "cell_type": "code",
   "execution_count": 5,
   "metadata": {},
   "outputs": [
    {
     "name": "stdout",
     "output_type": "stream",
     "text": [
      "dict_items([('name', 'Rohan'), ('age', 28), ('school', 'Loyola High School'), ('dob', '2023-04-31')])\n"
     ]
    }
   ],
   "source": [
    "# dict.items()\n",
    "item = dict1.items()\n",
    "print(item)"
   ]
  },
  {
   "cell_type": "code",
   "execution_count": 6,
   "metadata": {},
   "outputs": [
    {
     "name": "stdout",
     "output_type": "stream",
     "text": [
      "dict_keys(['name', 'age', 'school', 'dob'])\n"
     ]
    }
   ],
   "source": [
    "# dict.key()\n",
    "keys =  dict1.keys()\n",
    "print(keys)"
   ]
  },
  {
   "cell_type": "code",
   "execution_count": 7,
   "metadata": {},
   "outputs": [
    {
     "name": "stdout",
     "output_type": "stream",
     "text": [
      "dict_values(['Rohan', 28, 'Loyola High School', '2023-04-31'])\n"
     ]
    }
   ],
   "source": [
    "# dict.values()\n",
    "values = dict1.values()\n",
    "print(values)"
   ]
  },
  {
   "cell_type": "code",
   "execution_count": 10,
   "metadata": {},
   "outputs": [
    {
     "name": "stdout",
     "output_type": "stream",
     "text": [
      "name : Rohan\n",
      "age : 28\n",
      "school : Loyola High School\n",
      "dob : 2023-04-31\n"
     ]
    }
   ],
   "source": [
    "# iterating over a loop\n",
    "for key, value in dict1.items():\n",
    "    print(f\"{key} : {value}\")"
   ]
  },
  {
   "cell_type": "code",
   "execution_count": 13,
   "metadata": {},
   "outputs": [
    {
     "data": {
      "text/plain": [
       "{'name': 'Rohan', 'age': 28, 'school': 'Loyola High School'}"
      ]
     },
     "execution_count": 13,
     "metadata": {},
     "output_type": "execute_result"
    }
   ],
   "source": [
    "# pop() to remove a key:value when given inside parameter\n",
    "dict1 = {\"name\" : \"Rohan\",\\\n",
    "        \"age\" : 28, \\\n",
    "        \"school\" : \"Loyola High School\",\\\n",
    "        \"dob\" : \"2023-04-31\"}\n",
    "dict1.pop(\"dob\")\n",
    "dict1"
   ]
  },
  {
   "cell_type": "code",
   "execution_count": 16,
   "metadata": {},
   "outputs": [
    {
     "data": {
      "text/plain": [
       "{'name': 'Rohan', 'age': 28}"
      ]
     },
     "execution_count": 16,
     "metadata": {},
     "output_type": "execute_result"
    }
   ],
   "source": [
    "# popitem() behaves similar to pop(\"key\")\n",
    "dict1 = {\"name\" : \"Rohan\",\\\n",
    "        \"age\" : 28, \\\n",
    "        \"school\" : \"Loyola High School\",\\\n",
    "        \"dob\" : \"2023-04-31\"}\n",
    "dict1.popitem()\n",
    "dict1.popitem()\n",
    "dict1"
   ]
  },
  {
   "cell_type": "code",
   "execution_count": 18,
   "metadata": {},
   "outputs": [
    {
     "data": {
      "text/plain": [
       "{'name': 'Rohan',\n",
       " 'age': 28,\n",
       " 'school': 'Loyola High School',\n",
       " 'dob': '2023-04-31',\n",
       " 'company': 'TCS'}"
      ]
     },
     "execution_count": 18,
     "metadata": {},
     "output_type": "execute_result"
    }
   ],
   "source": [
    "# update() method is used to add \n",
    "dict1 = {\"name\" : \"Rohan\",\\\n",
    "        \"age\" : 28, \\\n",
    "        \"school\" : \"Loyola High School\",\\\n",
    "        \"dob\" : \"2023-04-31\"}\n",
    "dict1.update({\"company\":\"TCS\"})\n",
    "dict1\n"
   ]
  },
  {
   "cell_type": "code",
   "execution_count": 27,
   "metadata": {},
   "outputs": [
    {
     "name": "stdout",
     "output_type": "stream",
     "text": [
      "1304035852096\n",
      "1304056379648\n"
     ]
    },
    {
     "data": {
      "text/plain": [
       "False"
      ]
     },
     "execution_count": 27,
     "metadata": {},
     "output_type": "execute_result"
    }
   ],
   "source": [
    "# copy() method is used to copy one dictionary to a variable\n",
    "x = dict1.copy()\n",
    "x\n",
    "print(id(dict1))\n",
    "print(id(x))\n",
    "\n",
    "x is dict1"
   ]
  },
  {
   "cell_type": "code",
   "execution_count": 29,
   "metadata": {},
   "outputs": [
    {
     "data": {
      "text/plain": [
       "False"
      ]
     },
     "execution_count": 29,
     "metadata": {},
     "output_type": "execute_result"
    }
   ],
   "source": [
    "isinstance(type(x),type(dict1))"
   ]
  },
  {
   "cell_type": "code",
   "execution_count": 32,
   "metadata": {},
   "outputs": [
    {
     "data": {
      "text/plain": [
       "{}"
      ]
     },
     "execution_count": 32,
     "metadata": {},
     "output_type": "execute_result"
    }
   ],
   "source": [
    "# clear method is used to remove all entries from the list\n",
    "dict1_copy = dict1.copy()\n",
    "dict1_copy.clear()\n",
    "dict1_copy"
   ]
  },
  {
   "cell_type": "code",
   "execution_count": 35,
   "metadata": {},
   "outputs": [
    {
     "data": {
      "text/plain": [
       "{'name': 'Rohan',\n",
       " 'age': 28,\n",
       " 'school': 'Loyola High School',\n",
       " 'dob': '2023-04-31',\n",
       " 'company': 'TCS'}"
      ]
     },
     "execution_count": 35,
     "metadata": {},
     "output_type": "execute_result"
    }
   ],
   "source": [
    "dict1"
   ]
  },
  {
   "cell_type": "code",
   "execution_count": null,
   "metadata": {},
   "outputs": [],
   "source": []
  }
 ],
 "metadata": {
  "kernelspec": {
   "display_name": "Python 3",
   "language": "python",
   "name": "python3"
  },
  "language_info": {
   "codemirror_mode": {
    "name": "ipython",
    "version": 3
   },
   "file_extension": ".py",
   "mimetype": "text/x-python",
   "name": "python",
   "nbconvert_exporter": "python",
   "pygments_lexer": "ipython3",
   "version": "3.9.13"
  },
  "orig_nbformat": 4
 },
 "nbformat": 4,
 "nbformat_minor": 2
}
