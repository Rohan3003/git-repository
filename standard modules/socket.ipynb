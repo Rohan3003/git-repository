{
 "cells": [
  {
   "cell_type": "code",
   "execution_count": 1,
   "metadata": {},
   "outputs": [
    {
     "name": "stdout",
     "output_type": "stream",
     "text": [
      "Rohan_ASUS 192.168.29.29\n"
     ]
    }
   ],
   "source": [
    "import socket\n",
    "hostname = socket.gethostname() #to get the hostname\n",
    "ip_address = socket.gethostbyname(hostname) #to resolve the hostname to correspoding IP address\n",
    "\n",
    "print(hostname,ip_address)"
   ]
  },
  {
   "cell_type": "code",
   "execution_count": 2,
   "metadata": {},
   "outputs": [
    {
     "data": {
      "text/plain": [
       "'142.251.42.36'"
      ]
     },
     "execution_count": 2,
     "metadata": {},
     "output_type": "execute_result"
    }
   ],
   "source": [
    "import socket\n",
    "hostname = socket.gethostbyname('www.google.com')\n",
    "hostname"
   ]
  },
  {
   "cell_type": "code",
   "execution_count": 8,
   "metadata": {},
   "outputs": [
    {
     "name": "stdout",
     "output_type": "stream",
     "text": [
      "Socket successfully created\n",
      "The socket has successfully connected to google on port number 80 == 104.18.174.101\n"
     ]
    }
   ],
   "source": [
    "# Script to connect to a server\n",
    "import socket\n",
    "import sys\n",
    "\n",
    "try:\n",
    "    s = socket.socket(socket.AF_INET, socket.SOCK_STREAM) \n",
    "    # AF_INET is the address family for IPv4. \n",
    "    # SOCK_STREAM is the socket type for TCP, the protocol that will be used to transport our messages in the network.\n",
    "    print(\"Socket successfully created\")\n",
    "except socket.error as err:\n",
    "    print(f\"Socket creation failed with error : {err}\")\n",
    "\n",
    "# default port for socket\n",
    "port = 80\n",
    "\n",
    "try:\n",
    "    host_ip = socket.gethostbyname(str(input(\"Please input the address of the website: \")))\n",
    "except socket.gaierror:\n",
    "    print(\"There was an error resolving the host\")\n",
    "    sys.exit() # exit from the script\n",
    "\n",
    "s.connect((host_ip, port)) # connect to the server\n",
    "print(f\"The socket has successfully connected to google on port number {port} == {host_ip}\")"
   ]
  },
  {
   "cell_type": "code",
   "execution_count": null,
   "metadata": {},
   "outputs": [],
   "source": []
  }
 ],
 "metadata": {
  "kernelspec": {
   "display_name": "base",
   "language": "python",
   "name": "python3"
  },
  "language_info": {
   "codemirror_mode": {
    "name": "ipython",
    "version": 3
   },
   "file_extension": ".py",
   "mimetype": "text/x-python",
   "name": "python",
   "nbconvert_exporter": "python",
   "pygments_lexer": "ipython3",
   "version": "3.7.0"
  },
  "orig_nbformat": 4
 },
 "nbformat": 4,
 "nbformat_minor": 2
}
