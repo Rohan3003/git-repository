{
 "cells": [
  {
   "attachments": {},
   "cell_type": "markdown",
   "metadata": {},
   "source": [
    "### Classes"
   ]
  },
  {
   "cell_type": "code",
   "execution_count": 3,
   "metadata": {},
   "outputs": [],
   "source": [
    "class Rectange:\n",
    "    \"\"\"\n",
    "    initializer - dunder __init__ function\n",
    "    first argument of __init__ func is the object itself with -> self keyword.\n",
    "    __init__ attribute is not callabale\n",
    "    \"\"\"\n",
    "    def __init__(self, width, height):\n",
    "        # value attribues of the class is defined here\n",
    "        self.width = width\n",
    "        self.height = height  # no data encapsulation happening here as in java   "
   ]
  },
  {
   "cell_type": "code",
   "execution_count": 4,
   "metadata": {},
   "outputs": [],
   "source": [
    "r1 = Rectange(10,20)"
   ]
  },
  {
   "cell_type": "code",
   "execution_count": 5,
   "metadata": {},
   "outputs": [
    {
     "data": {
      "text/plain": [
       "10"
      ]
     },
     "execution_count": 5,
     "metadata": {},
     "output_type": "execute_result"
    }
   ],
   "source": [
    "r1.width"
   ]
  },
  {
   "cell_type": "code",
   "execution_count": 6,
   "metadata": {},
   "outputs": [
    {
     "data": {
      "text/plain": [
       "20"
      ]
     },
     "execution_count": 6,
     "metadata": {},
     "output_type": "execute_result"
    }
   ],
   "source": [
    "r1.height"
   ]
  },
  {
   "cell_type": "code",
   "execution_count": 8,
   "metadata": {},
   "outputs": [],
   "source": [
    "r1.width = 1000"
   ]
  },
  {
   "cell_type": "code",
   "execution_count": 9,
   "metadata": {},
   "outputs": [
    {
     "data": {
      "text/plain": [
       "1000"
      ]
     },
     "execution_count": 9,
     "metadata": {},
     "output_type": "execute_result"
    }
   ],
   "source": [
    "r1.width"
   ]
  },
  {
   "cell_type": "code",
   "execution_count": null,
   "metadata": {},
   "outputs": [],
   "source": []
  },
  {
   "cell_type": "code",
   "execution_count": null,
   "metadata": {},
   "outputs": [],
   "source": []
  },
  {
   "cell_type": "code",
   "execution_count": 1,
   "metadata": {},
   "outputs": [],
   "source": [
    "class MyClass:\n",
    "    \"\"\"A simple class example to undertstand attributes\"\"\"\n",
    "    i = 1000 # i is called attribute since with default value as 1000\n",
    "    def function1(self):\n",
    "        return \"Hello, World\""
   ]
  },
  {
   "cell_type": "code",
   "execution_count": 2,
   "metadata": {},
   "outputs": [
    {
     "data": {
      "text/plain": [
       "<function __main__.MyClass.function1(self)>"
      ]
     },
     "execution_count": 2,
     "metadata": {},
     "output_type": "execute_result"
    }
   ],
   "source": [
    "MyClass.function1"
   ]
  },
  {
   "cell_type": "code",
   "execution_count": 3,
   "metadata": {},
   "outputs": [
    {
     "data": {
      "text/plain": [
       "1000"
      ]
     },
     "execution_count": 3,
     "metadata": {},
     "output_type": "execute_result"
    }
   ],
   "source": [
    "MyClass.i"
   ]
  },
  {
   "cell_type": "code",
   "execution_count": 6,
   "metadata": {},
   "outputs": [],
   "source": [
    "MyClass.i = 99"
   ]
  },
  {
   "cell_type": "code",
   "execution_count": 7,
   "metadata": {},
   "outputs": [
    {
     "data": {
      "text/plain": [
       "99"
      ]
     },
     "execution_count": 7,
     "metadata": {},
     "output_type": "execute_result"
    }
   ],
   "source": [
    "MyClass.i"
   ]
  },
  {
   "cell_type": "code",
   "execution_count": 20,
   "metadata": {},
   "outputs": [
    {
     "name": "stdout",
     "output_type": "stream",
     "text": [
      "<__main__.Employee object at 0x000001F16F1F2400>\n",
      "<__main__.Employee object at 0x000001F16F1F2130>\n",
      "50000\n",
      "rohan.srivastwa@gmail.com\n",
      "80000\n",
      "virat.kohli@gmail.com\n"
     ]
    }
   ],
   "source": [
    "class Employee:\n",
    "    pass \n",
    "emp1 = Employee()\n",
    "emp2 = Employee()\n",
    "\n",
    "print(emp1) # emp1 is an instance of class Employee but different than emp_2\n",
    "print(emp2) # emp2 is also an instance of class Employee but different than emp_1\n",
    "\n",
    "# Variables for emp1\n",
    "\n",
    "emp1.first_name = 'Rohan'\n",
    "emp1.last_name = 'Srivastwa'\n",
    "emp1.salary = 50000\n",
    "emp1.email = f'{emp1.first_name}.{emp1.last_name}@gmail.com'.lower()\n",
    "\n",
    "\n",
    "print(emp1.salary)\n",
    "print(emp1.email)\n",
    "\n",
    "\n",
    "# Similarly to create variables for emp2\n",
    "\n",
    "emp2.first_name = 'Virat'\n",
    "emp2.last_name = 'Kohli'\n",
    "emp2.salary = 80000\n",
    "emp2.email = f'{emp2.first_name}.{emp2.last_name}@gmail.com'.lower()\n",
    "\n",
    "\n",
    "print(emp2.salary)\n",
    "print(emp2.email)"
   ]
  },
  {
   "cell_type": "code",
   "execution_count": 21,
   "metadata": {},
   "outputs": [],
   "source": [
    "class Employee():\n",
    "    def __init__(self, first_name, last_name, salary):\n",
    "        self.fname = first_name\n",
    "        self.lname = last_name\n",
    "        self.income = salary\n",
    "        self.email_address = f'{self.fname}.{self.lname}@gmail.com'.lower()"
   ]
  },
  {
   "cell_type": "code",
   "execution_count": 24,
   "metadata": {},
   "outputs": [
    {
     "name": "stdout",
     "output_type": "stream",
     "text": [
      "rohan.srivastwa@gmail.com\n",
      "satyendra.pal@gmail.com\n"
     ]
    }
   ],
   "source": [
    "Emp1 = Employee('Rohan', 'Srivastwa', 1000)\n",
    "Emp2 = Employee('Satyendra', 'Pal', 1000)\n",
    "\n",
    "print(Emp1.email_address)\n",
    "print(Emp2.email_address)"
   ]
  },
  {
   "cell_type": "code",
   "execution_count": null,
   "metadata": {},
   "outputs": [],
   "source": []
  },
  {
   "cell_type": "code",
   "execution_count": null,
   "metadata": {},
   "outputs": [],
   "source": []
  },
  {
   "cell_type": "code",
   "execution_count": null,
   "metadata": {},
   "outputs": [],
   "source": []
  },
  {
   "cell_type": "code",
   "execution_count": 14,
   "metadata": {},
   "outputs": [
    {
     "data": {
      "text/plain": [
       "'Hello I am a static method'"
      ]
     },
     "execution_count": 14,
     "metadata": {},
     "output_type": "execute_result"
    }
   ],
   "source": [
    "# @staticmethod in python\n",
    "class MyClass:\n",
    "    @staticmethod\n",
    "    def method1_no_param():\n",
    "        return \"Hello I am a static method\"\n",
    "\n",
    "# The method can be accessed with creating any instance as shown below\n",
    "MyClass.method1_no_param()"
   ]
  },
  {
   "cell_type": "code",
   "execution_count": 13,
   "metadata": {},
   "outputs": [
    {
     "data": {
      "text/plain": [
       "'Hello I am a static method'"
      ]
     },
     "execution_count": 13,
     "metadata": {},
     "output_type": "execute_result"
    }
   ],
   "source": []
  },
  {
   "cell_type": "code",
   "execution_count": null,
   "metadata": {},
   "outputs": [],
   "source": [
    "# @classmethod in python"
   ]
  },
  {
   "cell_type": "code",
   "execution_count": 11,
   "metadata": {},
   "outputs": [
    {
     "name": "stdout",
     "output_type": "stream",
     "text": [
      "<__main__.Fruits object at 0x000001C0610F2748>\n"
     ]
    }
   ],
   "source": [
    "# \n",
    "\n",
    "class Fruits:\n",
    "    def __init__(self, name:str, price):\n",
    "        self.name = name\n",
    "        self.price = price\n",
    "    \n",
    "    def method1(self):\n",
    "        pass\n",
    "\n",
    "    def method2(self):\n",
    "        pass\n",
    "\n",
    "\n",
    "banana = Fruits('banana',10.5)\n",
    "print(banana)\n",
    "# This output has no meaning for instance of class"
   ]
  },
  {
   "cell_type": "markdown",
   "metadata": {},
   "source": [
    "#### __ str __ method"
   ]
  },
  {
   "cell_type": "code",
   "execution_count": 13,
   "metadata": {},
   "outputs": [
    {
     "name": "stdout",
     "output_type": "stream",
     "text": [
      "banana is $10.5\n"
     ]
    }
   ],
   "source": [
    "# using __str__ method to return some string value about instance of a class.\n",
    "\n",
    "class Fruits:\n",
    "    def __init__(self, name : str, price):\n",
    "        self.name = name\n",
    "        self.price = price\n",
    "    \n",
    "    def method1(self):\n",
    "        pass\n",
    "\n",
    "    def method2(self):\n",
    "        pass\n",
    "    def __str__(self):\n",
    "        return f\"{self.name} is ${self.price}\"\n",
    "\n",
    "banana = Fruits('banana',10.5)\n",
    "print(banana)\n",
    "# This output has some meaning after string method has been added here"
   ]
  },
  {
   "cell_type": "markdown",
   "metadata": {},
   "source": [
    "#### __ add __ method "
   ]
  },
  {
   "cell_type": "code",
   "execution_count": 2,
   "metadata": {},
   "outputs": [],
   "source": [
    "# using __add__(self, other) method to return sum of class instance\n",
    "class Expense:\n",
    "    def __init__(self, name, cost):\n",
    "        self.name = name\n",
    "        self.cost = cost\n",
    "\n",
    "    def method(self):\n",
    "        ..."
   ]
  },
  {
   "cell_type": "code",
   "execution_count": 3,
   "metadata": {},
   "outputs": [],
   "source": [
    "food = Expense('Food', 10)\n",
    "fuel = Expense('Fuel', 20)"
   ]
  },
  {
   "cell_type": "code",
   "execution_count": 4,
   "metadata": {},
   "outputs": [
    {
     "ename": "TypeError",
     "evalue": "unsupported operand type(s) for +: 'Expense' and 'Expense'",
     "output_type": "error",
     "traceback": [
      "\u001b[1;31m---------------------------------------------------------------------------\u001b[0m",
      "\u001b[1;31mTypeError\u001b[0m                                 Traceback (most recent call last)",
      "\u001b[1;32m<ipython-input-4-16f7a3f7034c>\u001b[0m in \u001b[0;36m<module>\u001b[1;34m()\u001b[0m\n\u001b[1;32m----> 1\u001b[1;33m \u001b[0mprint\u001b[0m\u001b[1;33m(\u001b[0m\u001b[0mfood\u001b[0m \u001b[1;33m+\u001b[0m \u001b[0mfuel\u001b[0m\u001b[1;33m)\u001b[0m\u001b[1;33m\u001b[0m\u001b[0m\n\u001b[0m",
      "\u001b[1;31mTypeError\u001b[0m: unsupported operand type(s) for +: 'Expense' and 'Expense'"
     ]
    }
   ],
   "source": [
    "print(food + fuel)"
   ]
  },
  {
   "cell_type": "code",
   "execution_count": 10,
   "metadata": {},
   "outputs": [],
   "source": [
    "# using __add__ method to return sum of class instance\n",
    "class Expense:\n",
    "    def __init__(self, name, cost):\n",
    "        self.name = name\n",
    "        self.cost = cost\n",
    "\n",
    "    def method(self):\n",
    "        ...\n",
    "\n",
    "    def __add__(self, other):\n",
    "        return self.cost + other.cost"
   ]
  },
  {
   "cell_type": "code",
   "execution_count": 11,
   "metadata": {},
   "outputs": [],
   "source": [
    "food = Expense('Food', 10)\n",
    "fuel = Expense('Fuel', 20)"
   ]
  },
  {
   "cell_type": "code",
   "execution_count": 12,
   "metadata": {},
   "outputs": [
    {
     "name": "stdout",
     "output_type": "stream",
     "text": [
      "30\n"
     ]
    }
   ],
   "source": [
    "print(food+fuel)"
   ]
  },
  {
   "cell_type": "markdown",
   "metadata": {},
   "source": [
    "#### __ call __ method"
   ]
  },
  {
   "cell_type": "code",
   "execution_count": 1,
   "metadata": {},
   "outputs": [],
   "source": [
    "# __call__ method in python\n",
    "class Car:\n",
    "    def __init__(self, brand: str):\n",
    "        self.brand = brand\n",
    "\n",
    "    def meth(self):\n",
    "        ..."
   ]
  },
  {
   "cell_type": "code",
   "execution_count": 4,
   "metadata": {},
   "outputs": [],
   "source": [
    "car = Car('Ferrari')\n",
    "car.meth()"
   ]
  },
  {
   "cell_type": "code",
   "execution_count": 6,
   "metadata": {},
   "outputs": [
    {
     "ename": "SyntaxError",
     "evalue": "invalid syntax (<fstring>, line 1)",
     "output_type": "error",
     "traceback": [
      "\u001b[1;36m  File \u001b[1;32m\"<fstring>\"\u001b[1;36m, line \u001b[1;32m1\u001b[0m\n\u001b[1;33m    (arg = )\u001b[0m\n\u001b[1;37m         ^\u001b[0m\n\u001b[1;31mSyntaxError\u001b[0m\u001b[1;31m:\u001b[0m invalid syntax\n"
     ]
    }
   ],
   "source": [
    "# __call__ method in python\n",
    "class Car:\n",
    "    def __init__(self, brand: str):\n",
    "        self.brand = brand\n",
    "\n",
    "    def meth(self):\n",
    "        ...\n",
    "    \n",
    "    def __call__(self, arg):\n",
    "        print(f'{self.brand}, {arg = }')"
   ]
  },
  {
   "cell_type": "code",
   "execution_count": null,
   "metadata": {},
   "outputs": [],
   "source": []
  },
  {
   "cell_type": "markdown",
   "metadata": {},
   "source": []
  }
 ],
 "metadata": {
  "kernelspec": {
   "display_name": "Python 3",
   "language": "python",
   "name": "python3"
  },
  "language_info": {
   "codemirror_mode": {
    "name": "ipython",
    "version": 3
   },
   "file_extension": ".py",
   "mimetype": "text/x-python",
   "name": "python",
   "nbconvert_exporter": "python",
   "pygments_lexer": "ipython3",
   "version": "3.7.0"
  },
  "orig_nbformat": 4
 },
 "nbformat": 4,
 "nbformat_minor": 2
}
