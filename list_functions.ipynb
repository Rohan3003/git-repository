{
 "cells": [
  {
   "cell_type": "code",
   "execution_count": 18,
   "metadata": {},
   "outputs": [
    {
     "name": "stdout",
     "output_type": "stream",
     "text": [
      "2438229318208\n",
      "id of list b :  2438228070592\n",
      "id of list c :  2438229309888\n"
     ]
    }
   ],
   "source": [
    "# Copy of a list/ list slicing\n",
    "\n",
    "a = [1,2,2,3,4]\n",
    "\n",
    "b = a[:]\n",
    "c = a.copy()\n",
    "print(id(a))\n",
    "print(\"id of list b : \", id(b))\n",
    "print(\"id of list c : \", id(c))"
   ]
  },
  {
   "cell_type": "code",
   "execution_count": 15,
   "metadata": {},
   "outputs": [
    {
     "data": {
      "text/plain": [
       "['Bush', 'Modi', 'Evans']"
      ]
     },
     "execution_count": 15,
     "metadata": {},
     "output_type": "execute_result"
    }
   ],
   "source": [
    "# list comprehension\n",
    "\n",
    "names = ['George W. Bush', 'Narendra Damodardas Modi', 'Chris Evans']\n",
    "last_name = [n.split(' ')[-1] for n in names]\n",
    "last_name"
   ]
  },
  {
   "cell_type": "code",
   "execution_count": 7,
   "metadata": {},
   "outputs": [
    {
     "name": "stdout",
     "output_type": "stream",
     "text": [
      "Rohan Srivastwa 28\n",
      "['1995-11-30', 'Tredence analytics', 'Bangalore']\n"
     ]
    }
   ],
   "source": [
    "# unpacking of a list\n",
    "inputs = ['Rohan', 'Srivastwa', '1995-11-30', 'Tredence analytics', 'Bangalore', 28]\n",
    "\n",
    "first, last, *_, age = inputs\n",
    "\n",
    "print(first, last, age)\n",
    "print(_)"
   ]
  },
  {
   "cell_type": "code",
   "execution_count": 1,
   "metadata": {},
   "outputs": [
    {
     "name": "stdout",
     "output_type": "stream",
     "text": [
      "['ganga', 'yamuna', 'godavari', 'kaveri', 'mahanadi']\n",
      "['ganga', 'yamuna', 'godavari', 'mahanadi']\n"
     ]
    }
   ],
   "source": [
    "# remove() function \n",
    "rivers = ['ganga', 'yamuna', 'godavari', 'kaveri', 'mahanadi']\n",
    "print(rivers)\n",
    "rivers.remove('kaveri')\n",
    "print(rivers)"
   ]
  },
  {
   "cell_type": "code",
   "execution_count": null,
   "metadata": {},
   "outputs": [],
   "source": []
  }
 ],
 "metadata": {
  "kernelspec": {
   "display_name": "Python 3",
   "language": "python",
   "name": "python3"
  },
  "language_info": {
   "codemirror_mode": {
    "name": "ipython",
    "version": 3
   },
   "file_extension": ".py",
   "mimetype": "text/x-python",
   "name": "python",
   "nbconvert_exporter": "python",
   "pygments_lexer": "ipython3",
   "version": "3.9.13"
  },
  "orig_nbformat": 4
 },
 "nbformat": 4,
 "nbformat_minor": 2
}
