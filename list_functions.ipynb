{
 "cells": [
  {
   "attachments": {},
   "cell_type": "markdown",
   "metadata": {},
   "source": [
    "Copy of a list"
   ]
  },
  {
   "cell_type": "code",
   "execution_count": 5,
   "metadata": {},
   "outputs": [
    {
     "name": "stdout",
     "output_type": "stream",
     "text": [
      "[1, 2, 2, 3, 4]\n",
      "[1, 2, 2, 3, 4]\n",
      "[1, 2, 2, 3, 4]\n",
      "id of list b :  1931467394760\n",
      "id of list b :  1931467373128\n",
      "id of list c :  1931456302664\n"
     ]
    }
   ],
   "source": [
    "# Copy of a list/list slicing\n",
    "a = [1,2,2,3,4]\n",
    "b = a[:]        # copying a list using slicing method\n",
    "c = a.copy()    # copying a list using copy() method\n",
    "print(a)\n",
    "print(b)\n",
    "print(c)\n",
    "print(\"id of list b : \", id(a))\n",
    "print(\"id of list b : \", id(b))\n",
    "print(\"id of list c : \", id(c))"
   ]
  },
  {
   "cell_type": "code",
   "execution_count": 8,
   "metadata": {},
   "outputs": [
    {
     "data": {
      "text/plain": [
       "['Bush', 'Modi', 'Evans']"
      ]
     },
     "execution_count": 8,
     "metadata": {},
     "output_type": "execute_result"
    }
   ],
   "source": [
    "# list comprehension\n",
    "# to get the last name from each element of the string in the list\n",
    "names = ['George W. Bush', 'Narendra Damodardas Modi', 'Chris Evans']\n",
    "last_name = [n.split(' ')[-1] for n in names]\n",
    "last_name"
   ]
  },
  {
   "attachments": {},
   "cell_type": "markdown",
   "metadata": {},
   "source": [
    "unpacking a list"
   ]
  },
  {
   "cell_type": "code",
   "execution_count": 9,
   "metadata": {},
   "outputs": [
    {
     "name": "stdout",
     "output_type": "stream",
     "text": [
      "Rohan Srivastwa 28\n",
      "['1995-11-30', 'Tredence analytics', 'Bangalore']\n"
     ]
    }
   ],
   "source": [
    "# unpacking of a list\n",
    "inputs = ['Rohan', 'Srivastwa', '1995-11-30', 'Tredence analytics', 'Bangalore', 28]\n",
    "first, last, *_, age = inputs\n",
    "print(first, last, age)\n",
    "print(_)"
   ]
  },
  {
   "attachments": {},
   "cell_type": "markdown",
   "metadata": {},
   "source": [
    "remove() method\n",
    "1. removes the first matching value from a list.\n",
    "2. takes only 1 value as an argument.\n",
    "3. it return a none type.\n",
    "4. the method changes index of elements"
   ]
  },
  {
   "cell_type": "code",
   "execution_count": 1,
   "metadata": {},
   "outputs": [
    {
     "name": "stdout",
     "output_type": "stream",
     "text": [
      "['ganga', 'yamuna', 'godavari', 'kaveri', 'mahanadi']\n",
      "['ganga', 'yamuna', 'godavari', 'mahanadi']\n"
     ]
    }
   ],
   "source": [
    "# remove() function \n",
    "rivers = ['ganga', 'yamuna', 'godavari', 'kaveri', 'mahanadi']\n",
    "print(rivers)\n",
    "rivers.remove('kaveri')\n",
    "print(rivers)"
   ]
  },
  {
   "attachments": {},
   "cell_type": "markdown",
   "metadata": {},
   "source": [
    "\n",
    "index() method\n",
    "\n",
    "Syntax : \n",
    "        index(element, start-opt, end-opt)\n",
    "Parameter :\n",
    "        element - element whose lowest index will be returned.\n",
    "        start - position from where search starts.\n",
    "        end - position from where search ends.\n",
    "Returns : returns int type and value of lowest index of the element\n",
    "Error : ValueError     \n",
    "\n",
    "Indexing starts with 0 "
   ]
  },
  {
   "cell_type": "code",
   "execution_count": 13,
   "metadata": {},
   "outputs": [
    {
     "name": "stdout",
     "output_type": "stream",
     "text": [
      "1\n",
      "4\n",
      "0\n"
     ]
    }
   ],
   "source": [
    "list1 = ['cat', 'bat', 'mat', 'rat', 'pet']\n",
    "print(list1.index('bat'))\n",
    "print(list1.index('pet'))\n",
    "print(list1.index('cat'))"
   ]
  },
  {
   "cell_type": "code",
   "execution_count": 16,
   "metadata": {},
   "outputs": [
    {
     "name": "stdout",
     "output_type": "stream",
     "text": [
      "3\n"
     ]
    },
    {
     "ename": "ValueError",
     "evalue": "10 is not in list",
     "output_type": "error",
     "traceback": [
      "\u001b[1;31m---------------------------------------------------------------------------\u001b[0m",
      "\u001b[1;31mValueError\u001b[0m                                Traceback (most recent call last)",
      "\u001b[1;32m<ipython-input-16-d420d82e19fc>\u001b[0m in \u001b[0;36m<module>\u001b[1;34m()\u001b[0m\n\u001b[0;32m      4\u001b[0m \u001b[1;33m\u001b[0m\u001b[0m\n\u001b[0;32m      5\u001b[0m \u001b[1;31m# index of an element if the element is not present in the list\u001b[0m\u001b[1;33m\u001b[0m\u001b[1;33m\u001b[0m\u001b[0m\n\u001b[1;32m----> 6\u001b[1;33m \u001b[0mprint\u001b[0m\u001b[1;33m(\u001b[0m\u001b[0mlist2\u001b[0m\u001b[1;33m.\u001b[0m\u001b[0mindex\u001b[0m\u001b[1;33m(\u001b[0m\u001b[1;36m10\u001b[0m\u001b[1;33m)\u001b[0m\u001b[1;33m)\u001b[0m\u001b[1;33m\u001b[0m\u001b[0m\n\u001b[0m",
      "\u001b[1;31mValueError\u001b[0m: 10 is not in list"
     ]
    }
   ],
   "source": [
    "# using optional arguments start and end\n",
    "list2 = [1,2,3,4,4,1,1,7]\n",
    "print(list2.index(4,3,7))\n",
    "\n",
    "# index of an element if the element is not present in the list\n",
    "print(list2.index(10))"
   ]
  },
  {
   "cell_type": "code",
   "execution_count": null,
   "metadata": {},
   "outputs": [],
   "source": []
  },
  {
   "cell_type": "code",
   "execution_count": null,
   "metadata": {},
   "outputs": [
    {
     "name": "stdout",
     "output_type": "stream",
     "text": [
      "hello\n"
     ]
    }
   ],
   "source": [
    "print(\"hello\")"
   ]
  },
  {
   "cell_type": "code",
   "execution_count": null,
   "metadata": {},
   "outputs": [
    {
     "name": "stdout",
     "output_type": "stream",
     "text": [
      "hello\n"
     ]
    }
   ],
   "source": [
    "print(\"hello\")"
   ]
  },
  {
   "cell_type": "code",
   "execution_count": null,
   "metadata": {},
   "outputs": [
    {
     "name": "stdout",
     "output_type": "stream",
     "text": [
      "hello\n"
     ]
    }
   ],
   "source": [
    "print(\"hello\")"
   ]
  },
  {
   "cell_type": "code",
   "execution_count": null,
   "metadata": {},
   "outputs": [
    {
     "name": "stdout",
     "output_type": "stream",
     "text": [
      "hello\n"
     ]
    }
   ],
   "source": [
    "print(\"hello\")"
   ]
  },
  {
   "cell_type": "code",
   "execution_count": null,
   "metadata": {},
   "outputs": [
    {
     "name": "stdout",
     "output_type": "stream",
     "text": [
      "hello\n"
     ]
    }
   ],
   "source": [
    "print(\"hello\")"
   ]
  },
  {
   "cell_type": "code",
   "execution_count": null,
   "metadata": {},
   "outputs": [
    {
     "name": "stdout",
     "output_type": "stream",
     "text": [
      "hello\n"
     ]
    }
   ],
   "source": [
    "print(\"hello\")"
   ]
  },
  {
   "cell_type": "code",
   "execution_count": null,
   "metadata": {},
   "outputs": [
    {
     "name": "stdout",
     "output_type": "stream",
     "text": [
      "hello\n"
     ]
    }
   ],
   "source": [
    "print(\"hello\")"
   ]
  }
 ],
 "metadata": {
  "kernelspec": {
   "display_name": "Python 3",
   "language": "python",
   "name": "python3"
  },
  "language_info": {
   "codemirror_mode": {
    "name": "ipython",
    "version": 3
   },
   "file_extension": ".py",
   "mimetype": "text/x-python",
   "name": "python",
   "nbconvert_exporter": "python",
   "pygments_lexer": "ipython3",
   "version": "3.7.0"
  },
  "orig_nbformat": 4
 },
 "nbformat": 4,
 "nbformat_minor": 2
}
