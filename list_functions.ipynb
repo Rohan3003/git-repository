{
 "cells": [
  {
   "cell_type": "code",
   "execution_count": 4,
   "metadata": {},
   "outputs": [
    {
     "data": {
      "text/plain": [
       "['Bush', 'Modi', 'Evans']"
      ]
     },
     "execution_count": 4,
     "metadata": {},
     "output_type": "execute_result"
    }
   ],
   "source": [
    "# list comprehension\n",
    "\n",
    "names = ['George W. Bush', 'Narendra Damodardas Modi', 'Chris Evans']\n",
    "last_name = [n.split(' ')[-1] for n in names]\n",
    "last_name"
   ]
  },
  {
   "cell_type": "code",
   "execution_count": 7,
   "metadata": {},
   "outputs": [
    {
     "name": "stdout",
     "output_type": "stream",
     "text": [
      "Rohan Srivastwa 28\n",
      "['1995-11-30', 'Tredence analytics', 'Bangalore']\n"
     ]
    }
   ],
   "source": [
    "# unpacking of a list\n",
    "inputs = ['Rohan', 'Srivastwa', '1995-11-30', 'Tredence analytics', 'Bangalore', 28]\n",
    "\n",
    "first, last, *_, age = inputs\n",
    "\n",
    "print(first, last, age)\n",
    "print(_)"
   ]
  },
  {
   "cell_type": "code",
   "execution_count": null,
   "metadata": {},
   "outputs": [],
   "source": []
  }
 ],
 "metadata": {
  "kernelspec": {
   "display_name": "Python 3",
   "language": "python",
   "name": "python3"
  },
  "language_info": {
   "codemirror_mode": {
    "name": "ipython",
    "version": 3
   },
   "file_extension": ".py",
   "mimetype": "text/x-python",
   "name": "python",
   "nbconvert_exporter": "python",
   "pygments_lexer": "ipython3",
   "version": "3.9.13"
  },
  "orig_nbformat": 4
 },
 "nbformat": 4,
 "nbformat_minor": 2
}
