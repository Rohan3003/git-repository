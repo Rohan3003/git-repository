{
 "cells": [
  {
   "cell_type": "code",
   "execution_count": 1,
   "metadata": {},
   "outputs": [
    {
     "data": {
      "text/plain": [
       "[0, 1, 2, 3, 4, 5, 6, 7, 8, 9, 10, 11, 12, 13, 14, 15, 16, 17, 18, 19]"
      ]
     },
     "execution_count": 1,
     "metadata": {},
     "output_type": "execute_result"
    }
   ],
   "source": [
    "L1 = [i for i in range(20)]\n",
    "L1"
   ]
  },
  {
   "cell_type": "code",
   "execution_count": null,
   "metadata": {},
   "outputs": [],
   "source": []
  },
  {
   "attachments": {},
   "cell_type": "markdown",
   "metadata": {},
   "source": [
    "### While loops in python"
   ]
  },
  {
   "cell_type": "code",
   "execution_count": 2,
   "metadata": {},
   "outputs": [
    {
     "name": "stdout",
     "output_type": "stream",
     "text": [
      "Count 0\n",
      "Count 1\n",
      "Count 2\n",
      "Count 3\n",
      "Count 4\n",
      "Count 5\n",
      "Count 6\n",
      "Count 7\n",
      "Count 8\n",
      "Count 9\n"
     ]
    }
   ],
   "source": [
    "value = 0 \n",
    "count = 10\n",
    "while value < count:\n",
    "    print(f\"Count {value}\")\n",
    "    value = value + 1"
   ]
  },
  {
   "cell_type": "code",
   "execution_count": null,
   "metadata": {},
   "outputs": [],
   "source": []
  },
  {
   "cell_type": "code",
   "execution_count": null,
   "metadata": {},
   "outputs": [],
   "source": []
  },
  {
   "cell_type": "code",
   "execution_count": null,
   "metadata": {},
   "outputs": [],
   "source": []
  },
  {
   "cell_type": "code",
   "execution_count": null,
   "metadata": {},
   "outputs": [],
   "source": []
  },
  {
   "attachments": {},
   "cell_type": "markdown",
   "metadata": {},
   "source": [
    "### For loop in python"
   ]
  },
  {
   "cell_type": "code",
   "execution_count": null,
   "metadata": {},
   "outputs": [],
   "source": []
  },
  {
   "cell_type": "code",
   "execution_count": null,
   "metadata": {},
   "outputs": [],
   "source": []
  },
  {
   "cell_type": "code",
   "execution_count": null,
   "metadata": {},
   "outputs": [],
   "source": []
  },
  {
   "cell_type": "code",
   "execution_count": null,
   "metadata": {},
   "outputs": [],
   "source": []
  },
  {
   "attachments": {},
   "cell_type": "markdown",
   "metadata": {},
   "source": [
    "### enumerate in python"
   ]
  },
  {
   "cell_type": "code",
   "execution_count": 8,
   "metadata": {},
   "outputs": [
    {
     "name": "stdout",
     "output_type": "stream",
     "text": [
      "0 Bhimbandh\n",
      "1 kaimur\n",
      "2 pant\n",
      "3 udaypur\n",
      "4 valmiki\n"
     ]
    }
   ],
   "source": [
    "list_wildlife = ['Bhimbandh', 'kaimur', 'pant', 'udaypur', 'valmiki']\n",
    "\n",
    "counter = 0 # defining counter to add index \n",
    "for i in list_wildlife:\n",
    "    print(counter, i)\n",
    "    counter +=1"
   ]
  },
  {
   "cell_type": "code",
   "execution_count": 6,
   "metadata": {},
   "outputs": [
    {
     "name": "stdout",
     "output_type": "stream",
     "text": [
      "0 Bhimbandh\n",
      "1 kaimur\n",
      "2 pant\n",
      "3 udaypur\n",
      "4 valmiki\n"
     ]
    }
   ],
   "source": [
    "list_wildlife = ['Bhimbandh', 'kaimur', 'pant', 'udaypur', 'valmiki']\n",
    "for index,val in enumerate(list_wildlife):\n",
    "    print(index,val)"
   ]
  },
  {
   "cell_type": "code",
   "execution_count": 15,
   "metadata": {},
   "outputs": [
    {
     "name": "stdout",
     "output_type": "stream",
     "text": [
      "0 a\n",
      "1 b\n",
      "2 c\n",
      "<enumerate object at 0x000002426EDC5C18>\n",
      "[(0, 'a'), (1, 'b'), (2, 'c')]\n"
     ]
    }
   ],
   "source": [
    "# enumerate optimization\n",
    "for i, value in enumerate(['a','b','c']):\n",
    "    print(i, value)\n",
    "\n",
    "# enumerate returns an enumerate object\n",
    "print(enumerate(['a','b','c']))\n",
    "\n",
    "print(list(enumerate(['a','b','c'])))"
   ]
  },
  {
   "cell_type": "code",
   "execution_count": 16,
   "metadata": {},
   "outputs": [
    {
     "name": "stdout",
     "output_type": "stream",
     "text": [
      "1 a\n",
      "2 b\n",
      "3 c\n",
      "[(0, 'a'), (1, 'b'), (2, 'c')]\n"
     ]
    }
   ],
   "source": [
    "# start in enumerate to change value of start\n",
    "for i, value in enumerate(['a','b','c'], start=1):\n",
    "    print(i, value)\n",
    "print(list(enumerate(['a','b','c'])))"
   ]
  },
  {
   "attachments": {},
   "cell_type": "markdown",
   "metadata": {},
   "source": []
  },
  {
   "cell_type": "code",
   "execution_count": 18,
   "metadata": {},
   "outputs": [
    {
     "name": "stdout",
     "output_type": "stream",
     "text": [
      "1 a\n",
      "2 b\n",
      "3 c\n"
     ]
    }
   ],
   "source": [
    "# using i + 1 to change the start value of enumerate\n",
    "# this is not an optimized way of working with enumerate since each time we iterate we need to perform minor calculation\n",
    "for i, value in enumerate(['a','b','c']):\n",
    "    print(i+1, value)"
   ]
  },
  {
   "cell_type": "code",
   "execution_count": 36,
   "metadata": {},
   "outputs": [
    {
     "name": "stdout",
     "output_type": "stream",
     "text": [
      "[0, 1, 2, 3, 4, 5, 6, 7, 8, 9, 10, 11, 12, 13, 14, 15, 16, 17, 18, 19, 20, 21, 22, 23, 24, 25, 26, 27, 28, 29, 30, 31, 32, 33, 34, 35, 36, 37, 38, 39, 40, 41, 42, 43, 44, 45, 46, 47, 48, 49]\n",
      "i+1 -> 0.8740689999976894\n",
      "start = 1 -> 1.1109331000043312\n",
      "[(1, 0), (2, 1), (3, 2), (4, 3), (5, 4), (6, 5), (7, 6), (8, 7), (9, 8), (10, 9), (11, 10), (12, 11), (13, 12), (14, 13), (15, 14), (16, 15), (17, 16), (18, 17), (19, 18), (20, 19), (21, 20), (22, 21), (23, 22), (24, 23), (25, 24), (26, 25), (27, 26), (28, 27), (29, 28), (30, 29), (31, 30), (32, 31), (33, 32), (34, 33), (35, 34), (36, 35), (37, 36), (38, 37), (39, 38), (40, 39), (41, 40), (42, 41), (43, 42), (44, 43), (45, 44), (46, 45), (47, 46), (48, 47), (49, 48), (50, 49)]\n",
      "[(1, 0), (2, 1), (3, 2), (4, 3), (5, 4), (6, 5), (7, 6), (8, 7), (9, 8), (10, 9), (11, 10), (12, 11), (13, 12), (14, 13), (15, 14), (16, 15), (17, 16), (18, 17), (19, 18), (20, 19), (21, 20), (22, 21), (23, 22), (24, 23), (25, 24), (26, 25), (27, 26), (28, 27), (29, 28), (30, 29), (31, 30), (32, 31), (33, 32), (34, 33), (35, 34), (36, 35), (37, 36), (38, 37), (39, 38), (40, 39), (41, 40), (42, 41), (43, 42), (44, 43), (45, 44), (46, 45), (47, 46), (48, 47), (49, 48), (50, 49)]\n",
      "Output is same:  True\n"
     ]
    }
   ],
   "source": [
    "# test to find if enumerate(itearble, start) is better or enumerate(iterable) with i + 1\n",
    "from timeit import timeit\n",
    "\n",
    "def enumerate_func(values:list) -> list:\n",
    "    temp_list : list = []\n",
    "    for i, value in enumerate(values, start=1):\n",
    "        temp_list.append((i,value))\n",
    "    return temp_list\n",
    "\n",
    "def normal_func(values:list) -> list:\n",
    "    temp_list : list = []\n",
    "    for i, value in enumerate(values):\n",
    "        temp_list.append((i+1,value))\n",
    "    return temp_list\n",
    "\n",
    "\n",
    "if __name__ == '__main__':\n",
    "    fifty_numbers = list(range(50))\n",
    "    print(fifty_numbers)\n",
    "    \n",
    "    normal_time: float = timeit(f'normal_func({fifty_numbers})', globals = globals(), number= 1_00_000)\n",
    "    print('i+1 ->', normal_time)\n",
    "\n",
    "    enum_start_time : float = timeit(f'enumerate_func({fifty_numbers})', globals = globals(), number= 1_00_000)\n",
    "    print('start = 1 ->', enum_start_time)\n",
    "    print(normal_func(fifty_numbers))\n",
    "    print(enumerate_func(fifty_numbers))\n",
    "    print('Output is same: ', normal_func(fifty_numbers) == enumerate_func(fifty_numbers))\n",
    "\n",
    "# we can conclude that start=1 is faster as compared to i+1 while using enumerate function"
   ]
  },
  {
   "cell_type": "code",
   "execution_count": 28,
   "metadata": {},
   "outputs": [
    {
     "ename": "TypeError",
     "evalue": "'type' object is not subscriptable",
     "output_type": "error",
     "traceback": [
      "\u001b[1;31m---------------------------------------------------------------------------\u001b[0m",
      "\u001b[1;31mTypeError\u001b[0m                                 Traceback (most recent call last)",
      "\u001b[1;32m<ipython-input-28-9aa5711a776c>\u001b[0m in \u001b[0;36m<module>\u001b[1;34m()\u001b[0m\n\u001b[1;32m----> 1\u001b[1;33m \u001b[0ma\u001b[0m \u001b[1;33m:\u001b[0m \u001b[0mlist\u001b[0m\u001b[1;33m[\u001b[0m\u001b[0mint\u001b[0m\u001b[1;33m(\u001b[0m\u001b[1;33m)\u001b[0m\u001b[1;33m]\u001b[0m \u001b[1;33m=\u001b[0m \u001b[0mlist\u001b[0m\u001b[1;33m(\u001b[0m\u001b[0mrange\u001b[0m\u001b[1;33m(\u001b[0m\u001b[1;36m10\u001b[0m\u001b[1;33m)\u001b[0m\u001b[1;33m)\u001b[0m\u001b[1;33m\u001b[0m\u001b[0m\n\u001b[0m\u001b[0;32m      2\u001b[0m \u001b[0ma\u001b[0m\u001b[1;33m\u001b[0m\u001b[0m\n",
      "\u001b[1;31mTypeError\u001b[0m: 'type' object is not subscriptable"
     ]
    }
   ],
   "source": [
    "a : list[int()] = list(range(10))\n",
    "a"
   ]
  },
  {
   "cell_type": "markdown",
   "metadata": {},
   "source": [
    "### break, continue and pass statement"
   ]
  },
  {
   "cell_type": "code",
   "execution_count": 17,
   "metadata": {},
   "outputs": [
    {
     "name": "stdout",
     "output_type": "stream",
     "text": [
      "R\n",
      "o\n",
      "h\n",
      "a\n",
      "Out of For Loop Statement!\n",
      "----------------------------------------------------------------------------------------------------\n",
      "R\n",
      "o\n",
      "h\n",
      "a\n",
      "4\n",
      "Out of While Loop Statement!\n"
     ]
    }
   ],
   "source": [
    "s = \"Rohan Srivastwa\"\n",
    "\n",
    "# Using For loop\n",
    "for letter in s:\n",
    "    print(letter)\n",
    "    if letter == \"a\":\n",
    "        break\n",
    "    \n",
    "print('Out of For Loop Statement!')\n",
    "\n",
    "print(\"-\"*100)\n",
    "\n",
    "# Using while loop :\n",
    "i = 0\n",
    "while True:\n",
    "    print(s[i])\n",
    "    i += 1\n",
    "    if s[i] == \"n\":\n",
    "        break\n",
    "\n",
    "print(i)\n",
    "print('Out of While Loop Statement!')"
   ]
  },
  {
   "cell_type": "code",
   "execution_count": 19,
   "metadata": {},
   "outputs": [
    {
     "name": "stdout",
     "output_type": "stream",
     "text": [
      "R\n",
      "o\n",
      "h\n",
      "a\n",
      "n\n",
      " \n",
      "S\n",
      "r\n",
      "i\n",
      "v\n",
      "a\n",
      "s\n",
      "t\n",
      "w\n",
      "a\n",
      "Out of Loop Statement!\n"
     ]
    }
   ],
   "source": [
    "s = \"Rohan Srivastwa\"\n",
    "\n",
    "for letter in s:\n",
    "    print(letter)\n",
    "    if letter == \"a\":\n",
    "        continue\n",
    "    \n",
    "print('Out of Loop Statement!')"
   ]
  },
  {
   "cell_type": "code",
   "execution_count": null,
   "metadata": {},
   "outputs": [],
   "source": []
  },
  {
   "cell_type": "code",
   "execution_count": 7,
   "metadata": {},
   "outputs": [
    {
     "name": "stdout",
     "output_type": "stream",
     "text": [
      "R\n",
      "o\n",
      "h\n",
      "a\n",
      "n\n",
      " \n",
      "S\n",
      "r\n",
      "i\n",
      "v\n",
      "a\n",
      "s\n",
      "t\n",
      "w\n",
      "a\n",
      "Out of Loop Statement!\n"
     ]
    }
   ],
   "source": [
    "s = \"Rohan Srivastwa\"\n",
    "\n",
    "for letter in s:\n",
    "    print(letter)\n",
    "    if letter == \"a\":\n",
    "        pass\n",
    "    \n",
    "    \n",
    "print('Out of Loop Statement!')"
   ]
  },
  {
   "cell_type": "code",
   "execution_count": 24,
   "metadata": {},
   "outputs": [
    {
     "name": "stdout",
     "output_type": "stream",
     "text": [
      "1\n",
      "2\n",
      "3\n",
      "4\n",
      "5\n",
      "6\n",
      "7\n",
      "8\n",
      "9\n"
     ]
    }
   ],
   "source": [
    "# Example 2 :\n",
    "\n",
    "for num in range(1,10):\n",
    "    print(num)"
   ]
  },
  {
   "cell_type": "code",
   "execution_count": 26,
   "metadata": {},
   "outputs": [
    {
     "name": "stdout",
     "output_type": "stream",
     "text": [
      "1\n",
      "--------------------------------------------------\n",
      "1\n",
      "3\n",
      "5\n",
      "7\n",
      "9\n",
      "--------------------------------------------------\n",
      "1\n",
      "2\n",
      "3\n",
      "4\n",
      "5\n",
      "6\n",
      "7\n",
      "8\n",
      "9\n",
      "--------------------------------------------------\n"
     ]
    }
   ],
   "source": [
    "for num in range(1,10):\n",
    "    if num % 2 == 0 :\n",
    "        break\n",
    "    print(num)\n",
    "print(\"-\"*50)\n",
    "\n",
    "for num in range(1,10):\n",
    "    if num % 2 == 0 :\n",
    "        continue # this iteration will be skipped, only odd numbers will be displayed\n",
    "    print(num)\n",
    "print(\"-\"*50)\n",
    "\n",
    "for num in range(1,10):\n",
    "    if num % 2 == 0 :\n",
    "        pass # nothing will happen, all number will be displayed\n",
    "    print(num)\n",
    "print(\"-\"*50)"
   ]
  },
  {
   "cell_type": "code",
   "execution_count": null,
   "metadata": {},
   "outputs": [],
   "source": []
  }
 ],
 "metadata": {
  "kernelspec": {
   "display_name": "Python 3",
   "language": "python",
   "name": "python3"
  },
  "language_info": {
   "codemirror_mode": {
    "name": "ipython",
    "version": 3
   },
   "file_extension": ".py",
   "mimetype": "text/x-python",
   "name": "python",
   "nbconvert_exporter": "python",
   "pygments_lexer": "ipython3",
   "version": "3.11.9"
  },
  "orig_nbformat": 4
 },
 "nbformat": 4,
 "nbformat_minor": 2
}
