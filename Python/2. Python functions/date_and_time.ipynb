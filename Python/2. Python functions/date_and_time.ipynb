{
 "cells": [
  {
   "cell_type": "code",
   "execution_count": 10,
   "metadata": {},
   "outputs": [],
   "source": [
    "import datetime\n",
    "import pendulum"
   ]
  },
  {
   "cell_type": "code",
   "execution_count": 25,
   "metadata": {},
   "outputs": [
    {
     "name": "stdout",
     "output_type": "stream",
     "text": [
      "America/New_York\n",
      "America/New_York\n"
     ]
    }
   ],
   "source": [
    "usa_timezone = pendulum.timezone('America/New_York')\n",
    "print(usa_timezone)\n",
    "\n",
    "usa_now = datetime.now(usa_timezone)\n",
    "print(usa_timezone)"
   ]
  },
  {
   "cell_type": "code",
   "execution_count": 15,
   "metadata": {},
   "outputs": [
    {
     "name": "stdout",
     "output_type": "stream",
     "text": [
      "2024-06-13 18:44:27.756853\n",
      "2024-06-13\n",
      "18:53:25.487742\n",
      "4\n",
      "2024-06-13 13:23:25.487742\n"
     ]
    }
   ],
   "source": [
    "# Mon - 1, Tue - 2, Wed - 3, Thrus - 4, Fri - 5, Sat - 6, Sun - 7\n",
    "current_timestamp = datetime.datetime.now()\n",
    "print(day_of_week)\n",
    "\n",
    "date = current_timestamp.date()\n",
    "print(date)\n",
    "\n",
    "time = current_timestamp.time()\n",
    "print(time)\n",
    "\n",
    "day_no_week = current_timestamp.isoweekday()\n",
    "print(day_no_week)\n",
    "\n",
    "# utc - univesal time \n",
    "utc_time = current_timestamp.utcnow()\n",
    "print(utc_time)"
   ]
  },
  {
   "cell_type": "code",
   "execution_count": 24,
   "metadata": {},
   "outputs": [
    {
     "name": "stdout",
     "output_type": "stream",
     "text": [
      "2024-06-13 13:33:42.686631+00:00\n"
     ]
    }
   ],
   "source": [
    "# to get the current timezone\n",
    "from datetime import datetime\n",
    "import pytz\n",
    "\n",
    "local_tz = pytz.timezone(pytz.all_timezones[0])\n",
    "\n",
    "now = datetime.now(local_tz)\n",
    "print(now)"
   ]
  },
  {
   "cell_type": "code",
   "execution_count": 22,
   "metadata": {},
   "outputs": [
    {
     "data": {
      "text/plain": [
       "596"
      ]
     },
     "execution_count": 22,
     "metadata": {},
     "output_type": "execute_result"
    }
   ],
   "source": [
    "# all possible time zones \n",
    "len(pytz.all_timezones)"
   ]
  },
  {
   "cell_type": "code",
   "execution_count": null,
   "metadata": {},
   "outputs": [],
   "source": []
  }
 ],
 "metadata": {
  "kernelspec": {
   "display_name": "Python 3",
   "language": "python",
   "name": "python3"
  },
  "language_info": {
   "codemirror_mode": {
    "name": "ipython",
    "version": 3
   },
   "file_extension": ".py",
   "mimetype": "text/x-python",
   "name": "python",
   "nbconvert_exporter": "python",
   "pygments_lexer": "ipython3",
   "version": "3.11.9"
  }
 },
 "nbformat": 4,
 "nbformat_minor": 2
}
