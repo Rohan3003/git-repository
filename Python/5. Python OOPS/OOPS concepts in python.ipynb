{
 "cells": [
  {
   "cell_type": "markdown",
   "metadata": {},
   "source": [
    "## Class and objects in python\n",
    "Contents\n",
    "1. Introduction\n",
    "2. Instance and class variables\n",
    "3. Class variable\n",
    "4. "
   ]
  },
  {
   "cell_type": "markdown",
   "metadata": {},
   "source": [
    "### Introduction\n",
    "<p>\n",
    "    Classes and objects are used in most of modern programming languages.<br>\n",
    "    They allow us to logically group data and function to use and build upon them if needed.\n",
    "\n",
    "    In terms of classes :\n",
    "        data associated with a class = attributes\n",
    "        functions associated with a class = methods\n",
    "Classes are blueprint for creating instances.     \n",
    "As per the python object module, there are two types of variables:-\n",
    "    1. class variable\n",
    "    2. instance variable\n",
    "    \n",
    "Understanding difference between instance variable and class variable is very important.<br>\n",
    "<b> Instance variable : </b><br>\n",
    "It is a variable that contains data that is unique to each instance.\n",
    "They are always defined inside __init__ method(constructor).\n",
    "Creating instance can be done manually.\n",
    "\n",
    "<b> Class variable : </b><br>\n",
    "It is variable that is defined inside a class but outside any instance method.\n",
    "This variable is shared among diffent objects of the same class.\n",
    "Each instance of a class will have a class variable associated with it.\n",
    "</p>"
   ]
  },
  {
   "cell_type": "code",
   "execution_count": 1,
   "metadata": {},
   "outputs": [],
   "source": [
    "class car:\n",
    "    wheels = 4   #-> Class variable\n",
    "    \n",
    "    def __init__(self,name):\n",
    "        self.name = name       #-> Instance variable"
   ]
  },
  {
   "cell_type": "code",
   "execution_count": 2,
   "metadata": {},
   "outputs": [
    {
     "name": "stdout",
     "output_type": "stream",
     "text": [
      "jaguar ferrari\n",
      "4 4\n"
     ]
    },
    {
     "data": {
      "text/plain": [
       "4"
      ]
     },
     "execution_count": 2,
     "metadata": {},
     "output_type": "execute_result"
    }
   ],
   "source": [
    "jag = car('jaguar')   # 1st instance of class car\n",
    "fer = car('ferrari')  # 2nd instance of class car\n",
    "\n",
    "print(jag.name,fer.name)  \n",
    "\n",
    "print(jag.wheels, fer.wheels)\n",
    "\n",
    "car.wheels  #accessing class variable through class"
   ]
  },
  {
   "cell_type": "markdown",
   "metadata": {},
   "source": [
    "#### 1. creating class and instance manually"
   ]
  },
  {
   "cell_type": "code",
   "execution_count": 3,
   "metadata": {},
   "outputs": [
    {
     "name": "stdout",
     "output_type": "stream",
     "text": [
      "<__main__.Employee object at 0x000002302326B7B8>\n",
      "<__main__.Employee object at 0x0000023026BAEF98>\n"
     ]
    }
   ],
   "source": [
    "# Class with no attribute and methods\n",
    "class Employee:\n",
    "    pass\n",
    "emp1 = Employee() # Instance 1\n",
    "emp2 = Employee() # Instance 2\n",
    "\n",
    "print(emp1)\n",
    "print(emp2)\n",
    "# We can see here that both the instances of class Employee are different."
   ]
  },
  {
   "cell_type": "code",
   "execution_count": 4,
   "metadata": {},
   "outputs": [
    {
     "name": "stdout",
     "output_type": "stream",
     "text": [
      "rohan.srivastwa@company.com\n",
      "user.test@company.com\n"
     ]
    }
   ],
   "source": [
    "# Creating instances manually\n",
    "emp1.first_name = 'Rohan'\n",
    "emp1.last_name = 'Srivastwa'\n",
    "emp1.email = 'rohan.srivastwa@company.com'\n",
    "emp1.salary = 25000\n",
    "\n",
    "emp2.first_name = 'User'\n",
    "emp2.last_name = 'Test'\n",
    "emp2.email = 'user.test@company.com'\n",
    "emp2.salary = 50000\n",
    "\n",
    "print(emp1.email)\n",
    "print(emp2.email)\n",
    "# Now each of these instances have attributes(data) unique to them.\n",
    "# Not getting much from classes using like this as it will take a lot of time"
   ]
  },
  {
   "cell_type": "markdown",
   "metadata": {},
   "source": [
    "#### 2. creating init method \n",
    "            1. creating a class \n",
    "            2. creating an instance of a class\n",
    "            3. creating attribute\n",
    "            4. creating methods in a class\n",
    "            5. the importance of self"
   ]
  },
  {
   "cell_type": "code",
   "execution_count": 5,
   "metadata": {},
   "outputs": [
    {
     "name": "stdout",
     "output_type": "stream",
     "text": [
      "Rohan.Srivastwa@company.com\n",
      "User.Test@company.com\n",
      "Rohan Srivastwa\n",
      "Rohan Srivastwa\n",
      "User Test\n"
     ]
    }
   ],
   "source": [
    "# special init method (constructer or initialiser)\n",
    "# when we create method in a class then they receive the instance as the first argument automatically.\n",
    "# we call this instance self\n",
    "class employee:\n",
    "    \n",
    "    def __init__(self, first_name, last_name, salary): # self acts as a instance\n",
    "        self.first_name = first_name\n",
    "        self.last_name = last_name\n",
    "        self.salary = salary\n",
    "        self.email = first_name + '.' + last_name + '@company.com'\n",
    "    \n",
    "    # creating method in class employee    \n",
    "    def fullname(self):\n",
    "        return '{} {}'.format(self.first_name, self.last_name)\n",
    "    \n",
    "    \n",
    "    \n",
    "emp1 = employee('Rohan','Srivastwa',25000)\n",
    "# what will happen if we perform this statement\n",
    "# __init__ method will get involved automatically and emp1 will be passed in as self, then \n",
    "\n",
    "emp2 = employee('User','Test',50000)\n",
    "\n",
    "print(emp1.email)\n",
    "print(emp2.email)\n",
    "\n",
    "\n",
    "# These were attributes defined by our class\n",
    "# Methods in class\n",
    "# To print the complete name \n",
    "print('{} {}'.format(emp1.first_name,emp1.last_name))\n",
    "\n",
    "\n",
    "print(emp1.fullname())\n",
    "print(emp2.fullname())\n",
    "\n",
    "# This helps in our code reusablity"
   ]
  },
  {
   "cell_type": "code",
   "execution_count": 6,
   "metadata": {},
   "outputs": [
    {
     "ename": "TypeError",
     "evalue": "get_address() takes 0 positional arguments but 1 was given",
     "output_type": "error",
     "traceback": [
      "\u001b[1;31m---------------------------------------------------------------------------\u001b[0m",
      "\u001b[1;31mTypeError\u001b[0m                                 Traceback (most recent call last)",
      "\u001b[1;32m<ipython-input-6-8a882fa0033a>\u001b[0m in \u001b[0;36m<module>\u001b[1;34m()\u001b[0m\n\u001b[0;32m     12\u001b[0m \u001b[0mc1\u001b[0m \u001b[1;33m=\u001b[0m \u001b[0mcitizen\u001b[0m\u001b[1;33m(\u001b[0m\u001b[1;34m'Subodh'\u001b[0m\u001b[1;33m,\u001b[0m\u001b[1;36m47\u001b[0m\u001b[1;33m,\u001b[0m\u001b[1;34m'Male'\u001b[0m\u001b[1;33m,\u001b[0m\u001b[1;34m'Phulwari Sharif'\u001b[0m\u001b[1;33m)\u001b[0m\u001b[1;33m\u001b[0m\u001b[0m\n\u001b[0;32m     13\u001b[0m \u001b[1;33m\u001b[0m\u001b[0m\n\u001b[1;32m---> 14\u001b[1;33m \u001b[0mc1\u001b[0m\u001b[1;33m.\u001b[0m\u001b[0mget_address\u001b[0m\u001b[1;33m(\u001b[0m\u001b[1;33m)\u001b[0m\u001b[1;33m\u001b[0m\u001b[0m\n\u001b[0m\u001b[0;32m     15\u001b[0m \u001b[1;31m# although we have not given any argument to get_address() but the error shows 1 was given\u001b[0m\u001b[1;33m\u001b[0m\u001b[1;33m\u001b[0m\u001b[0m\n\u001b[0;32m     16\u001b[0m \u001b[1;31m# This happened because the c1 instance gets passed as an argument to get_address()\u001b[0m\u001b[1;33m\u001b[0m\u001b[1;33m\u001b[0m\u001b[0m\n",
      "\u001b[1;31mTypeError\u001b[0m: get_address() takes 0 positional arguments but 1 was given"
     ]
    }
   ],
   "source": [
    "# what happens when we don't have self in our method\n",
    "class citizen:\n",
    "    def __init__(self, name, age, gender, address):\n",
    "        self.name = name\n",
    "        self.age = age\n",
    "        self.gender = gender\n",
    "        self.address = address\n",
    "    \n",
    "    def get_address():\n",
    "        return self.address\n",
    "\n",
    "c1 = citizen('Subodh',47,'Male','Phulwari Sharif')\n",
    "\n",
    "c1.get_address() \n",
    "# although we have not given any argument to get_address() but the error shows 1 was given\n",
    "# This happened because the c1 instance gets passed as an argument to get_address()\n",
    "# to solve this issue we just have to put self in get_address() method."
   ]
  },
  {
   "cell_type": "markdown",
   "metadata": {},
   "source": [
    "#### 3. Using a class to call a method"
   ]
  },
  {
   "cell_type": "code",
   "execution_count": null,
   "metadata": {},
   "outputs": [
    {
     "name": "stdout",
     "output_type": "stream",
     "text": [
      "Phulwari Sharif\n",
      "Phulwari Sharif\n"
     ]
    }
   ],
   "source": [
    "class citizen:\n",
    "    def __init__(self, name, age, gender, address):\n",
    "        self.name = name\n",
    "        self.age = age\n",
    "        self.gender = gender\n",
    "        self.address = address\n",
    "    \n",
    "    def get_address(self):\n",
    "        return self.address\n",
    "\n",
    "c1 = citizen('Subodh',47,'Male','Phulwari Sharif')\n",
    "print(c1.get_address())\n",
    "\n",
    "# using a class to call a method.\n",
    "print(citizen.get_address(c1))"
   ]
  },
  {
   "cell_type": "markdown",
   "metadata": {},
   "source": [
    "#### 4. Class variables\n",
    "Class variable are those variables which are shared among objects (instances) of the class and they are associated with each instance one creates. while an instance variable is unique for each instance that we create and are assessed    by self keyword.<br>\n",
    "\n",
    "   In the employee class, the variable defined in init method i.e. first_name, last_name, salary are  all instance variables and are unique for each instance we create while class variable in the class employee i.e. raise_amount is a class variable are shared amoung each intances of the class.<br>"
   ]
  },
  {
   "cell_type": "code",
   "execution_count": null,
   "metadata": {},
   "outputs": [
    {
     "name": "stdout",
     "output_type": "stream",
     "text": [
      "25000\n",
      "26000\n"
     ]
    }
   ],
   "source": [
    "class employee:\n",
    "    \n",
    "    def __init__(self, first_name, last_name, salary):\n",
    "        self.first_name = first_name\n",
    "        self.last_name = last_name\n",
    "        self.salary = salary\n",
    "        self.email = first_name + '.' + last_name + '@company.com'\n",
    "        \n",
    "    def fullname(self):\n",
    "        return '{} {}'.format(self.first_name,self.last_name)\n",
    "    \n",
    "    def salary_raise(self):\n",
    "        self.salary = int(self.salary * 1.04) # a raise of 4%\n",
    "    \n",
    "emp1 = employee('Rohan','Srivastwa',25000)\n",
    "emp2 = employee('User','Test',50000)\n",
    "\n",
    "print(emp1.salary)\n",
    "emp1.salary_raise() # applied the raise and then check the increamented salary by 4%\n",
    "print(emp1.salary)"
   ]
  },
  {
   "cell_type": "markdown",
   "metadata": {},
   "source": [
    "#### Accessing a class variable\n",
    "        1. through class\n",
    "        2. through instance\n",
    "In the previous cell,we saw that we applied the salary_raise() method to get the hike of 4% but what if we want to check the raise_amount or change it when required so that it is automatically reflected on each object.\n",
    "This can be done using class variable."
   ]
  },
  {
   "cell_type": "code",
   "execution_count": null,
   "metadata": {},
   "outputs": [
    {
     "name": "stdout",
     "output_type": "stream",
     "text": [
      "25000\n"
     ]
    },
    {
     "ename": "NameError",
     "evalue": "name 'raise_amount' is not defined",
     "output_type": "error",
     "traceback": [
      "\u001b[1;31m---------------------------------------------------------------------------\u001b[0m",
      "\u001b[1;31mNameError\u001b[0m                                 Traceback (most recent call last)",
      "\u001b[1;32m<ipython-input-26-2e343580b20c>\u001b[0m in \u001b[0;36m<module>\u001b[1;34m\u001b[0m\n\u001b[0;32m     19\u001b[0m \u001b[1;33m\u001b[0m\u001b[0m\n\u001b[0;32m     20\u001b[0m \u001b[0mprint\u001b[0m\u001b[1;33m(\u001b[0m\u001b[0memp1\u001b[0m\u001b[1;33m.\u001b[0m\u001b[0msalary\u001b[0m\u001b[1;33m)\u001b[0m\u001b[1;33m\u001b[0m\u001b[1;33m\u001b[0m\u001b[0m\n\u001b[1;32m---> 21\u001b[1;33m \u001b[0memp1\u001b[0m\u001b[1;33m.\u001b[0m\u001b[0msalary_raise\u001b[0m\u001b[1;33m(\u001b[0m\u001b[1;33m)\u001b[0m\u001b[1;33m\u001b[0m\u001b[1;33m\u001b[0m\u001b[0m\n\u001b[0m\u001b[0;32m     22\u001b[0m \u001b[0mprint\u001b[0m\u001b[1;33m(\u001b[0m\u001b[0memp1\u001b[0m\u001b[1;33m.\u001b[0m\u001b[0msalary\u001b[0m\u001b[1;33m)\u001b[0m\u001b[1;33m\u001b[0m\u001b[1;33m\u001b[0m\u001b[0m\n",
      "\u001b[1;32m<ipython-input-26-2e343580b20c>\u001b[0m in \u001b[0;36msalary_raise\u001b[1;34m(self)\u001b[0m\n\u001b[0;32m     13\u001b[0m \u001b[1;33m\u001b[0m\u001b[0m\n\u001b[0;32m     14\u001b[0m     \u001b[1;32mdef\u001b[0m \u001b[0msalary_raise\u001b[0m\u001b[1;33m(\u001b[0m\u001b[0mself\u001b[0m\u001b[1;33m)\u001b[0m\u001b[1;33m:\u001b[0m\u001b[1;33m\u001b[0m\u001b[1;33m\u001b[0m\u001b[0m\n\u001b[1;32m---> 15\u001b[1;33m         \u001b[0mself\u001b[0m\u001b[1;33m.\u001b[0m\u001b[0msalary\u001b[0m \u001b[1;33m=\u001b[0m \u001b[0mint\u001b[0m\u001b[1;33m(\u001b[0m\u001b[0mself\u001b[0m\u001b[1;33m.\u001b[0m\u001b[0msalary\u001b[0m \u001b[1;33m*\u001b[0m \u001b[0mraise_amount\u001b[0m\u001b[1;33m)\u001b[0m \u001b[1;31m# a raise of 4% from class variable\u001b[0m\u001b[1;33m\u001b[0m\u001b[1;33m\u001b[0m\u001b[0m\n\u001b[0m\u001b[0;32m     16\u001b[0m \u001b[1;33m\u001b[0m\u001b[0m\n\u001b[0;32m     17\u001b[0m \u001b[0memp1\u001b[0m \u001b[1;33m=\u001b[0m \u001b[0memployee\u001b[0m\u001b[1;33m(\u001b[0m\u001b[1;34m'Rohan'\u001b[0m\u001b[1;33m,\u001b[0m\u001b[1;34m'Srivastwa'\u001b[0m\u001b[1;33m,\u001b[0m\u001b[1;36m25000\u001b[0m\u001b[1;33m)\u001b[0m\u001b[1;33m\u001b[0m\u001b[1;33m\u001b[0m\u001b[0m\n",
      "\u001b[1;31mNameError\u001b[0m: name 'raise_amount' is not defined"
     ]
    }
   ],
   "source": [
    "class employee:\n",
    "    \n",
    "    raise_amount = 1.04 # class variable \n",
    "    \n",
    "    def __init__(self, first_name, last_name, salary):\n",
    "        self.first_name = first_name\n",
    "        self.last_name = last_name\n",
    "        self.salary = salary\n",
    "        self.email = first_name + '.' + last_name + '@company.com'\n",
    "        \n",
    "    def fullname(self):\n",
    "        return '{} {}'.format(self.first_name,self.last_name)\n",
    "    \n",
    "    def salary_raise(self):\n",
    "        self.salary = int(self.salary * raise_amount) # a raise of 4% from class variable\n",
    "\n",
    "emp1 = employee('Rohan','Srivastwa',25000)\n",
    "emp2 = employee('User','Test',50000)\n",
    "\n",
    "print(emp1.salary)\n",
    "emp1.salary_raise()\n",
    "print(emp1.salary)"
   ]
  },
  {
   "cell_type": "markdown",
   "metadata": {},
   "source": [
    "The previous code raises a NameError exception because raise_amount(class variable) cannot be accessed directly.<br>\n",
    "It can be either accessed by class or by instance."
   ]
  },
  {
   "cell_type": "markdown",
   "metadata": {},
   "source": [
    "##### Accessing through a class"
   ]
  },
  {
   "cell_type": "code",
   "execution_count": null,
   "metadata": {},
   "outputs": [
    {
     "name": "stdout",
     "output_type": "stream",
     "text": [
      "25000\n",
      "26000\n",
      "1.04\n",
      "1.04\n",
      "1.04\n"
     ]
    }
   ],
   "source": [
    "class employee:\n",
    "    \n",
    "    raise_amount = 1.04 # class variable \n",
    "    \n",
    "    def __init__(self, first_name, last_name, salary):\n",
    "        self.first_name = first_name\n",
    "        self.last_name = last_name\n",
    "        self.salary = salary\n",
    "        self.email = first_name + '.' + last_name + '@company.com'\n",
    "        \n",
    "    def fullname(self):\n",
    "        return '{} {}'.format(self.first_name,self.last_name)\n",
    "    \n",
    "    def salary_raise(self):\n",
    "        self.salary = int(self.salary * employee.raise_amount) # class.class variable\n",
    "\n",
    "emp1 = employee('Rohan','Srivastwa',25000)\n",
    "emp2 = employee('User','Test',50000)\n",
    "\n",
    "print(emp1.salary)\n",
    "emp1.salary_raise()\n",
    "print(emp1.salary)\n",
    "\n",
    "# to get the class variable\n",
    "print(employee.raise_amount)\n",
    "print(emp1.raise_amount)\n",
    "print(emp2.raise_amount)"
   ]
  },
  {
   "cell_type": "markdown",
   "metadata": {},
   "source": [
    "##### Accessing through a instance of class"
   ]
  },
  {
   "cell_type": "code",
   "execution_count": null,
   "metadata": {},
   "outputs": [
    {
     "name": "stdout",
     "output_type": "stream",
     "text": [
      "25000\n",
      "26000\n",
      "namespace of emp1 :  {'first_name': 'Rohan', 'last_name': 'Srivastwa', 'salary': 26000, 'email': 'Rohan.Srivastwa@company.com'}\n",
      "\n",
      "namespace of employee class :  {'__module__': '__main__', 'raise_amount': 1.04, '__init__': <function employee.__init__ at 0x000001F884A90F78>, 'fullname': <function employee.fullname at 0x000001F884A908B8>, 'salary_raise': <function employee.salary_raise at 0x000001F884A90AF8>, '__dict__': <attribute '__dict__' of 'employee' objects>, '__weakref__': <attribute '__weakref__' of 'employee' objects>, '__doc__': None}\n",
      "1.05\n",
      "1.05\n",
      "1.05\n"
     ]
    }
   ],
   "source": [
    "class employee:\n",
    "    \n",
    "    raise_amount = 1.04 # class variable \n",
    "    \n",
    "    def __init__(self, first_name, last_name, salary):\n",
    "        self.first_name = first_name\n",
    "        self.last_name = last_name\n",
    "        self.salary = salary\n",
    "        self.email = first_name + '.' + last_name + '@company.com'\n",
    "        \n",
    "    def fullname(self):\n",
    "        return '{} {}'.format(self.first_name,self.last_name)\n",
    "    \n",
    "    def salary_raise(self):\n",
    "        self.salary = int(self.salary * self.raise_amount) # class.class variable\n",
    "\n",
    "emp1 = employee('Rohan','Srivastwa',25000)\n",
    "emp2 = employee('User','Test',50000)\n",
    "\n",
    "print(emp1.salary)\n",
    "emp1.salary_raise()\n",
    "print(emp1.salary)\n",
    "\n",
    "\n",
    "# printing namespace of emp1\n",
    "print('namespace of emp1 : ',emp1.__dict__,end='\\n\\n')\n",
    "\n",
    "# namespace of employee class\n",
    "print('namespace of employee class : ',employee.__dict__)\n",
    "\n",
    "employee.raise_amount = 1.05\n",
    "\n",
    "print(employee.raise_amount)\n",
    "print(emp1.raise_amount)\n",
    "print(emp2.raise_amount)"
   ]
  },
  {
   "cell_type": "markdown",
   "metadata": {},
   "source": [
    "we can see from previous code that class variable 'raise_amount' has been in namespace of employee class but not  in emp1(instance) of class.\n",
    "This value is taken by instances of class when we ask them."
   ]
  },
  {
   "cell_type": "code",
   "execution_count": null,
   "metadata": {},
   "outputs": [
    {
     "name": "stdout",
     "output_type": "stream",
     "text": [
      "25000\n",
      "26000\n",
      "{'first_name': 'Rohan', 'last_name': 'Srivastwa', 'salary': 26000, 'email': 'Rohan.Srivastwa@company.com'}\n",
      "\n",
      "{'__module__': '__main__', 'raise_amount': 1.04, '__init__': <function employee.__init__ at 0x000001F884A7CB88>, 'fullname': <function employee.fullname at 0x000001F884A7C678>, 'salary_raise': <function employee.salary_raise at 0x000001F884A7C948>, '__dict__': <attribute '__dict__' of 'employee' objects>, '__weakref__': <attribute '__weakref__' of 'employee' objects>, '__doc__': None}\n",
      "1.04\n",
      "1.05\n",
      "1.04\n"
     ]
    }
   ],
   "source": [
    "class employee:\n",
    "    \n",
    "    raise_amount = 1.04 # class variable \n",
    "    \n",
    "    def __init__(self, first_name, last_name, salary):\n",
    "        self.first_name = first_name\n",
    "        self.last_name = last_name\n",
    "        self.salary = salary\n",
    "        self.email = first_name + '.' + last_name + '@company.com'\n",
    "        \n",
    "    def fullname(self):\n",
    "        return '{} {}'.format(self.first_name,self.last_name)\n",
    "    \n",
    "    def salary_raise(self):\n",
    "        self.salary = int(self.salary * self.raise_amount) # class.class variable\n",
    "\n",
    "emp1 = employee('Rohan','Srivastwa',25000)\n",
    "emp2 = employee('User','Test',50000)\n",
    "\n",
    "print(emp1.salary)\n",
    "emp1.salary_raise()\n",
    "print(emp1.salary)\n",
    "\n",
    "\n",
    "# printing namespace of emp1\n",
    "print(emp1.__dict__,end='\\n\\n')\n",
    "\n",
    "# namespace of employee class\n",
    "print(employee.__dict__)\n",
    "\n",
    "emp1.raise_amount = 1.05\n",
    "\n",
    "print(employee.raise_amount)\n",
    "print(emp1.raise_amount)\n",
    "print(emp2.raise_amount)"
   ]
  },
  {
   "cell_type": "code",
   "execution_count": null,
   "metadata": {},
   "outputs": [],
   "source": [
    "def __init__(self):\n",
    "    pass"
   ]
  },
  {
   "cell_type": "code",
   "execution_count": null,
   "metadata": {},
   "outputs": [],
   "source": [
    "??__init__"
   ]
  },
  {
   "cell_type": "code",
   "execution_count": null,
   "metadata": {},
   "outputs": [
    {
     "ename": "AttributeError",
     "evalue": "'function' object has no attribute 'next'",
     "output_type": "error",
     "traceback": [
      "\u001b[1;31m---------------------------------------------------------------------------\u001b[0m",
      "\u001b[1;31mAttributeError\u001b[0m                            Traceback (most recent call last)",
      "\u001b[1;32m<ipython-input-10-57e089f4f634>\u001b[0m in \u001b[0;36m<module>\u001b[1;34m\u001b[0m\n\u001b[0;32m      4\u001b[0m     \u001b[0mprint\u001b[0m\u001b[1;33m(\u001b[0m\u001b[0mn\u001b[0m\u001b[1;33m)\u001b[0m\u001b[1;33m\u001b[0m\u001b[1;33m\u001b[0m\u001b[0m\n\u001b[0;32m      5\u001b[0m     \u001b[0mc\u001b[0m\u001b[1;33m(\u001b[0m\u001b[0mn\u001b[0m\u001b[1;33m+\u001b[0m\u001b[1;36m1\u001b[0m\u001b[1;33m)\u001b[0m\u001b[1;33m\u001b[0m\u001b[1;33m\u001b[0m\u001b[0m\n\u001b[1;32m----> 6\u001b[1;33m \u001b[0mc\u001b[0m\u001b[1;33m.\u001b[0m\u001b[0mnext\u001b[0m\u001b[1;33m(\u001b[0m\u001b[1;33m)\u001b[0m\u001b[1;33m\u001b[0m\u001b[1;33m\u001b[0m\u001b[0m\n\u001b[0m",
      "\u001b[1;31mAttributeError\u001b[0m: 'function' object has no attribute 'next'"
     ]
    }
   ],
   "source": [
    "def c(n=1):\n",
    "    if n> 3:\n",
    "        return \n",
    "    print(n)\n",
    "    c(n+1)\n",
    "c.next()"
   ]
  },
  {
   "cell_type": "code",
   "execution_count": null,
   "metadata": {},
   "outputs": [],
   "source": []
  },
  {
   "cell_type": "code",
   "execution_count": null,
   "metadata": {},
   "outputs": [],
   "source": []
  },
  {
   "cell_type": "code",
   "execution_count": null,
   "metadata": {},
   "outputs": [],
   "source": []
  }
 ],
 "metadata": {
  "kernelspec": {
   "display_name": "Python 3",
   "language": "python",
   "name": "python3"
  },
  "language_info": {
   "codemirror_mode": {
    "name": "ipython",
    "version": 3
   },
   "file_extension": ".py",
   "mimetype": "text/x-python",
   "name": "python",
   "nbconvert_exporter": "python",
   "pygments_lexer": "ipython3",
   "version": "3.7.0"
  }
 },
 "nbformat": 4,
 "nbformat_minor": 2
}
