{
 "cells": [
  {
   "cell_type": "markdown",
   "metadata": {},
   "source": [
    "### Code optimization"
   ]
  },
  {
   "cell_type": "code",
   "execution_count": 7,
   "metadata": {},
   "outputs": [
    {
     "name": "stdout",
     "output_type": "stream",
     "text": [
      "float(value)=11.0\n"
     ]
    }
   ],
   "source": [
    "# Handling errors \n",
    "# program to cast to float\n",
    "\n",
    "# value = ()\n",
    "# value = 'ten'\n",
    "value = 11\n",
    "try:\n",
    "    print(f'{float(value)=}')\n",
    "except ValueError as e:\n",
    "    print(f'bad input: {repr(e)}')\n",
    "    print('Please enter a valid number.')    \n",
    "except TypeError as e:\n",
    "    print(f'bad input: {repr(e)}')\n",
    "    print('Please enter a valid number.')\n"
   ]
  },
  {
   "cell_type": "code",
   "execution_count": 10,
   "metadata": {},
   "outputs": [
    {
     "name": "stdout",
     "output_type": "stream",
     "text": [
      "bad input: TypeError(\"float() argument must be a string or a real number, not 'tuple'\")\n",
      "Please enter a valid number.\n"
     ]
    }
   ],
   "source": [
    "# Instead of using mutiple duplicate lines we can implement the following\n",
    "\n",
    "#value = 11\n",
    "# value = 'ten'\n",
    "value = ()\n",
    "try:\n",
    "    print(f'{float(value)=}')\n",
    "except (ValueError, TypeError) as e:\n",
    "    print(f'bad input: {repr(e)}')\n",
    "    print('Please enter a valid number.')"
   ]
  },
  {
   "cell_type": "code",
   "execution_count": null,
   "metadata": {},
   "outputs": [],
   "source": []
  }
 ],
 "metadata": {
  "kernelspec": {
   "display_name": "Python 3",
   "language": "python",
   "name": "python3"
  },
  "language_info": {
   "codemirror_mode": {
    "name": "ipython",
    "version": 3
   },
   "file_extension": ".py",
   "mimetype": "text/x-python",
   "name": "python",
   "nbconvert_exporter": "python",
   "pygments_lexer": "ipython3",
   "version": "3.11.9"
  }
 },
 "nbformat": 4,
 "nbformat_minor": 2
}
