{
 "cells": [
  {
   "cell_type": "markdown",
   "metadata": {},
   "source": [
    "pdb module is used to enter into interactive debugging mode leave normal execution of program\n",
    "\n",
    "pdb has the following commands\n",
    "p - Print the value of given expression.\n",
    "n - execute current line and move to next line.\n",
    "s - got to function call.\n",
    "c - continue execution until next breakpoint or the end of the script.\n",
    "l - list the source code around the line.\n",
    "b - set a breakpoint.\n",
    "q - to quit the dubugger.\n",
    "\n"
   ]
  },
  {
   "cell_type": "code",
   "execution_count": 2,
   "metadata": {},
   "outputs": [
    {
     "ename": "ZeroDivisionError",
     "evalue": "division by zero",
     "output_type": "error",
     "traceback": [
      "\u001b[1;31m---------------------------------------------------------------------------\u001b[0m",
      "\u001b[1;31mZeroDivisionError\u001b[0m                         Traceback (most recent call last)",
      "Cell \u001b[1;32mIn[2], line 7\u001b[0m\n\u001b[0;32m      4\u001b[0m     result \u001b[38;5;241m=\u001b[39m a\u001b[38;5;241m/\u001b[39mb\n\u001b[0;32m      5\u001b[0m     \u001b[38;5;28;01mreturn\u001b[39;00m result\n\u001b[1;32m----> 7\u001b[0m \u001b[43mmy_function\u001b[49m\u001b[43m(\u001b[49m\u001b[38;5;241;43m10\u001b[39;49m\u001b[43m,\u001b[49m\u001b[38;5;241;43m0\u001b[39;49m\u001b[43m)\u001b[49m\n",
      "Cell \u001b[1;32mIn[2], line 4\u001b[0m, in \u001b[0;36mmy_function\u001b[1;34m(a, b)\u001b[0m\n\u001b[0;32m      3\u001b[0m \u001b[38;5;28;01mdef\u001b[39;00m \u001b[38;5;21mmy_function\u001b[39m(a,b):\n\u001b[1;32m----> 4\u001b[0m     result \u001b[38;5;241m=\u001b[39m \u001b[43ma\u001b[49m\u001b[38;5;241;43m/\u001b[39;49m\u001b[43mb\u001b[49m\n\u001b[0;32m      5\u001b[0m     \u001b[38;5;28;01mreturn\u001b[39;00m result\n",
      "\u001b[1;31mZeroDivisionError\u001b[0m: division by zero"
     ]
    }
   ],
   "source": [
    "# without using pdb\n",
    "\n",
    "def my_function(a,b):\n",
    "    result = a/b\n",
    "    return result\n",
    "\n",
    "my_function(10,0)"
   ]
  },
  {
   "cell_type": "code",
   "execution_count": 5,
   "metadata": {},
   "outputs": [
    {
     "name": "stdout",
     "output_type": "stream",
     "text": [
      "> \u001b[1;32mc:\\users\\rohan\\appdata\\local\\temp\\ipykernel_26792\\458802729.py\u001b[0m(6)\u001b[0;36mmy_function\u001b[1;34m()\u001b[0m\n",
      "\n",
      "10\n",
      "0\n",
      "ZeroDivisionError: division by zero\n",
      "> \u001b[1;32mc:\\users\\rohan\\appdata\\local\\temp\\ipykernel_26792\\458802729.py\u001b[0m(6)\u001b[0;36mmy_function\u001b[1;34m()\u001b[0m\n",
      "\n",
      "--Return--\n",
      "None\n",
      "> \u001b[1;32mc:\\users\\rohan\\appdata\\local\\temp\\ipykernel_26792\\458802729.py\u001b[0m(6)\u001b[0;36mmy_function\u001b[1;34m()\u001b[0m\n",
      "\n"
     ]
    }
   ],
   "source": [
    "# with using pdb\n",
    "import pdb\n",
    "\n",
    "def my_function(a,b):\n",
    "    pdb.set_trace()\n",
    "    result = a/b\n",
    "    return result\n",
    "\n",
    "my_function(10,0)"
   ]
  },
  {
   "cell_type": "code",
   "execution_count": null,
   "metadata": {},
   "outputs": [],
   "source": [
    "'''' \n",
    "breakpoint()\n",
    " \n",
    "'''\n",
    "\n",
    "x = 10\n",
    "y = 'Hi'\n",
    "z = 'Hello'\n",
    "print(y)\n",
    "\n",
    "breakpoint()\n",
    "print(\"Nothing will be printed after breakpoint()\")\n",
    "print(z)"
   ]
  }
 ],
 "metadata": {
  "kernelspec": {
   "display_name": "Python 3",
   "language": "python",
   "name": "python3"
  },
  "language_info": {
   "codemirror_mode": {
    "name": "ipython",
    "version": 3
   },
   "file_extension": ".py",
   "mimetype": "text/x-python",
   "name": "python",
   "nbconvert_exporter": "python",
   "pygments_lexer": "ipython3",
   "version": "3.11.9"
  }
 },
 "nbformat": 4,
 "nbformat_minor": 2
}
