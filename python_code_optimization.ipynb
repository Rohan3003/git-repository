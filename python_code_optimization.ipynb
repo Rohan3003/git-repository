{
 "cells": [
  {
   "cell_type": "code",
   "execution_count": 1,
   "metadata": {},
   "outputs": [
    {
     "name": "stdout",
     "output_type": "stream",
     "text": [
      "True\n",
      "False\n"
     ]
    }
   ],
   "source": [
    "# This code has a lot of unncessary return and else\n",
    "# We will try to optimize it\n",
    "def check_name(name):\n",
    "    if name.lower() == \"bob\":\n",
    "        return True\n",
    "    else:\n",
    "        return False\n",
    "\n",
    "print(check_name(\"BOB\"))\n",
    "print(check_name(\"Sam\"))"
   ]
  },
  {
   "cell_type": "code",
   "execution_count": 3,
   "metadata": {},
   "outputs": [
    {
     "name": "stdout",
     "output_type": "stream",
     "text": [
      "True\n",
      "False\n"
     ]
    }
   ],
   "source": [
    "# Since name.lower() == \"bob\" is already a boolean expression that will be either True or False\n",
    "# So there is no point in using same thing with return True or False\n",
    "name = \"Bob\"\n",
    "print(name.lower() == \"bob\")\n",
    "\n",
    "name = \"Robin\"\n",
    "print(name.lower() == \"bob\")"
   ]
  },
  {
   "cell_type": "code",
   "execution_count": 4,
   "metadata": {},
   "outputs": [
    {
     "name": "stdout",
     "output_type": "stream",
     "text": [
      "True\n",
      "False\n"
     ]
    }
   ],
   "source": [
    "# the optimized code should be like this\n",
    "def check_name(name):\n",
    "    return name.lower() == \"bob\"\n",
    "\n",
    "print(check_name(\"Bob\"))\n",
    "print(check_name(\"SuperMan\"))"
   ]
  },
  {
   "cell_type": "code",
   "execution_count": null,
   "metadata": {},
   "outputs": [],
   "source": []
  }
 ],
 "metadata": {
  "kernelspec": {
   "display_name": "Python 3",
   "language": "python",
   "name": "python3"
  },
  "language_info": {
   "codemirror_mode": {
    "name": "ipython",
    "version": 3
   },
   "file_extension": ".py",
   "mimetype": "text/x-python",
   "name": "python",
   "nbconvert_exporter": "python",
   "pygments_lexer": "ipython3",
   "version": "3.9.13"
  },
  "orig_nbformat": 4
 },
 "nbformat": 4,
 "nbformat_minor": 2
}
