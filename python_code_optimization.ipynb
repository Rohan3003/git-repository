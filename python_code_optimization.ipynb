{
 "cells": [
  {
   "attachments": {},
   "cell_type": "markdown",
   "metadata": {},
   "source": [
    "#### Code Optimization "
   ]
  },
  {
   "cell_type": "code",
   "execution_count": 1,
   "metadata": {},
   "outputs": [
    {
     "name": "stdout",
     "output_type": "stream",
     "text": [
      "True\n",
      "False\n"
     ]
    }
   ],
   "source": [
    "# This code has a lot of unnecessary return and else\n",
    "# We will try to optimize it\n",
    "def check_name(name):\n",
    "    if name.lower() == \"bob\":\n",
    "        return True\n",
    "    else:\n",
    "        return False\n",
    "\n",
    "print(check_name(\"BOB\"))\n",
    "print(check_name(\"Sam\"))"
   ]
  },
  {
   "cell_type": "code",
   "execution_count": 3,
   "metadata": {},
   "outputs": [
    {
     "name": "stdout",
     "output_type": "stream",
     "text": [
      "True\n",
      "False\n"
     ]
    }
   ],
   "source": [
    "# Since name.lower() == \"bob\" is already a boolean expression that will be either True or False\n",
    "# So there is no point in using same thing with return True or False\n",
    "name = \"Bob\"\n",
    "print(name.lower() == \"bob\")\n",
    "\n",
    "name = \"Robin\"\n",
    "print(name.lower() == \"bob\")"
   ]
  },
  {
   "cell_type": "code",
   "execution_count": 4,
   "metadata": {},
   "outputs": [
    {
     "name": "stdout",
     "output_type": "stream",
     "text": [
      "True\n",
      "False\n"
     ]
    }
   ],
   "source": [
    "# the optimized code should be like this\n",
    "def check_name(name):\n",
    "    return name.lower() == \"bob\"\n",
    "\n",
    "print(check_name(\"Bob\"))\n",
    "print(check_name(\"SuperMan\"))"
   ]
  },
  {
   "cell_type": "code",
   "execution_count": 13,
   "metadata": {},
   "outputs": [
    {
     "data": {
      "text/plain": [
       "['Clean Code']"
      ]
     },
     "execution_count": 13,
     "metadata": {},
     "output_type": "execute_result"
    }
   ],
   "source": [
    "# function -> should have minimum number of arguments\n",
    "\n",
    "# This is bad\n",
    "def func_render_blog_post1(title, author, created_timestamp, updated_timestamp, content):\n",
    "    #......\n",
    "    pass\n",
    "\n",
    "func_render_blog_post1(\"Clean Code\", \"Nik Tomazic\", 1622148362, 1622148362, \"...\")\n",
    "\n",
    "\n",
    "#This is good\n",
    "class BlogPost:\n",
    "    def __init__(self, title, author, created_timestamp, updated_timestamp, content):\n",
    "        self.title = title\n",
    "        self.author = author\n",
    "        self.created_timestamp = created_timestamp\n",
    "        self.updated_timestamp = updated_timestamp\n",
    "        self.content = content\n",
    "\n",
    "blog_post1 = BlogPost(\"Clean Code\", \"Nik Tomazic\", 1622148362, 1622148362, \"...\")\n",
    "\n",
    "def func_render_blog_post2(blog_post) -> list:\n",
    "    #...... function statements\n",
    "    list_v = []\n",
    "    list_v.append(blog_post.title)\n",
    "    \n",
    "    return list_v\n",
    "\n",
    "func_render_blog_post2(blog_post1)"
   ]
  },
  {
   "cell_type": "code",
   "execution_count": 12,
   "metadata": {},
   "outputs": [
    {
     "ename": "TypeError",
     "evalue": "'BlogPost' object is not iterable",
     "output_type": "error",
     "traceback": [
      "\u001b[1;31m---------------------------------------------------------------------------\u001b[0m",
      "\u001b[1;31mTypeError\u001b[0m                                 Traceback (most recent call last)",
      "\u001b[1;32m<ipython-input-12-f917adb37eea>\u001b[0m in \u001b[0;36m<module>\u001b[1;34m()\u001b[0m\n\u001b[1;32m----> 1\u001b[1;33m \u001b[1;32mfor\u001b[0m \u001b[0mi\u001b[0m \u001b[1;32min\u001b[0m \u001b[0mblog_post1\u001b[0m\u001b[1;33m:\u001b[0m\u001b[1;33m\u001b[0m\u001b[0m\n\u001b[0m\u001b[0;32m      2\u001b[0m     \u001b[0mprint\u001b[0m\u001b[1;33m(\u001b[0m\u001b[0mi\u001b[0m\u001b[1;33m)\u001b[0m\u001b[1;33m\u001b[0m\u001b[0m\n",
      "\u001b[1;31mTypeError\u001b[0m: 'BlogPost' object is not iterable"
     ]
    }
   ],
   "source": []
  },
  {
   "cell_type": "code",
   "execution_count": null,
   "metadata": {},
   "outputs": [],
   "source": []
  }
 ],
 "metadata": {
  "kernelspec": {
   "display_name": "Python 3",
   "language": "python",
   "name": "python3"
  },
  "language_info": {
   "codemirror_mode": {
    "name": "ipython",
    "version": 3
   },
   "file_extension": ".py",
   "mimetype": "text/x-python",
   "name": "python",
   "nbconvert_exporter": "python",
   "pygments_lexer": "ipython3",
   "version": "3.7.0"
  },
  "orig_nbformat": 4
 },
 "nbformat": 4,
 "nbformat_minor": 2
}
