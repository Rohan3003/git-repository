{
 "cells": [
  {
   "cell_type": "code",
   "execution_count": 3,
   "metadata": {},
   "outputs": [
    {
     "name": "stderr",
     "output_type": "stream",
     "text": [
      "WARNING:root:This is a warning message with level 30\n",
      "ERROR:root:This is a error message with level 40\n",
      "CRITICAL:root:This is a critical messgae with level 50\n"
     ]
    }
   ],
   "source": [
    "import logging\n",
    "\n",
    "logging.debug(\"This is a debug message with level 10\")\n",
    "logging.info(\"This is a info message with level 20\")\n",
    "logging.warning(\"This is a warning message with level 30\")\n",
    "logging.error(\"This is a error message with level 40\")\n",
    "logging.critical(\"This is a critical messgae with level 50\")"
   ]
  },
  {
   "cell_type": "code",
   "execution_count": 4,
   "metadata": {},
   "outputs": [
    {
     "name": "stderr",
     "output_type": "stream",
     "text": [
      "WARNING:root:This will get logged\n"
     ]
    }
   ],
   "source": [
    "# logging.basicConfig(level = logging.INFO, filename = 'logs_files.log', filemode = , fo    rmat = )\n",
    "import logging\n",
    "logging.basicConfig(level = logging.INFO)\n",
    "logging.warning(\"This will get logged\")"
   ]
  },
  {
   "cell_type": "code",
   "execution_count": null,
   "metadata": {},
   "outputs": [],
   "source": [
    "\n"
   ]
  },
  {
   "cell_type": "code",
   "execution_count": null,
   "metadata": {},
   "outputs": [],
   "source": []
  }
 ],
 "metadata": {
  "kernelspec": {
   "display_name": "Python 3",
   "language": "python",
   "name": "python3"
  },
  "language_info": {
   "codemirror_mode": {
    "name": "ipython",
    "version": 3
   },
   "file_extension": ".py",
   "mimetype": "text/x-python",
   "name": "python",
   "nbconvert_exporter": "python",
   "pygments_lexer": "ipython3",
   "version": "3.7.0"
  },
  "orig_nbformat": 4
 },
 "nbformat": 4,
 "nbformat_minor": 2
}
