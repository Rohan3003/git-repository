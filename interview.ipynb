{
 "cells": [
  {
   "cell_type": "code",
   "execution_count": 3,
   "metadata": {},
   "outputs": [
    {
     "data": {
      "text/plain": [
       "[]"
      ]
     },
     "execution_count": 3,
     "metadata": {},
     "output_type": "execute_result"
    }
   ],
   "source": [
    "# what is the Output of following code \n",
    "\n",
    "languages = [\"Java\", \"C++\", \"Python\", \"JavaScript\", \"Julia\", \"Rust\"]\n",
    "for lang in languages[:]:\n",
    "    languages.remove(lang)\n",
    "\n",
    "languages"
   ]
  },
  {
   "cell_type": "code",
   "execution_count": 1,
   "metadata": {},
   "outputs": [
    {
     "ename": "UnboundLocalError",
     "evalue": "local variable 'x' referenced before assignment",
     "output_type": "error",
     "traceback": [
      "\u001b[1;31m---------------------------------------------------------------------------\u001b[0m",
      "\u001b[1;31mUnboundLocalError\u001b[0m                         Traceback (most recent call last)",
      "Cell \u001b[1;32mIn[1], line 5\u001b[0m\n\u001b[0;32m      3\u001b[0m     \u001b[39mprint\u001b[39m(x)\n\u001b[0;32m      4\u001b[0m     x \u001b[39m=\u001b[39m \u001b[39m2\u001b[39m\n\u001b[1;32m----> 5\u001b[0m func()\n",
      "Cell \u001b[1;32mIn[1], line 3\u001b[0m, in \u001b[0;36mfunc\u001b[1;34m()\u001b[0m\n\u001b[0;32m      2\u001b[0m \u001b[39mdef\u001b[39;00m \u001b[39mfunc\u001b[39m():\n\u001b[1;32m----> 3\u001b[0m     \u001b[39mprint\u001b[39m(x)\n\u001b[0;32m      4\u001b[0m     x \u001b[39m=\u001b[39m \u001b[39m2\u001b[39m\n",
      "\u001b[1;31mUnboundLocalError\u001b[0m: local variable 'x' referenced before assignment"
     ]
    }
   ],
   "source": [
    "# In this problem, error thrown is UnboundLocalError \n",
    "\n",
    "x = 1\n",
    "def func():\n",
    "    print(x)\n",
    "    x = 2\n",
    "func()"
   ]
  },
  {
   "cell_type": "code",
   "execution_count": 4,
   "metadata": {},
   "outputs": [],
   "source": [
    "import smtplib\n",
    "from email.message import EmailMessage\n",
    "\n",
    "\n",
    "def email_alert(subject, body, to ):\n",
    "    msg = EmailMessage()\n",
    "    "
   ]
  },
  {
   "cell_type": "code",
   "execution_count": 32,
   "metadata": {},
   "outputs": [],
   "source": []
  },
  {
   "cell_type": "code",
   "execution_count": 36,
   "metadata": {},
   "outputs": [
    {
     "data": {
      "text/plain": [
       "'c:/Users/rohan/Downloads/'"
      ]
     },
     "execution_count": 36,
     "metadata": {},
     "output_type": "execute_result"
    }
   ],
   "source": [
    "import os\n",
    "import shutil\n",
    "\n",
    "os.fspath(filepath)"
   ]
  },
  {
   "cell_type": "code",
   "execution_count": 35,
   "metadata": {},
   "outputs": [
    {
     "name": "stdout",
     "output_type": "stream",
     "text": [
      "Help on built-in function fspath in module nt:\n",
      "\n",
      "fspath(path)\n",
      "    Return the file system path representation of the object.\n",
      "    \n",
      "    If the object is str or bytes, then allow it to pass through as-is. If the\n",
      "    object defines __fspath__(), then return the result of that method. All other\n",
      "    types raise a TypeError.\n",
      "\n"
     ]
    }
   ],
   "source": [
    "help(os.fspath)"
   ]
  },
  {
   "cell_type": "code",
   "execution_count": null,
   "metadata": {},
   "outputs": [],
   "source": []
  },
  {
   "attachments": {},
   "cell_type": "markdown",
   "metadata": {},
   "source": [
    "### Zip in python\n",
    "Zip function will concatenate the list into a tuple of list"
   ]
  },
  {
   "cell_type": "code",
   "execution_count": 8,
   "metadata": {},
   "outputs": [
    {
     "data": {
      "text/plain": [
       "[('x', 1, 'bangalore'), ('y', 2, 'kolkata'), ('z', 3, 'delhi')]"
      ]
     },
     "execution_count": 8,
     "metadata": {},
     "output_type": "execute_result"
    }
   ],
   "source": [
    "list_name = ['x','y','z']\n",
    "list_id = [1,2,3]\n",
    "list_state = ['bangalore','kolkata','delhi']\n",
    "\n",
    "zip_list = zip(list_name, list_id, list_state)\n",
    "zip_list\n",
    "\n",
    "list(zip_list)"
   ]
  },
  {
   "cell_type": "code",
   "execution_count": 9,
   "metadata": {},
   "outputs": [
    {
     "ename": "ValueError",
     "evalue": "not enough values to unpack (expected 3, got 0)",
     "output_type": "error",
     "traceback": [
      "\u001b[1;31m---------------------------------------------------------------------------\u001b[0m",
      "\u001b[1;31mValueError\u001b[0m                                Traceback (most recent call last)",
      "Cell \u001b[1;32mIn[9], line 2\u001b[0m\n\u001b[0;32m      1\u001b[0m \u001b[39m# unzip a list\u001b[39;00m\n\u001b[1;32m----> 2\u001b[0m name_unzip, id_unzip, state_unzip \u001b[39m=\u001b[39m \u001b[39mlist\u001b[39m(\u001b[39m*\u001b[39mzip_list)\n\u001b[0;32m      4\u001b[0m \u001b[39mprint\u001b[39m(name_unzip)\n\u001b[0;32m      5\u001b[0m \u001b[39mprint\u001b[39m(id_unzip)\n",
      "\u001b[1;31mValueError\u001b[0m: not enough values to unpack (expected 3, got 0)"
     ]
    }
   ],
   "source": [
    "# unzip a list\n",
    "name_unzip, id_unzip, state_unzip = list(*zip_list)\n",
    "\n",
    "print(name_unzip)\n",
    "print(id_unzip)\n",
    "print(state_unzip)"
   ]
  },
  {
   "cell_type": "code",
   "execution_count": 10,
   "metadata": {},
   "outputs": [
    {
     "name": "stdout",
     "output_type": "stream",
     "text": [
      "1\n"
     ]
    }
   ],
   "source": [
    "# Find the output of following code\n",
    "def outer():\n",
    "    x = 1\n",
    "    def inner():\n",
    "        x = 2\n",
    "        return x\n",
    "    inner()\n",
    "    return x\n",
    "\n",
    "print(outer())"
   ]
  },
  {
   "cell_type": "code",
   "execution_count": 14,
   "metadata": {},
   "outputs": [
    {
     "name": "stdout",
     "output_type": "stream",
     "text": [
      "[2, 8]\n",
      "[3, 7]\n",
      "[8, 2]\n",
      "[9, 1]\n",
      "[1, 9]\n",
      "[7, 3]\n"
     ]
    }
   ],
   "source": [
    "# to print sum of \n",
    "\n",
    "t = 10\n",
    "num = [2,3,6,8,9,1,7]\n",
    "\n",
    "for i in range(len(num)):\n",
    "    for j in range(len(num)):\n",
    "        if num[i] != num[j]:\n",
    "            if num[i] + num[j] == t:\n",
    "                print([num[i], num[j]])"
   ]
  },
  {
   "cell_type": "code",
   "execution_count": 16,
   "metadata": {},
   "outputs": [
    {
     "name": "stdout",
     "output_type": "stream",
     "text": [
      "Hello\n",
      "we can assign print to x for printing using x\n"
     ]
    }
   ],
   "source": [
    "# print as variable\n",
    "\n",
    "x = print\n",
    "\n",
    "x(\"Hello\")\n",
    "\n",
    "x(\"we can assign print to x for printing using x\")"
   ]
  },
  {
   "cell_type": "code",
   "execution_count": 24,
   "metadata": {},
   "outputs": [
    {
     "name": "stdout",
     "output_type": "stream",
     "text": [
      "3\n",
      "1003\n",
      "ab\n"
     ]
    }
   ],
   "source": [
    "# lambda function in python\n",
    "\n",
    "def add(a,b):\n",
    "    return a + b\n",
    "\n",
    "\n",
    "print(add(1,2))\n",
    "\n",
    "add_lambda = (lambda x,y : x + y)\n",
    "\n",
    "print(add_lambda(2,1001))\n",
    "\n",
    "print(add_lambda('a','b'))\n"
   ]
  },
  {
   "cell_type": "code",
   "execution_count": 2,
   "metadata": {},
   "outputs": [],
   "source": [
    "students = [['Harry', 37.21], ['Berry', 37.21], ['Tina', 37.2], ['Akriti', 41], ['Harsh', 39]]"
   ]
  },
  {
   "cell_type": "code",
   "execution_count": 47,
   "metadata": {},
   "outputs": [],
   "source": [
    "for i in students:\n",
    "    a = []\n",
    "    b = []\n",
    "    # print(a)\n",
    "    a.append(i[0])\n",
    "    b.append(i[1])"
   ]
  },
  {
   "cell_type": "code",
   "execution_count": 48,
   "metadata": {},
   "outputs": [],
   "source": [
    "for val in range(10):\n",
    "    val"
   ]
  },
  {
   "cell_type": "code",
   "execution_count": 1,
   "metadata": {},
   "outputs": [
    {
     "name": "stdout",
     "output_type": "stream",
     "text": [
      "A-b-c\n"
     ]
    }
   ],
   "source": [
    "x = 'aBC'\n",
    "print('-'.join(x.title()))"
   ]
  },
  {
   "cell_type": "code",
   "execution_count": 8,
   "metadata": {},
   "outputs": [
    {
     "ename": "KeyboardInterrupt",
     "evalue": "",
     "output_type": "error",
     "traceback": [
      "\u001b[1;31m---------------------------------------------------------------------------\u001b[0m",
      "\u001b[1;31mKeyboardInterrupt\u001b[0m                         Traceback (most recent call last)",
      "Cell \u001b[1;32mIn[8], line 9\u001b[0m\n\u001b[0;32m      7\u001b[0m \u001b[39mif\u001b[39;00m frame \u001b[39mis\u001b[39;00m \u001b[39mnot\u001b[39;00m \u001b[39mNone\u001b[39;00m:\n\u001b[0;32m      8\u001b[0m     cv2\u001b[39m.\u001b[39mimshow(\u001b[39m\"\u001b[39m\u001b[39mframe\u001b[39m\u001b[39m\"\u001b[39m, frame)\n\u001b[1;32m----> 9\u001b[0m q \u001b[39m=\u001b[39m cv2\u001b[39m.\u001b[39;49mwaitKey(\u001b[39m1\u001b[39;49m)\n\u001b[0;32m     10\u001b[0m \u001b[39mif\u001b[39;00m q \u001b[39m==\u001b[39m \u001b[39mord\u001b[39m(\u001b[39m'\u001b[39m\u001b[39mq\u001b[39m\u001b[39m'\u001b[39m):\n\u001b[0;32m     11\u001b[0m     \u001b[39mbreak\u001b[39;00m \n",
      "\u001b[1;31mKeyboardInterrupt\u001b[0m: "
     ]
    }
   ],
   "source": [
    "import cv2\n",
    "import numpy as np \n",
    "url = 'http://192.168.29.2:8080'\n",
    "cp = cv2.VideoCapture(url)\n",
    "while(True):\n",
    "    camera, frame = cp.read()\n",
    "    if frame is not None:\n",
    "        cv2.imshow(\"frame\", frame)\n",
    "    q = cv2.waitKey(1)\n",
    "    if q == ord('q'):\n",
    "        break \n",
    "cv2.destroyAllWindows()"
   ]
  },
  {
   "cell_type": "code",
   "execution_count": 5,
   "metadata": {},
   "outputs": [
    {
     "name": "stdout",
     "output_type": "stream",
     "text": [
      "1\n",
      "2\n"
     ]
    }
   ],
   "source": [
    "a = 1\n",
    "while(True):\n",
    "    print(a)\n",
    "    a = a + 1\n",
    "    if a == 3:\n",
    "        break"
   ]
  },
  {
   "attachments": {},
   "cell_type": "markdown",
   "metadata": {},
   "source": [
    "### enumerate in python"
   ]
  },
  {
   "cell_type": "code",
   "execution_count": 11,
   "metadata": {},
   "outputs": [
    {
     "name": "stdout",
     "output_type": "stream",
     "text": [
      "1 :  Elon Musk\n",
      "2 :  Jeff Bezoz\n",
      "3 :  Sam Smith\n"
     ]
    }
   ],
   "source": [
    "if __name__ == '__main__':\n",
    "    names : list[str] = ['Elon Musk',\n",
    "                         'Jeff Bezoz',\n",
    "                         'Sam Smith',]\n",
    "    for i, name in enumerate(names):\n",
    "        print(f\"{i+1} : \", f\"{name}\")\n"
   ]
  },
  {
   "cell_type": "code",
   "execution_count": 12,
   "metadata": {},
   "outputs": [
    {
     "name": "stdout",
     "output_type": "stream",
     "text": [
      "1 :  Elon Musk\n",
      "2 :  Jeff Bezoz\n",
      "3 :  Sam Smith\n"
     ]
    }
   ],
   "source": [
    "# using start = 1 parameter in enumerate function \n",
    "if __name__ == '__main__':\n",
    "    names : list[str] = ['Elon Musk',\n",
    "                         'Jeff Bezoz',\n",
    "                         'Sam Smith',]\n",
    "    for i, name in enumerate(names, start = 1):\n",
    "        print(f\"{i} : \", f\"{name}\")\n"
   ]
  },
  {
   "cell_type": "code",
   "execution_count": 18,
   "metadata": {},
   "outputs": [
    {
     "name": "stdout",
     "output_type": "stream",
     "text": [
      "0/10\n",
      "1/10\n",
      "2/10\n",
      "3/10\n",
      "4/10\n",
      "5/10\n",
      "6/10\n",
      "7/10\n",
      "8/10\n",
      "9/10\n"
     ]
    }
   ],
   "source": [
    "# progress bar in python \n",
    "import time\n",
    "for i in range(10):\n",
    "    print(f'{i}/10')\n",
    "    time.sleep(1)"
   ]
  },
  {
   "cell_type": "code",
   "execution_count": 21,
   "metadata": {},
   "outputs": [
    {
     "name": "stderr",
     "output_type": "stream",
     "text": [
      "100%|██████████| 10/10 [00:10<00:00,  1.01s/it]\n"
     ]
    }
   ],
   "source": [
    "import time\n",
    "from tqdm import tqdm\n",
    "for i in tqdm(range(10)):\n",
    "    time.sleep(1)"
   ]
  },
  {
   "cell_type": "code",
   "execution_count": 1,
   "metadata": {},
   "outputs": [
    {
     "name": "stdout",
     "output_type": "stream",
     "text": [
      "Luigi:38\n",
      "Luigi : 38\n",
      "Luigi : 38\n",
      "Luigi : 38\n",
      "Luigi : 38\n"
     ]
    }
   ],
   "source": [
    "# 5 diffrent ways of using print \n",
    "name = 'Luigi'\n",
    "age = 38\n",
    "\n",
    "print(name + ':' + str(38))\n",
    "print(name, ':', age)\n",
    "print(f'{name} : {age}') # using f-string is the most cleanest way\n",
    "print('%s : %s' %(name,age))\n",
    "print('{} : {}'.format(name, age))"
   ]
  },
  {
   "cell_type": "code",
   "execution_count": 6,
   "metadata": {},
   "outputs": [
    {
     "name": "stdout",
     "output_type": "stream",
     "text": [
      "3\n",
      "{'a': 1, 'b': 2}\n"
     ]
    }
   ],
   "source": [
    "# get method in dictionary\n",
    "x = {'a':1,'b':2}\n",
    "y = x.get('c',3)\n",
    "print(y)\n",
    "print(x)"
   ]
  },
  {
   "cell_type": "code",
   "execution_count": 4,
   "metadata": {},
   "outputs": [
    {
     "name": "stdout",
     "output_type": "stream",
     "text": [
      "None\n"
     ]
    }
   ],
   "source": [
    "x = {'a':1,'b':2}\n",
    "y = x.get('c')\n",
    "print(y)"
   ]
  },
  {
   "cell_type": "code",
   "execution_count": 10,
   "metadata": {},
   "outputs": [
    {
     "name": "stdout",
     "output_type": "stream",
     "text": [
      "24\n",
      "6\n",
      "2\n"
     ]
    }
   ],
   "source": [
    "# function to find the factorial\n",
    "def fn(x):\n",
    "    if x == 1 or x == 0:\n",
    "        return 1\n",
    "    else:\n",
    "        return (x*fn(x-1))\n",
    "print(fn(4))\n",
    "print(fn(3))\n",
    "print(fn(2))"
   ]
  },
  {
   "cell_type": "code",
   "execution_count": null,
   "metadata": {},
   "outputs": [],
   "source": []
  }
 ],
 "metadata": {
  "kernelspec": {
   "display_name": "Python 3",
   "language": "python",
   "name": "python3"
  },
  "language_info": {
   "codemirror_mode": {
    "name": "ipython",
    "version": 3
   },
   "file_extension": ".py",
   "mimetype": "text/x-python",
   "name": "python",
   "nbconvert_exporter": "python",
   "pygments_lexer": "ipython3",
   "version": "3.9.13"
  },
  "orig_nbformat": 4
 },
 "nbformat": 4,
 "nbformat_minor": 2
}
