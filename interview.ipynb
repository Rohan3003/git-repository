{
 "cells": [
  {
   "cell_type": "code",
   "execution_count": 3,
   "metadata": {},
   "outputs": [
    {
     "data": {
      "text/plain": [
       "[]"
      ]
     },
     "execution_count": 3,
     "metadata": {},
     "output_type": "execute_result"
    }
   ],
   "source": [
    "# what is the Output of following code \n",
    "\n",
    "languages = [\"Java\", \"C++\", \"Python\", \"JavaScript\", \"Julia\", \"Rust\"]\n",
    "for lang in languages[:]:\n",
    "    languages.remove(lang)\n",
    "\n",
    "languages"
   ]
  },
  {
   "cell_type": "code",
   "execution_count": 1,
   "metadata": {},
   "outputs": [
    {
     "ename": "UnboundLocalError",
     "evalue": "local variable 'x' referenced before assignment",
     "output_type": "error",
     "traceback": [
      "\u001b[1;31m---------------------------------------------------------------------------\u001b[0m",
      "\u001b[1;31mUnboundLocalError\u001b[0m                         Traceback (most recent call last)",
      "Cell \u001b[1;32mIn[1], line 5\u001b[0m\n\u001b[0;32m      3\u001b[0m     \u001b[39mprint\u001b[39m(x)\n\u001b[0;32m      4\u001b[0m     x \u001b[39m=\u001b[39m \u001b[39m2\u001b[39m\n\u001b[1;32m----> 5\u001b[0m func()\n",
      "Cell \u001b[1;32mIn[1], line 3\u001b[0m, in \u001b[0;36mfunc\u001b[1;34m()\u001b[0m\n\u001b[0;32m      2\u001b[0m \u001b[39mdef\u001b[39;00m \u001b[39mfunc\u001b[39m():\n\u001b[1;32m----> 3\u001b[0m     \u001b[39mprint\u001b[39m(x)\n\u001b[0;32m      4\u001b[0m     x \u001b[39m=\u001b[39m \u001b[39m2\u001b[39m\n",
      "\u001b[1;31mUnboundLocalError\u001b[0m: local variable 'x' referenced before assignment"
     ]
    }
   ],
   "source": [
    "# In this problem, error thrown is UnboundLocalError \n",
    "\n",
    "x = 1\n",
    "def func():\n",
    "    print(x)\n",
    "    x = 2\n",
    "func()"
   ]
  },
  {
   "cell_type": "code",
   "execution_count": 4,
   "metadata": {},
   "outputs": [],
   "source": [
    "import smtplib\n",
    "from email.message import EmailMessage\n",
    "\n",
    "\n",
    "def email_alert(subject, body, to ):\n",
    "    msg = EmailMessage()\n",
    "    "
   ]
  },
  {
   "cell_type": "code",
   "execution_count": 32,
   "metadata": {},
   "outputs": [],
   "source": []
  },
  {
   "cell_type": "code",
   "execution_count": 36,
   "metadata": {},
   "outputs": [
    {
     "data": {
      "text/plain": [
       "'c:/Users/rohan/Downloads/'"
      ]
     },
     "execution_count": 36,
     "metadata": {},
     "output_type": "execute_result"
    }
   ],
   "source": [
    "import os\n",
    "import shutil\n",
    "\n",
    "os.fspath(filepath)"
   ]
  },
  {
   "cell_type": "code",
   "execution_count": 35,
   "metadata": {},
   "outputs": [
    {
     "name": "stdout",
     "output_type": "stream",
     "text": [
      "Help on built-in function fspath in module nt:\n",
      "\n",
      "fspath(path)\n",
      "    Return the file system path representation of the object.\n",
      "    \n",
      "    If the object is str or bytes, then allow it to pass through as-is. If the\n",
      "    object defines __fspath__(), then return the result of that method. All other\n",
      "    types raise a TypeError.\n",
      "\n"
     ]
    }
   ],
   "source": [
    "help(os.fspath)"
   ]
  },
  {
   "cell_type": "code",
   "execution_count": null,
   "metadata": {},
   "outputs": [],
   "source": []
  }
 ],
 "metadata": {
  "kernelspec": {
   "display_name": "Python 3",
   "language": "python",
   "name": "python3"
  },
  "language_info": {
   "codemirror_mode": {
    "name": "ipython",
    "version": 3
   },
   "file_extension": ".py",
   "mimetype": "text/x-python",
   "name": "python",
   "nbconvert_exporter": "python",
   "pygments_lexer": "ipython3",
   "version": "3.9.13"
  },
  "orig_nbformat": 4
 },
 "nbformat": 4,
 "nbformat_minor": 2
}
